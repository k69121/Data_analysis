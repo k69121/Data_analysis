{
  "cells": [
    {
      "cell_type": "markdown",
      "metadata": {
        "id": "RRek1Z_6Dmc1"
      },
      "source": [
        "# Numpy 실습\n",
        "\n",
        "이번 시간에는 Numpy 코드를 직접 작성해보고 응용하는 것을 목표한다."
      ]
    },
    {
      "cell_type": "code",
      "execution_count": 4,
      "metadata": {
        "id": "HXrQPb5rDb9p"
      },
      "outputs": [],
      "source": [
        "int_data = [10,20,30,40,50]\n",
        "float_data = [1.5, 2.5, 3.5, 4.5, 5.5]\n",
        "str_data = ['박정현','김대로','새우깡','배고파','밥먹자']"
      ]
    },
    {
      "cell_type": "code",
      "execution_count": 5,
      "metadata": {},
      "outputs": [],
      "source": [
        "import numpy as np"
      ]
    },
    {
      "cell_type": "markdown",
      "metadata": {
        "id": "O_ds_sCCEI0J"
      },
      "source": [
        "## 1. 주어진 list를 활용해 ndarray 만들기\n",
        "\n",
        "- int_data\n",
        "- float_data\n",
        "- str_data\n",
        " \n",
        "위 3가지 리스트를 이용하여 ndarray를 만들어 본다.\n",
        "\n",
        "**요구사항 : array 제작 후 크기를 특정해보자.**"
      ]
    },
    {
      "cell_type": "code",
      "execution_count": 6,
      "metadata": {
        "id": "Crn8BIRLFFBz"
      },
      "outputs": [
        {
          "name": "stdout",
          "output_type": "stream",
          "text": [
            "[10 20 30 40 50] (5,)\n"
          ]
        }
      ],
      "source": [
        "# here your code...\n",
        "arr1 = np.array(int_data)\n",
        "print(arr1, arr1.shape)"
      ]
    },
    {
      "cell_type": "code",
      "execution_count": 7,
      "metadata": {
        "id": "eOIOJWmqFGZP"
      },
      "outputs": [
        {
          "name": "stdout",
          "output_type": "stream",
          "text": [
            "[1.5 2.5 3.5 4.5 5.5] (5,)\n"
          ]
        }
      ],
      "source": [
        "# here your code...\n",
        "arr2 = np.array(float_data)\n",
        "print(arr2, arr2.shape)"
      ]
    },
    {
      "cell_type": "code",
      "execution_count": 8,
      "metadata": {
        "id": "yOo1lewcFGHf"
      },
      "outputs": [
        {
          "name": "stdout",
          "output_type": "stream",
          "text": [
            "['박정현' '김대로' '새우깡' '배고파' '밥먹자'] (5,)\n"
          ]
        }
      ],
      "source": [
        "# here your code...\n",
        "arr3 = np.array(str_data)\n",
        "print(arr3, arr3.shape )"
      ]
    },
    {
      "cell_type": "markdown",
      "metadata": {
        "id": "Z_tDB-S0Eflc"
      },
      "source": [
        "### 1-1. 직접 list를 통해 ndarray 만들기\n",
        "\n",
        "자신이 원하는 list를 직접 array에 넣어 풀어보자.\n",
        "\n",
        "**요구사항 : 1차원의 정수형, 2차원의 실수형, 3차원의 여러가지 자료형 각 1개 만들고 크기 구하기.**"
      ]
    },
    {
      "cell_type": "code",
      "execution_count": 9,
      "metadata": {
        "id": "rP_WInttEu3j"
      },
      "outputs": [
        {
          "name": "stdout",
          "output_type": "stream",
          "text": [
            "[1 2 3 4 5] (5,)\n"
          ]
        }
      ],
      "source": [
        "# here your code...\n",
        "arr1 = np.array([1,2,3,4,5])\n",
        "print(arr1, arr1.shape)"
      ]
    },
    {
      "cell_type": "code",
      "execution_count": 10,
      "metadata": {
        "id": "dzWfHNeGFD7j"
      },
      "outputs": [
        {
          "name": "stdout",
          "output_type": "stream",
          "text": [
            "[[ 1  2  3  4  5]\n",
            " [ 6  7  8  9 10]] (2, 5)\n"
          ]
        }
      ],
      "source": [
        "# here your code...\n",
        "arr2 = np.array([[1,2,3,4,5],[6,7,8,9,10]])\n",
        "print(arr2, arr2.shape)"
      ]
    },
    {
      "cell_type": "code",
      "execution_count": 40,
      "metadata": {
        "id": "Pxi1vd-gFDxg"
      },
      "outputs": [
        {
          "name": "stdout",
          "output_type": "stream",
          "text": [
            "[[[ 1  2  3  4  5]\n",
            "  [ 6  7  8  9 10]\n",
            "  [11 23 13 41 15]\n",
            "  [33 44 55 66 77]]],(1, 4, 5)\n"
          ]
        }
      ],
      "source": [
        "# here your code...\n",
        "arr3 = np.array([[[1,2,3,4,5],[6,7,8,9,10],[11,23,13,41,15],[33,44,55,66,77]]])\n",
        "\n",
        "print(f\"{arr3},{arr3.shape}\")"
      ]
    },
    {
      "cell_type": "markdown",
      "metadata": {
        "id": "Q3ela_qLEvoD"
      },
      "source": [
        "# 2. Numpy를 이용해 0과 1만 있는 array 만들기\n",
        "\n",
        "이전 시간 우리는 모든 요소가 0인 array, 모든 요소가 1인 array를 제작해봤다.\n",
        "\n",
        "이를 응용하여 0과 1인 array를 제작한다.\n",
        "\n",
        "**요구사항 : 0인 요소 5개 1인 요소 5개의 2차원 array 만들기(행 수는 자유)** "
      ]
    },
    {
      "cell_type": "code",
      "execution_count": 12,
      "metadata": {
        "id": "1TRYQbINF0f_"
      },
      "outputs": [
        {
          "name": "stdout",
          "output_type": "stream",
          "text": [
            "[[0. 0. 0. 0. 0.]\n",
            " [1. 1. 1. 1. 1.]]\n"
          ]
        }
      ],
      "source": [
        "# here your code...\n",
        "zeor1 = np.array([np.zeros(5),np.ones(5)])\n",
        "print(f\"{zeor1}\")"
      ]
    },
    {
      "cell_type": "markdown",
      "metadata": {
        "id": "Kx0eQsl2LdlJ"
      },
      "source": [
        "## 2-1. random한 array를 만들어 사칙연산하기\n",
        "\n",
        "1. random한 array를 만든다 (차원은 자유)\n",
        "2. 사칙연산을 수행한다.\n",
        "\n",
        "* 복습\n",
        "\n",
        "- random.rand() : 이상한 소수 파파박\n",
        "    - random.rand(3,5) : 크기가 3 * 5인 랜덤 array 리턴\n",
        "    - random.rand(3,5,5) : 크기가 3 5 5인 랜덤 array \n",
        "- random.randn() : 0 ~ 1범위의 정규분포 리턴\n",
        "    - random.randn(3,5) : 크기가 3 * 5인 랜덤 array 리턴\n",
        "    - random.randn(3,5,5) : 크기가 3 5 5인 랜덤 array  \n",
        "- random.randint() : 지정한 범위의 랜덤 정수 리턴\n",
        "    - random.randint(0,10,10) : 0 ~ 10까지 10개 만들기 => 이때 같은 숫자 여러개 나올 수 있음\n",
        "    - random.randint(low = 3) : 0 ~ 3까지 랜덤 정수 1개 리턴\n",
        "    - random.randint(low =3, high = 5) : 3 ~ 5 까지 랜덤 정수 1개 리턴\n",
        "    - random.randint(0,10,10) : 0 ~ 10까지 랜덤 정수 10개 리턴"
      ]
    },
    {
      "cell_type": "code",
      "execution_count": 41,
      "metadata": {
        "id": "9hSUhtFGLmZu"
      },
      "outputs": [
        {
          "name": "stdout",
          "output_type": "stream",
          "text": [
            "[1 2 2 0 1],\n",
            " [[0.98867129 0.65043644 0.51042923 0.6585938  0.5127523 ]\n",
            " [0.43019695 0.86996839 0.31779532 0.84241633 0.1335709 ]\n",
            " [0.07470328 0.42667192 0.01785959 0.11285671 0.82841433]]\n"
          ]
        }
      ],
      "source": [
        "# 정수형 랜덤 배열 만들기\n",
        "# here your code...\n",
        "arr1 = np.random.randint(0,3,5)\n",
        "arr2 = np.random.rand(3,5)\n",
        "print(f\"{arr1},\\n {arr2}\")"
      ]
    },
    {
      "cell_type": "code",
      "execution_count": 14,
      "metadata": {
        "id": "S2G1_d0ZN7xf"
      },
      "outputs": [
        {
          "data": {
            "text/plain": [
              "array([[0.75057703, 1.57907307, 0.91557419, 0.38926684, 0.93183676],\n",
              "       [0.1712721 , 0.86386094, 1.02095901, 0.40824078, 1.18447894],\n",
              "       [1.07668995, 0.3905109 , 0.93149595, 1.29132766, 1.69398263]])"
            ]
          },
          "execution_count": 14,
          "metadata": {},
          "output_type": "execute_result"
        }
      ],
      "source": [
        "# here your code... +\n",
        "arr3 = arr1 + arr2\n",
        "arr3"
      ]
    },
    {
      "cell_type": "code",
      "execution_count": 15,
      "metadata": {
        "id": "sC6oVX1HN9C6"
      },
      "outputs": [
        {
          "data": {
            "text/plain": [
              "array([[-0.66992825, -0.41577358, -0.09326892, -0.17843443, -0.02119138],\n",
              "       [ 0.0510407 , -0.14123845, -0.68223664,  0.39535985, -0.05442918],\n",
              "       [-0.43080557, -0.09108898, -0.05232391,  0.11000367,  0.25264567]])"
            ]
          },
          "execution_count": 15,
          "metadata": {},
          "output_type": "execute_result"
        }
      ],
      "source": [
        "# here your code... -\n",
        "arr3 = arr1 - arr2\n",
        "arr3"
      ]
    },
    {
      "cell_type": "code",
      "execution_count": 16,
      "metadata": {
        "id": "6W7OiJtlN8qe"
      },
      "outputs": [
        {
          "data": {
            "text/plain": [
              "array([[0.02864051, 0.58015103, 0.20739425, 0.02992246, 0.21696767],\n",
              "       [0.00668224, 0.18157686, 0.14422762, 0.00258778, 0.35000696],\n",
              "       [0.24341695, 0.03605039, 0.21623673, 0.41385658, 0.70143683]])"
            ]
          },
          "execution_count": 16,
          "metadata": {},
          "output_type": "execute_result"
        }
      ],
      "source": [
        "# here your code... *\n",
        "arr3 = arr1 * arr2\n",
        "arr3"
      ]
    },
    {
      "cell_type": "code",
      "execution_count": 17,
      "metadata": {
        "id": "63-BNCRhN8m6"
      },
      "outputs": [
        {
          "data": {
            "text/plain": [
              "array([[5.67747147e-02, 5.83152338e-01, 8.15097282e-01, 3.71379146e-01,\n",
              "        9.55528316e-01],\n",
              "       [1.84904117e+00, 7.18956251e-01, 1.98874611e-01, 6.23868199e+01,\n",
              "        9.12133623e-01],\n",
              "       [4.28448620e-01, 6.21723423e-01, 8.93631122e-01, 1.18623793e+00,\n",
              "        1.35057127e+00]])"
            ]
          },
          "execution_count": 17,
          "metadata": {},
          "output_type": "execute_result"
        }
      ],
      "source": [
        "# here your code... /\n",
        "arr3 = arr1 / arr2\n",
        "arr3"
      ]
    },
    {
      "cell_type": "markdown",
      "metadata": {
        "id": "ZTiRQJ4cOLTF"
      },
      "source": [
        "## 2-2. 브로드 캐스트 실습하기\n",
        "\n",
        "**array가 같은 크기를 가져야 서로 연산이 가능하다고 했지만,**\n",
        "\n",
        "numpy에서는 브로드캐스트라는 기능을 제공한다.\n",
        "\n",
        "브로드캐스트란, **서로 크기가 다른 array가 연산이 가능하게끔 하는 것이다.**\n",
        "\n",
        "1차원 array * 2차원 array 해보기"
      ]
    },
    {
      "cell_type": "code",
      "execution_count": 18,
      "metadata": {
        "id": "y0uYA_EzORng"
      },
      "outputs": [
        {
          "data": {
            "text/plain": [
              "array([[ 7,  9, 11, 13, 15],\n",
              "       [12, 14, 16, 18, 20]])"
            ]
          },
          "execution_count": 18,
          "metadata": {},
          "output_type": "execute_result"
        }
      ],
      "source": [
        "# here your code...\n",
        "arr1 = np.array([1,2,3,4,5])\n",
        "arr2 = np.array([[6,7,8,9,10],[11,12,13,14,15]])\n",
        "arr1 + arr2"
      ]
    },
    {
      "cell_type": "markdown",
      "metadata": {
        "id": "ADeItl72OXOs"
      },
      "source": [
        "## 2-3. array와 스칼라 연산\n",
        "\n",
        "array에 어떤수를 곱해 0을 만들어 보자!"
      ]
    },
    {
      "cell_type": "code",
      "execution_count": 19,
      "metadata": {
        "id": "bi9AS1aBOWlQ"
      },
      "outputs": [
        {
          "data": {
            "text/plain": [
              "array([0, 0, 0, 0, 0])"
            ]
          },
          "execution_count": 19,
          "metadata": {},
          "output_type": "execute_result"
        }
      ],
      "source": [
        "# here your code...\n",
        "arr1*0"
      ]
    },
    {
      "cell_type": "markdown",
      "metadata": {
        "id": "Gw8Dp3v2OsLC"
      },
      "source": [
        "# 3. Array 인덱싱\n",
        "numpy에서 사용되는 인덱싱은 기본적으로 python 인덱싱과 동일하다.\n",
        "\n",
        "**이때, python에서와 같이 1번째로 시작하는 것이 아니라 0번째로 시작하는 것에 주의한다.**"
      ]
    },
    {
      "cell_type": "markdown",
      "metadata": {
        "id": "orPUgYnaOzOy"
      },
      "source": [
        "## 3-1. array를 만들어 N번째 요소 가져오기\n",
        "\n",
        "0 ~ 10까지의 array를 만들어 주어진 번호에 맞는 요소를 구해보자\n",
        "\n",
        "요구사항 : N = 3 , M = 7이며, 구하고자 하는 값은 3번째 요소, 7번째 요소, 3부터7까지의 모든 요소 이다."
      ]
    },
    {
      "cell_type": "code",
      "execution_count": 20,
      "metadata": {
        "colab": {
          "base_uri": "https://localhost:8080/"
        },
        "id": "-lBROVDGPLa7",
        "outputId": "d7b513ea-16b0-493a-d0dc-c231a99bb0d2"
      },
      "outputs": [
        {
          "name": "stdout",
          "output_type": "stream",
          "text": [
            "3,\n",
            ",7,\n",
            ",[3 4 5 6] \n"
          ]
        }
      ],
      "source": [
        "N, M = 3, 7\n",
        "# here your code...\n",
        "arr1 = np.array([0,1,2,3,4,5,6,7,8,9,10])\n",
        "\n",
        "print(f\"{arr1[3]},\\n,{arr1[7]},\\n,{arr1[3:7]} \")\n"
      ]
    },
    {
      "cell_type": "markdown",
      "metadata": {
        "id": "o6SU4hmmPX5P"
      },
      "source": [
        "## 3-2. 2차원 array를 만들어 요소 가져오기\n",
        "\n",
        "1. N행의 모든 요소 가져오기\n",
        "2. M열의 모든 요소 가져오기\n",
        "3. N행의 M열 요소 가져오기"
      ]
    },
    {
      "cell_type": "code",
      "execution_count": 21,
      "metadata": {
        "id": "p1XRXjK2PlIf"
      },
      "outputs": [
        {
          "name": "stdout",
          "output_type": "stream",
          "text": [
            "[[0.32908062 0.62563772 0.68023749 0.38928742 0.45606026 0.56581843\n",
            "  0.06612532]\n",
            " [0.7796618  0.6279397  0.68455675 0.22772851 0.70735853 0.69919068\n",
            "  0.02684735]\n",
            " [0.7967406  0.40753258 0.88229176 0.18147203 0.08870659 0.94710623\n",
            "  0.85545976]],\n",
            "\n",
            ",[[0.7967406  0.40753258 0.88229176 0.18147203 0.08870659 0.94710623\n",
            "  0.85545976]],\n",
            "\n",
            ",[[0.06612532]\n",
            " [0.02684735]\n",
            " [0.85545976]],\n",
            "\n",
            ",[[0.85545976]]\n"
          ]
        }
      ],
      "source": [
        "# here your code..\n",
        "arr4 = np.random.rand(3,7)\n",
        "\n",
        "\n",
        "print(f\"{arr4},\\n\\n,{arr4[2:3,:]},\\n\\n,{arr4[:,6:7]},\\n\\n,{arr4[2:3,6:7]}\")"
      ]
    },
    {
      "cell_type": "markdown",
      "metadata": {
        "id": "0dXM8CS0P6QJ"
      },
      "source": [
        "# 4. Array boolean 인덱싱 (aka. 마스크)\n",
        "\n",
        "위에서 이용한 다차원의 인덱싱을 응용하여 boolean 인덱싱을 할 수 있다.\n",
        "\n",
        "해당 기능은 주로 마스크라고 이야기하는데, boolean인덱싱을 통해 만들어낸 array를 통해\n",
        "\n",
        "우리가 원하는 행 또는 열의 값만 뽑아낼 수 있다.\n",
        "\n",
        "**즉, 마스크처럼 우리가 가리고 싶은 부분은 가리고, 원하는 요소만 꺼낼 수 있다.**"
      ]
    },
    {
      "cell_type": "markdown",
      "metadata": {
        "id": "673gHiB2QCDE"
      },
      "source": [
        "원하는 문자열 형태의 array를 만들고 이를 활용해 인덱싱 해보자"
      ]
    },
    {
      "cell_type": "code",
      "execution_count": 22,
      "metadata": {
        "id": "ObcGkheqQOZm"
      },
      "outputs": [
        {
          "data": {
            "text/plain": [
              "array([[-1.88920259, -0.45643068, -0.42086786,  0.05576428],\n",
              "       [ 0.23810206,  0.61114621, -0.93980852,  0.98039688],\n",
              "       [ 0.20007769, -0.8953573 ,  0.26766831,  0.28409541],\n",
              "       [ 1.00562049,  1.14254005,  0.18150722, -1.56282111],\n",
              "       [ 1.24842396,  0.07658794,  0.69214907,  0.19067282],\n",
              "       [-0.19277595,  2.08016494,  0.03597558, -0.45970957],\n",
              "       [ 0.74030835, -1.55704753, -1.72730586,  1.38851169],\n",
              "       [ 0.11832892, -0.20559736,  0.60848205,  2.38667078],\n",
              "       [ 0.10297978,  0.28971086,  1.43113696, -0.24202707]])"
            ]
          },
          "execution_count": 22,
          "metadata": {},
          "output_type": "execute_result"
        }
      ],
      "source": [
        "rand_arr = np.random.randn(9,4)\n",
        "names = np.array(['박정현','김대로','공지환','이수원','이지민','박민서','정지우','나지성','정소영'])\n",
        "rand_arr"
      ]
    },
    {
      "cell_type": "code",
      "execution_count": 42,
      "metadata": {
        "id": "wNLU8konQLH3"
      },
      "outputs": [
        {
          "data": {
            "text/plain": [
              "array([[-1.88920259, -0.45643068],\n",
              "       [ 0.23810206,  0.61114621],\n",
              "       [ 0.20007769, -0.8953573 ],\n",
              "       [ 1.00562049,  1.14254005],\n",
              "       [ 1.24842396,  0.07658794],\n",
              "       [-0.19277595,  2.08016494],\n",
              "       [ 0.74030835, -1.55704753],\n",
              "       [ 0.11832892, -0.20559736],\n",
              "       [ 0.10297978,  0.28971086]])"
            ]
          },
          "execution_count": 42,
          "metadata": {},
          "output_type": "execute_result"
        }
      ],
      "source": [
        "# here your code...\n",
        "str_arr = np.array([\"1\",\"1\",\"2\",\"3\"])\n",
        "\n",
        "mask = (str_arr == \"1\")\n",
        "mask\n",
        "\n",
        "rand_arr[:,mask]"
      ]
    },
    {
      "cell_type": "markdown",
      "metadata": {
        "id": "Atl6NQ_6RmdK"
      },
      "source": [
        "## 4-1. 논리 연산자를 이용해서 인덱싱 하기\n",
        "\n",
        "논리 연산자 : Python에서는 &, |(shift + \\키) 등이 있다. 이를 활용하자"
      ]
    },
    {
      "cell_type": "code",
      "execution_count": 24,
      "metadata": {
        "id": "EVDIAhdKR3n5"
      },
      "outputs": [
        {
          "data": {
            "text/plain": [
              "array([[ 0.74030835, -1.55704753, -1.72730586,  1.38851169],\n",
              "       [ 0.10297978,  0.28971086,  1.43113696, -0.24202707]])"
            ]
          },
          "execution_count": 24,
          "metadata": {},
          "output_type": "execute_result"
        }
      ],
      "source": [
        "# here your code...\n",
        "rand_arr[(names == '정지우') | (names == '정소영'), :]"
      ]
    },
    {
      "cell_type": "markdown",
      "metadata": {
        "id": "u_rFPOvnSGas"
      },
      "source": [
        "# 5. 통계 함수를 사용해 array의 값의 통계 구하기\n",
        "\n",
        "- sum()\n",
        "- max()\n",
        "- min()\n",
        "- mean()\n",
        "- std()"
      ]
    },
    {
      "cell_type": "code",
      "execution_count": 25,
      "metadata": {
        "colab": {
          "base_uri": "https://localhost:8080/"
        },
        "id": "1bY5MhxaSTLT",
        "outputId": "7575b18a-4ca0-4e98-cd55-611adf9e6668"
      },
      "outputs": [],
      "source": [
        "arr1 = np.array([[-0.30008319,  0.65933097, -1.09470069],\n",
        "       [-0.76411229,  1.02447394, -0.14375934],\n",
        "       [ 1.5411538 , -0.56123682, -1.35981521],\n",
        "       [ 1.9785256 ,  1.62245077,  0.52825544],\n",
        "       [-1.45083326, -0.41862805,  0.71180435]])"
      ]
    },
    {
      "cell_type": "code",
      "execution_count": 26,
      "metadata": {
        "id": "T_Pz91eBSaPd"
      },
      "outputs": [
        {
          "data": {
            "text/plain": [
              "1.97282602"
            ]
          },
          "execution_count": 26,
          "metadata": {},
          "output_type": "execute_result"
        }
      ],
      "source": [
        "# here your code...\n",
        "np.sum(arr1)"
      ]
    },
    {
      "cell_type": "code",
      "execution_count": 27,
      "metadata": {
        "id": "ig8Da_jaSdet"
      },
      "outputs": [
        {
          "data": {
            "text/plain": [
              "1.9785256"
            ]
          },
          "execution_count": 27,
          "metadata": {},
          "output_type": "execute_result"
        }
      ],
      "source": [
        "# here your code...\n",
        "np.max(arr1)"
      ]
    },
    {
      "cell_type": "code",
      "execution_count": 28,
      "metadata": {
        "id": "5X2QNarWSdvt"
      },
      "outputs": [
        {
          "data": {
            "text/plain": [
              "-1.45083326"
            ]
          },
          "execution_count": 28,
          "metadata": {},
          "output_type": "execute_result"
        }
      ],
      "source": [
        "# here your code...\n",
        "np.min(arr1)"
      ]
    },
    {
      "cell_type": "code",
      "execution_count": 29,
      "metadata": {
        "id": "p4XBF1UDSebG"
      },
      "outputs": [
        {
          "data": {
            "text/plain": [
              "0.13152173466666667"
            ]
          },
          "execution_count": 29,
          "metadata": {},
          "output_type": "execute_result"
        }
      ],
      "source": [
        "# here your code...\n",
        "np.mean(arr1)"
      ]
    },
    {
      "cell_type": "code",
      "execution_count": 30,
      "metadata": {
        "id": "PIS7tfxUSes1"
      },
      "outputs": [
        {
          "data": {
            "text/plain": [
              "1.0729952978262813"
            ]
          },
          "execution_count": 30,
          "metadata": {},
          "output_type": "execute_result"
        }
      ],
      "source": [
        "# here your code...\n",
        "np.std(arr1)"
      ]
    },
    {
      "cell_type": "markdown",
      "metadata": {
        "id": "4cice0DHSfFv"
      },
      "source": [
        "## 5-1. 전체 성분의 최소값, 최대값이 위치한 인덱스 반환하기\n",
        "\n",
        "- argmin() : 최소값이 있는 인덱스 반환\n",
        "- argmax() : 최대값이 있는 인덱스 반환 "
      ]
    },
    {
      "cell_type": "code",
      "execution_count": 31,
      "metadata": {
        "id": "34YMjCXKSrqZ"
      },
      "outputs": [
        {
          "data": {
            "text/plain": [
              "12"
            ]
          },
          "execution_count": 31,
          "metadata": {},
          "output_type": "execute_result"
        }
      ],
      "source": [
        "# here your code...\n",
        "np.argmin(arr1)"
      ]
    },
    {
      "cell_type": "code",
      "execution_count": 32,
      "metadata": {},
      "outputs": [
        {
          "data": {
            "text/plain": [
              "9"
            ]
          },
          "execution_count": 32,
          "metadata": {},
          "output_type": "execute_result"
        }
      ],
      "source": [
        "np.argmax(arr1)"
      ]
    },
    {
      "cell_type": "markdown",
      "metadata": {
        "id": "bmccdpMfSuuB"
      },
      "source": [
        "## 5-2. 처음부터 각 성분의 누적합, 누적곱 계산\n",
        "\n",
        "- cumsum() : 누적 합\n",
        "- cumprod() : 누적 곱"
      ]
    },
    {
      "cell_type": "code",
      "execution_count": 33,
      "metadata": {
        "id": "yEjgo7R9S4gw"
      },
      "outputs": [
        {
          "data": {
            "text/plain": [
              "array([-0.30008319,  0.35924778, -0.73545291, -1.4995652 , -0.47509126,\n",
              "       -0.6188506 ,  0.9223032 ,  0.36106638, -0.99874883,  0.97977677,\n",
              "        2.60222754,  3.13048298,  1.67964972,  1.26102167,  1.97282602])"
            ]
          },
          "execution_count": 33,
          "metadata": {},
          "output_type": "execute_result"
        }
      ],
      "source": [
        "# here your code...\n",
        "np.cumsum(arr1)"
      ]
    },
    {
      "cell_type": "code",
      "execution_count": 34,
      "metadata": {},
      "outputs": [
        {
          "data": {
            "text/plain": [
              "array([-0.30008319, -0.19785414,  0.21659106, -0.16549989, -0.16955033,\n",
              "        0.02437444,  0.03756477, -0.02108273,  0.02866862,  0.05672159,\n",
              "        0.09202799,  0.04861429, -0.07053122,  0.02952635,  0.02101698])"
            ]
          },
          "execution_count": 34,
          "metadata": {},
          "output_type": "execute_result"
        }
      ],
      "source": [
        "np.cumprod(arr1)"
      ]
    },
    {
      "cell_type": "markdown",
      "metadata": {
        "id": "Qrck_akCTBRH"
      },
      "source": [
        "# 6. array 정렬 하기\n",
        "\n",
        "오름차순, 내림차순 정렬을 해보자"
      ]
    },
    {
      "cell_type": "code",
      "execution_count": 35,
      "metadata": {
        "id": "Sp4jpsQcTHD7"
      },
      "outputs": [
        {
          "data": {
            "text/plain": [
              "array([[-1.09470069, -0.30008319,  0.65933097],\n",
              "       [-0.76411229, -0.14375934,  1.02447394],\n",
              "       [-1.35981521, -0.56123682,  1.5411538 ],\n",
              "       [ 0.52825544,  1.62245077,  1.9785256 ],\n",
              "       [-1.45083326, -0.41862805,  0.71180435]])"
            ]
          },
          "execution_count": 35,
          "metadata": {},
          "output_type": "execute_result"
        }
      ],
      "source": [
        "# 오름차순\n",
        "# here your code..\n",
        "np.sort(arr1)"
      ]
    },
    {
      "cell_type": "code",
      "execution_count": 36,
      "metadata": {
        "id": "DqGvWLjOTG8T"
      },
      "outputs": [
        {
          "data": {
            "text/plain": [
              "array([[-1.45083326, -0.41862805,  0.71180435],\n",
              "       [ 0.52825544,  1.62245077,  1.9785256 ],\n",
              "       [-1.35981521, -0.56123682,  1.5411538 ],\n",
              "       [-0.76411229, -0.14375934,  1.02447394],\n",
              "       [-1.09470069, -0.30008319,  0.65933097]])"
            ]
          },
          "execution_count": 36,
          "metadata": {},
          "output_type": "execute_result"
        }
      ],
      "source": [
        "# 내림차순\n",
        "# here your code..\n",
        "np.sort(arr1)[::-1]"
      ]
    },
    {
      "cell_type": "markdown",
      "metadata": {
        "id": "cdoV18C_TTDK"
      },
      "source": [
        "# 고생했어요^^\n",
        "\n",
        "다음 시간에는 **pandas**에 대해서 알아보도록 하겠습니다.\n",
        "\n",
        "질문이나 문의사항은 **github issues**를 활용해주세요(방법 모르면 개인적으로 물어봐주길)\n",
        "\n",
        "기타 모두가 보면 안될 질문은 갠톡 부탁합니다.^^"
      ]
    }
  ],
  "metadata": {
    "colab": {
      "name": "#2-Numpy실습.ipynb",
      "provenance": []
    },
    "kernelspec": {
      "display_name": "Python 3",
      "name": "python3"
    },
    "language_info": {
      "codemirror_mode": {
        "name": "ipython",
        "version": 3
      },
      "file_extension": ".py",
      "mimetype": "text/x-python",
      "name": "python",
      "nbconvert_exporter": "python",
      "pygments_lexer": "ipython3",
      "version": "3.8.11"
    }
  },
  "nbformat": 4,
  "nbformat_minor": 0
}
