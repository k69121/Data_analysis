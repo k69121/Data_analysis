{
  "nbformat": 4,
  "nbformat_minor": 0,
  "metadata": {
    "colab": {
      "name": "#2-Numpy실습.ipynb",
      "provenance": []
    },
    "kernelspec": {
      "name": "python3",
      "display_name": "Python 3"
    },
    "language_info": {
      "name": "python"
    }
  },
  "cells": [
    {
      "cell_type": "markdown",
      "source": [
        "# Numpy 실습\n",
        "\n",
        "이번 시간에는 Numpy 코드를 직접 작성해보고 응용하는 것을 목표한다."
      ],
      "metadata": {
        "id": "RRek1Z_6Dmc1"
      }
    },
    {
      "cell_type": "code",
      "execution_count": null,
      "metadata": {
        "id": "HXrQPb5rDb9p"
      },
      "outputs": [],
      "source": [
        "int_data = [10,20,30,40,50]\n",
        "float_data = [1.5, 2.5, 3.5, 4.5, 5.5]\n",
        "str_data = ['박정현','김대로','새우깡','배고파','밥먹자']"
      ]
    },
    {
      "cell_type": "markdown",
      "source": [
        "## 1. 주어진 list를 활용해 ndarray 만들기\n",
        "\n",
        "- int_data\n",
        "- float_data\n",
        "- str_data\n",
        " \n",
        "위 3가지 리스트를 이용하여 ndarray를 만들어 본다.\n",
        "\n",
        "**요구사항 : array 제작 후 크기를 특정해보자.**"
      ],
      "metadata": {
        "id": "O_ds_sCCEI0J"
      }
    },
    {
      "cell_type": "code",
      "source": [
        "# here your code...\n",
        "print(\"\")"
      ],
      "metadata": {
        "id": "Crn8BIRLFFBz"
      },
      "execution_count": null,
      "outputs": []
    },
    {
      "cell_type": "code",
      "source": [
        "# here your code...\n",
        "print(\"\")"
      ],
      "metadata": {
        "id": "eOIOJWmqFGZP"
      },
      "execution_count": null,
      "outputs": []
    },
    {
      "cell_type": "code",
      "source": [
        "# here your code...\n",
        "print(\"\")"
      ],
      "metadata": {
        "id": "yOo1lewcFGHf"
      },
      "execution_count": null,
      "outputs": []
    },
    {
      "cell_type": "markdown",
      "source": [
        "### 1-1. 직접 list를 통해 ndarray 만들기\n",
        "\n",
        "자신이 원하는 list를 직접 array에 넣어 풀어보자.\n",
        "\n",
        "**요구사항 : 1차원의 정수형, 2차원의 실수형, 3차원의 여러가지 자료형 각 1개 만들고 크기 구하기.**"
      ],
      "metadata": {
        "id": "Z_tDB-S0Eflc"
      }
    },
    {
      "cell_type": "code",
      "source": [
        "# here your code..."
      ],
      "metadata": {
        "id": "rP_WInttEu3j"
      },
      "execution_count": null,
      "outputs": []
    },
    {
      "cell_type": "code",
      "source": [
        "# here your code..."
      ],
      "metadata": {
        "id": "dzWfHNeGFD7j"
      },
      "execution_count": null,
      "outputs": []
    },
    {
      "cell_type": "code",
      "source": [
        "# here your code..."
      ],
      "metadata": {
        "id": "Pxi1vd-gFDxg"
      },
      "execution_count": null,
      "outputs": []
    },
    {
      "cell_type": "markdown",
      "source": [
        "# 2. Numpy를 이용해 0과 1만 있는 array 만들기\n",
        "\n",
        "이전 시간 우리는 모든 요소가 0인 array, 모든 요소가 1인 array를 제작해봤다.\n",
        "\n",
        "이를 응용하여 0과 1인 array를 제작한다.\n",
        "\n",
        "**요구사항 : 0인 요소 5개 1인 요소 5개의 2차원 array 만들기(행 수는 자유)** "
      ],
      "metadata": {
        "id": "Q3ela_qLEvoD"
      }
    },
    {
      "cell_type": "code",
      "source": [
        "# here your code..."
      ],
      "metadata": {
        "id": "1TRYQbINF0f_"
      },
      "execution_count": null,
      "outputs": []
    },
    {
      "cell_type": "markdown",
      "source": [
        "## 2-1. random한 array를 만들어 사칙연산하기\n",
        "\n",
        "1. random한 array를 만든다 (차원은 자유)\n",
        "2. 사칙연산을 수행한다.\n",
        "\n",
        "* 복습\n",
        "\n",
        "- random.rand() : 이상한 소수 파파박\n",
        "    - random.rand(3,5) : 크기가 3 * 5인 랜덤 array 리턴\n",
        "    - random.rand(3,5,5) : 크기가 3 5 5인 랜덤 array \n",
        "- random.randn() : 0 ~ 1범위의 정규분포 리턴\n",
        "    - random.randn(3,5) : 크기가 3 * 5인 랜덤 array 리턴\n",
        "    - random.randn(3,5,5) : 크기가 3 5 5인 랜덤 array  \n",
        "- random.randint() : 지정한 범위의 랜덤 정수 리턴\n",
        "    - random.randint(0,10,10) : 0 ~ 10까지 10개 만들기 => 이때 같은 숫자 여러개 나올 수 있음\n",
        "    - random.randint(low = 3) : 0 ~ 3까지 랜덤 정수 1개 리턴\n",
        "    - random.randint(low =3, high = 5) : 3 ~ 5 까지 랜덤 정수 1개 리턴\n",
        "    - random.randint(0,10,10) : 0 ~ 10까지 랜덤 정수 10개 리턴"
      ],
      "metadata": {
        "id": "Kx0eQsl2LdlJ"
      }
    },
    {
      "cell_type": "code",
      "source": [
        "# 정수형 랜덤 배열 만들기\n",
        "# here your code..."
      ],
      "metadata": {
        "id": "9hSUhtFGLmZu"
      },
      "execution_count": null,
      "outputs": []
    },
    {
      "cell_type": "code",
      "source": [
        "# here your code... +"
      ],
      "metadata": {
        "id": "S2G1_d0ZN7xf"
      },
      "execution_count": null,
      "outputs": []
    },
    {
      "cell_type": "code",
      "source": [
        "# here your code... -"
      ],
      "metadata": {
        "id": "sC6oVX1HN9C6"
      },
      "execution_count": null,
      "outputs": []
    },
    {
      "cell_type": "code",
      "source": [
        "# here your code... *"
      ],
      "metadata": {
        "id": "6W7OiJtlN8qe"
      },
      "execution_count": null,
      "outputs": []
    },
    {
      "cell_type": "code",
      "source": [
        "# here your code... /"
      ],
      "metadata": {
        "id": "63-BNCRhN8m6"
      },
      "execution_count": null,
      "outputs": []
    },
    {
      "cell_type": "markdown",
      "source": [
        "## 2-2. 브로드 캐스트 실습하기\n",
        "\n",
        "**array가 같은 크기를 가져야 서로 연산이 가능하다고 했지만,**\n",
        "\n",
        "numpy에서는 브로드캐스트라는 기능을 제공한다.\n",
        "\n",
        "브로드캐스트란, **서로 크기가 다른 array가 연산이 가능하게끔 하는 것이다.**\n",
        "\n",
        "1차원 array * 2차원 array 해보기"
      ],
      "metadata": {
        "id": "ZTiRQJ4cOLTF"
      }
    },
    {
      "cell_type": "code",
      "source": [
        "# here your code..."
      ],
      "metadata": {
        "id": "y0uYA_EzORng"
      },
      "execution_count": null,
      "outputs": []
    },
    {
      "cell_type": "markdown",
      "source": [
        "## 2-3. array와 스칼라 연산\n",
        "\n",
        "array에 어떤수를 곱해 0을 만들어 보자!"
      ],
      "metadata": {
        "id": "ADeItl72OXOs"
      }
    },
    {
      "cell_type": "code",
      "source": [
        "# here your code..."
      ],
      "metadata": {
        "id": "bi9AS1aBOWlQ"
      },
      "execution_count": null,
      "outputs": []
    },
    {
      "cell_type": "markdown",
      "source": [
        "# 3. Array 인덱싱\n",
        "numpy에서 사용되는 인덱싱은 기본적으로 python 인덱싱과 동일하다.\n",
        "\n",
        "**이때, python에서와 같이 1번째로 시작하는 것이 아니라 0번째로 시작하는 것에 주의한다.**"
      ],
      "metadata": {
        "id": "Gw8Dp3v2OsLC"
      }
    },
    {
      "cell_type": "markdown",
      "source": [
        "## 3-1. array를 만들어 N번째 요소 가져오기\n",
        "\n",
        "0 ~ 10까지의 array를 만들어 주어진 번호에 맞는 요소를 구해보자\n",
        "\n",
        "요구사항 : N = 3 , M = 7이며, 구하고자 하는 값은 3번째 요소, 7번째 요소, 3부터7까지의 모든 요소 이다."
      ],
      "metadata": {
        "id": "orPUgYnaOzOy"
      }
    },
    {
      "cell_type": "code",
      "source": [
        "N, M = 3, 7\n",
        "# here your code...\n"
      ],
      "metadata": {
        "colab": {
          "base_uri": "https://localhost:8080/"
        },
        "id": "-lBROVDGPLa7",
        "outputId": "d7b513ea-16b0-493a-d0dc-c231a99bb0d2"
      },
      "execution_count": 47,
      "outputs": [
        {
          "output_type": "stream",
          "name": "stdout",
          "text": [
            "3 7\n"
          ]
        }
      ]
    },
    {
      "cell_type": "markdown",
      "source": [
        "## 3-2. 2차원 array를 만들어 요소 가져오기\n",
        "\n",
        "1. N행의 모든 요소 가져오기\n",
        "2. M열의 모든 요소 가져오기\n",
        "3. N행의 M열 요소 가져오기"
      ],
      "metadata": {
        "id": "o6SU4hmmPX5P"
      }
    },
    {
      "cell_type": "code",
      "source": [
        "# here your code.."
      ],
      "metadata": {
        "id": "p1XRXjK2PlIf"
      },
      "execution_count": null,
      "outputs": []
    },
    {
      "cell_type": "markdown",
      "source": [
        "# 4. Array boolean 인덱싱 (aka. 마스크)\n",
        "\n",
        "위에서 이용한 다차원의 인덱싱을 응용하여 boolean 인덱싱을 할 수 있다.\n",
        "\n",
        "해당 기능은 주로 마스크라고 이야기하는데, boolean인덱싱을 통해 만들어낸 array를 통해\n",
        "\n",
        "우리가 원하는 행 또는 열의 값만 뽑아낼 수 있다.\n",
        "\n",
        "**즉, 마스크처럼 우리가 가리고 싶은 부분은 가리고, 원하는 요소만 꺼낼 수 있다.**"
      ],
      "metadata": {
        "id": "0dXM8CS0P6QJ"
      }
    },
    {
      "cell_type": "markdown",
      "source": [
        "원하는 문자열 형태의 array를 만들고 이를 활용해 인덱싱 해보자"
      ],
      "metadata": {
        "id": "673gHiB2QCDE"
      }
    },
    {
      "cell_type": "code",
      "source": [
        "rand_arr = np.random.randn(9,4)\n",
        "rand_arr"
      ],
      "metadata": {
        "id": "ObcGkheqQOZm"
      },
      "execution_count": null,
      "outputs": []
    },
    {
      "cell_type": "code",
      "source": [
        "# here your code..."
      ],
      "metadata": {
        "id": "wNLU8konQLH3"
      },
      "execution_count": null,
      "outputs": []
    },
    {
      "cell_type": "markdown",
      "source": [
        "## 4-1. 논리 연산자를 이용해서 인덱싱 하기\n",
        "\n",
        "논리 연산자 : Python에서는 &, |(shift + \\키) 등이 있다. 이를 활용하자"
      ],
      "metadata": {
        "id": "Atl6NQ_6RmdK"
      }
    },
    {
      "cell_type": "code",
      "source": [
        "# here your code..."
      ],
      "metadata": {
        "id": "EVDIAhdKR3n5"
      },
      "execution_count": null,
      "outputs": []
    },
    {
      "cell_type": "markdown",
      "source": [
        "# 5. 통계 함수를 사용해 array의 값의 통계 구하기\n",
        "\n",
        "- sum()\n",
        "- max()\n",
        "- min()\n",
        "- mean()\n",
        "- std()"
      ],
      "metadata": {
        "id": "u_rFPOvnSGas"
      }
    },
    {
      "cell_type": "code",
      "source": [
        "arr1 = np.array([[-0.30008319,  0.65933097, -1.09470069],\n",
        "       [-0.76411229,  1.02447394, -0.14375934],\n",
        "       [ 1.5411538 , -0.56123682, -1.35981521],\n",
        "       [ 1.9785256 ,  1.62245077,  0.52825544],\n",
        "       [-1.45083326, -0.41862805,  0.71180435]])"
      ],
      "metadata": {
        "colab": {
          "base_uri": "https://localhost:8080/"
        },
        "id": "1bY5MhxaSTLT",
        "outputId": "7575b18a-4ca0-4e98-cd55-611adf9e6668"
      },
      "execution_count": 56,
      "outputs": [
        {
          "output_type": "execute_result",
          "data": {
            "text/plain": [
              "array([[-0.30008319,  0.65933097, -1.09470069],\n",
              "       [-0.76411229,  1.02447394, -0.14375934],\n",
              "       [ 1.5411538 , -0.56123682, -1.35981521],\n",
              "       [ 1.9785256 ,  1.62245077,  0.52825544],\n",
              "       [-1.45083326, -0.41862805,  0.71180435]])"
            ]
          },
          "metadata": {},
          "execution_count": 56
        }
      ]
    },
    {
      "cell_type": "code",
      "source": [
        "# here your code..."
      ],
      "metadata": {
        "id": "T_Pz91eBSaPd"
      },
      "execution_count": null,
      "outputs": []
    },
    {
      "cell_type": "code",
      "source": [
        "# here your code..."
      ],
      "metadata": {
        "id": "ig8Da_jaSdet"
      },
      "execution_count": null,
      "outputs": []
    },
    {
      "cell_type": "code",
      "source": [
        "# here your code..."
      ],
      "metadata": {
        "id": "5X2QNarWSdvt"
      },
      "execution_count": null,
      "outputs": []
    },
    {
      "cell_type": "code",
      "source": [
        "# here your code..."
      ],
      "metadata": {
        "id": "p4XBF1UDSebG"
      },
      "execution_count": null,
      "outputs": []
    },
    {
      "cell_type": "code",
      "source": [
        "# here your code..."
      ],
      "metadata": {
        "id": "PIS7tfxUSes1"
      },
      "execution_count": null,
      "outputs": []
    },
    {
      "cell_type": "markdown",
      "source": [
        "## 5-1. 전체 성분의 최소값, 최대값이 위치한 인덱스 반환하기\n",
        "\n",
        "- argmin() : 최소값이 있는 인덱스 반환\n",
        "- argmax() : 최대값이 있는 인덱스 반환 "
      ],
      "metadata": {
        "id": "4cice0DHSfFv"
      }
    },
    {
      "cell_type": "code",
      "source": [
        "# here your code..."
      ],
      "metadata": {
        "id": "34YMjCXKSrqZ"
      },
      "execution_count": null,
      "outputs": []
    },
    {
      "cell_type": "markdown",
      "source": [
        "## 5-2. 처음부터 각 성분의 누적합, 누적곱 계산\n",
        "\n",
        "- cumsum() : 누적 합\n",
        "- cumprod() : 누적 곱"
      ],
      "metadata": {
        "id": "bmccdpMfSuuB"
      }
    },
    {
      "cell_type": "code",
      "source": [
        "# here your code..."
      ],
      "metadata": {
        "id": "yEjgo7R9S4gw"
      },
      "execution_count": null,
      "outputs": []
    },
    {
      "cell_type": "markdown",
      "source": [
        "# 6. array 정렬 하기\n",
        "\n",
        "오름차순, 내림차순 정렬을 해보자"
      ],
      "metadata": {
        "id": "Qrck_akCTBRH"
      }
    },
    {
      "cell_type": "code",
      "source": [
        "# 오름차순\n",
        "# here your code.."
      ],
      "metadata": {
        "id": "Sp4jpsQcTHD7"
      },
      "execution_count": null,
      "outputs": []
    },
    {
      "cell_type": "code",
      "source": [
        "# 내림차순\n",
        "# here your code.."
      ],
      "metadata": {
        "id": "DqGvWLjOTG8T"
      },
      "execution_count": null,
      "outputs": []
    },
    {
      "cell_type": "markdown",
      "source": [
        "# 고생했어요^^\n",
        "\n",
        "다음 시간에는 **pandas**에 대해서 알아보도록 하겠습니다.\n",
        "\n",
        "질문이나 문의사항은 **github issues**를 활용해주세요(방법 모르면 개인적으로 물어봐주길)\n",
        "\n",
        "기타 모두가 보면 안될 질문은 갠톡 부탁합니다.^^"
      ],
      "metadata": {
        "id": "cdoV18C_TTDK"
      }
    }
  ]
}