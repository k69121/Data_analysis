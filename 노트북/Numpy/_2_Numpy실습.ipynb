{
  "cells": [
    {
      "cell_type": "markdown",
      "metadata": {
        "id": "RRek1Z_6Dmc1"
      },
      "source": [
        "# Numpy 실습\n",
        "\n",
        "이번 시간에는 Numpy 코드를 직접 작성해보고 응용하는 것을 목표한다."
      ]
    },
    {
      "cell_type": "code",
      "execution_count": 3,
      "metadata": {
        "id": "HXrQPb5rDb9p"
      },
      "outputs": [],
      "source": [
        "int_data = [10,20,30,40,50]\n",
        "float_data = [1.5, 2.5, 3.5, 4.5, 5.5]\n",
        "str_data = ['박정현','김대로','새우깡','배고파','밥먹자']"
      ]
    },
    {
      "cell_type": "code",
      "execution_count": 1,
      "metadata": {},
      "outputs": [],
      "source": [
        "import numpy as np"
      ]
    },
    {
      "cell_type": "markdown",
      "metadata": {
        "id": "O_ds_sCCEI0J"
      },
      "source": [
        "## 1. 주어진 list를 활용해 ndarray 만들기\n",
        "\n",
        "- int_data\n",
        "- float_data\n",
        "- str_data\n",
        " \n",
        "위 3가지 리스트를 이용하여 ndarray를 만들어 본다.\n",
        "\n",
        "**요구사항 : array 제작 후 크기를 특정해보자.**"
      ]
    },
    {
      "cell_type": "code",
      "execution_count": 4,
      "metadata": {
        "id": "Crn8BIRLFFBz"
      },
      "outputs": [
        {
          "name": "stdout",
          "output_type": "stream",
          "text": [
            "[10 20 30 40 50] (5,)\n"
          ]
        }
      ],
      "source": [
        "# here your code...\n",
        "arr1 = np.array(int_data)\n",
        "print(arr1, arr1.shape)"
      ]
    },
    {
      "cell_type": "code",
      "execution_count": 5,
      "metadata": {
        "id": "eOIOJWmqFGZP"
      },
      "outputs": [
        {
          "name": "stdout",
          "output_type": "stream",
          "text": [
            "[1.5 2.5 3.5 4.5 5.5] (5,)\n"
          ]
        }
      ],
      "source": [
        "# here your code...\n",
        "arr2 = np.array(float_data)\n",
        "print(arr2, arr2.shape)"
      ]
    },
    {
      "cell_type": "code",
      "execution_count": 6,
      "metadata": {
        "id": "yOo1lewcFGHf"
      },
      "outputs": [
        {
          "name": "stdout",
          "output_type": "stream",
          "text": [
            "['박정현' '김대로' '새우깡' '배고파' '밥먹자'] (5,)\n"
          ]
        }
      ],
      "source": [
        "# here your code...\n",
        "arr3 = np.array(str_data)\n",
        "print(arr3, arr3.shape )"
      ]
    },
    {
      "cell_type": "markdown",
      "metadata": {
        "id": "Z_tDB-S0Eflc"
      },
      "source": [
        "### 1-1. 직접 list를 통해 ndarray 만들기\n",
        "\n",
        "자신이 원하는 list를 직접 array에 넣어 풀어보자.\n",
        "\n",
        "**요구사항 : 1차원의 정수형, 2차원의 실수형, 3차원의 여러가지 자료형 각 1개 만들고 크기 구하기.**"
      ]
    },
    {
      "cell_type": "code",
      "execution_count": 8,
      "metadata": {
        "id": "rP_WInttEu3j"
      },
      "outputs": [
        {
          "name": "stdout",
          "output_type": "stream",
          "text": [
            "[1 2 3 4 5] (5,)\n"
          ]
        }
      ],
      "source": [
        "# here your code...\n",
        "arr1 = np.array([1,2,3,4,5])\n",
        "print(arr1, arr1.shape)"
      ]
    },
    {
      "cell_type": "code",
      "execution_count": 14,
      "metadata": {
        "id": "dzWfHNeGFD7j"
      },
      "outputs": [
        {
          "name": "stdout",
          "output_type": "stream",
          "text": [
            "[[ 1  2  3  4  5]\n",
            " [ 6  7  8  9 10]] (2, 5)\n"
          ]
        }
      ],
      "source": [
        "# here your code...\n",
        "arr2 = np.array([[1,2,3,4,5],[6,7,8,9,10]])\n",
        "print(arr2, arr2.shape)"
      ]
    },
    {
      "cell_type": "code",
      "execution_count": 21,
      "metadata": {
        "id": "Pxi1vd-gFDxg"
      },
      "outputs": [
        {
          "name": "stdout",
          "output_type": "stream",
          "text": [
            "[[[ 1  2  3  4  5]\n",
            "  [ 6  7  8  9 10]]\n",
            "\n",
            " [[11 23 13 41 15]\n",
            "  [33 44 55 66 77]]],(5,)\n"
          ]
        }
      ],
      "source": [
        "# here your code...\n",
        "arr3 = np.array([[[1,2,3,4,5],[6,7,8,9,10]],[[11,23,13,41,15],[33,44,55,66,77]]])\n",
        "\n",
        "print(f\"{arr3},{arr2.shape}\")"
      ]
    },
    {
      "cell_type": "markdown",
      "metadata": {
        "id": "Q3ela_qLEvoD"
      },
      "source": [
        "# 2. Numpy를 이용해 0과 1만 있는 array 만들기\n",
        "\n",
        "이전 시간 우리는 모든 요소가 0인 array, 모든 요소가 1인 array를 제작해봤다.\n",
        "\n",
        "이를 응용하여 0과 1인 array를 제작한다.\n",
        "\n",
        "**요구사항 : 0인 요소 5개 1인 요소 5개의 2차원 array 만들기(행 수는 자유)** "
      ]
    },
    {
      "cell_type": "code",
      "execution_count": 26,
      "metadata": {
        "id": "1TRYQbINF0f_"
      },
      "outputs": [
        {
          "name": "stdout",
          "output_type": "stream",
          "text": [
            "[[0. 0. 0. 0. 0.]\n",
            " [1. 1. 1. 1. 1.]]\n"
          ]
        }
      ],
      "source": [
        "# here your code...\n",
        "zeor1 = np.array([np.zeros(5),np.ones(5)])\n",
        "print(f\"{zeor1}\")"
      ]
    },
    {
      "cell_type": "markdown",
      "metadata": {
        "id": "Kx0eQsl2LdlJ"
      },
      "source": [
        "## 2-1. random한 array를 만들어 사칙연산하기\n",
        "\n",
        "1. random한 array를 만든다 (차원은 자유)\n",
        "2. 사칙연산을 수행한다.\n",
        "\n",
        "* 복습\n",
        "\n",
        "- random.rand() : 이상한 소수 파파박\n",
        "    - random.rand(3,5) : 크기가 3 * 5인 랜덤 array 리턴\n",
        "    - random.rand(3,5,5) : 크기가 3 5 5인 랜덤 array \n",
        "- random.randn() : 0 ~ 1범위의 정규분포 리턴\n",
        "    - random.randn(3,5) : 크기가 3 * 5인 랜덤 array 리턴\n",
        "    - random.randn(3,5,5) : 크기가 3 5 5인 랜덤 array  \n",
        "- random.randint() : 지정한 범위의 랜덤 정수 리턴\n",
        "    - random.randint(0,10,10) : 0 ~ 10까지 10개 만들기 => 이때 같은 숫자 여러개 나올 수 있음\n",
        "    - random.randint(low = 3) : 0 ~ 3까지 랜덤 정수 1개 리턴\n",
        "    - random.randint(low =3, high = 5) : 3 ~ 5 까지 랜덤 정수 1개 리턴\n",
        "    - random.randint(0,10,10) : 0 ~ 10까지 랜덤 정수 10개 리턴"
      ]
    },
    {
      "cell_type": "code",
      "execution_count": 33,
      "metadata": {
        "id": "9hSUhtFGLmZu"
      },
      "outputs": [
        {
          "name": "stdout",
          "output_type": "stream",
          "text": [
            "[[0.10553763 0.76296776 0.1973195  0.93701682 0.46505837]\n",
            " [0.88122817 0.29148398 0.72978045 0.18390409 0.18607587]\n",
            " [0.42775836 0.98148325 0.69676722 0.83189114 0.4718513 ]],\n",
            " [[0.89422665 0.7196849  0.78386898 0.74177727 0.26370856]\n",
            " [0.68577188 0.13140599 0.25577017 0.99372112 0.33931362]\n",
            " [0.45549109 0.76499347 0.56314322 0.74163057 0.56915353]]\n"
          ]
        }
      ],
      "source": [
        "# 정수형 랜덤 배열 만들기\n",
        "# here your code...\n",
        "arr1 = np.random.rand(3,5)\n",
        "arr2 = np.random.rand(3,5)\n",
        "print(f\"{arr1},\\n {arr2}\")"
      ]
    },
    {
      "cell_type": "code",
      "execution_count": 34,
      "metadata": {
        "id": "S2G1_d0ZN7xf"
      },
      "outputs": [
        {
          "data": {
            "text/plain": [
              "array([[0.99976428, 1.48265267, 0.98118848, 1.67879409, 0.72876694],\n",
              "       [1.56700006, 0.42288997, 0.98555062, 1.17762521, 0.5253895 ],\n",
              "       [0.88324945, 1.74647673, 1.25991044, 1.57352171, 1.04100483]])"
            ]
          },
          "execution_count": 34,
          "metadata": {},
          "output_type": "execute_result"
        }
      ],
      "source": [
        "# here your code... +\n",
        "arr3 = arr1 + arr2\n",
        "arr3"
      ]
    },
    {
      "cell_type": "code",
      "execution_count": 35,
      "metadata": {
        "id": "sC6oVX1HN9C6"
      },
      "outputs": [
        {
          "data": {
            "text/plain": [
              "array([[-0.78868902,  0.04328286, -0.58654948,  0.19523955,  0.20134981],\n",
              "       [ 0.19545629,  0.16007799,  0.47401028, -0.80981703, -0.15323775],\n",
              "       [-0.02773272,  0.21648978,  0.13362399,  0.09026058, -0.09730222]])"
            ]
          },
          "execution_count": 35,
          "metadata": {},
          "output_type": "execute_result"
        }
      ],
      "source": [
        "# here your code... -\n",
        "arr3 = arr1 - arr2\n",
        "arr3"
      ]
    },
    {
      "cell_type": "code",
      "execution_count": 36,
      "metadata": {
        "id": "6W7OiJtlN8qe"
      },
      "outputs": [
        {
          "data": {
            "text/plain": [
              "array([[0.09437456, 0.54909638, 0.15467264, 0.69505778, 0.12263988],\n",
              "       [0.60432151, 0.03830274, 0.18665607, 0.18274938, 0.06313808],\n",
              "       [0.19484012, 0.75082828, 0.39237974, 0.6169559 , 0.26855583]])"
            ]
          },
          "execution_count": 36,
          "metadata": {},
          "output_type": "execute_result"
        }
      ],
      "source": [
        "# here your code... *\n",
        "arr3 = arr1 * arr2\n",
        "arr3"
      ]
    },
    {
      "cell_type": "code",
      "execution_count": 37,
      "metadata": {
        "id": "63-BNCRhN8m6"
      },
      "outputs": [
        {
          "data": {
            "text/plain": [
              "array([[0.11802112, 1.06014141, 0.25172511, 1.26320508, 1.76353154],\n",
              "       [1.28501648, 2.21819399, 2.85326645, 0.1850661 , 0.54838904],\n",
              "       [0.93911467, 1.28299559, 1.23728243, 1.12170558, 0.82904046]])"
            ]
          },
          "execution_count": 37,
          "metadata": {},
          "output_type": "execute_result"
        }
      ],
      "source": [
        "# here your code... /\n",
        "arr3 = arr1 / arr2\n",
        "arr3"
      ]
    },
    {
      "cell_type": "markdown",
      "metadata": {
        "id": "ZTiRQJ4cOLTF"
      },
      "source": [
        "## 2-2. 브로드 캐스트 실습하기\n",
        "\n",
        "**array가 같은 크기를 가져야 서로 연산이 가능하다고 했지만,**\n",
        "\n",
        "numpy에서는 브로드캐스트라는 기능을 제공한다.\n",
        "\n",
        "브로드캐스트란, **서로 크기가 다른 array가 연산이 가능하게끔 하는 것이다.**\n",
        "\n",
        "1차원 array * 2차원 array 해보기"
      ]
    },
    {
      "cell_type": "code",
      "execution_count": 38,
      "metadata": {
        "id": "y0uYA_EzORng"
      },
      "outputs": [
        {
          "data": {
            "text/plain": [
              "array([[ 7,  9, 11, 13, 15],\n",
              "       [12, 14, 16, 18, 20]])"
            ]
          },
          "execution_count": 38,
          "metadata": {},
          "output_type": "execute_result"
        }
      ],
      "source": [
        "# here your code...\n",
        "arr1 = np.array([1,2,3,4,5])\n",
        "arr2 = np.array([[6,7,8,9,10],[11,12,13,14,15]])\n",
        "arr1 + arr2"
      ]
    },
    {
      "cell_type": "markdown",
      "metadata": {
        "id": "ADeItl72OXOs"
      },
      "source": [
        "## 2-3. array와 스칼라 연산\n",
        "\n",
        "array에 어떤수를 곱해 0을 만들어 보자!"
      ]
    },
    {
      "cell_type": "code",
      "execution_count": 39,
      "metadata": {
        "id": "bi9AS1aBOWlQ"
      },
      "outputs": [
        {
          "data": {
            "text/plain": [
              "array([0, 0, 0, 0, 0])"
            ]
          },
          "execution_count": 39,
          "metadata": {},
          "output_type": "execute_result"
        }
      ],
      "source": [
        "# here your code...\n",
        "arr1*0"
      ]
    },
    {
      "cell_type": "markdown",
      "metadata": {
        "id": "Gw8Dp3v2OsLC"
      },
      "source": [
        "# 3. Array 인덱싱\n",
        "numpy에서 사용되는 인덱싱은 기본적으로 python 인덱싱과 동일하다.\n",
        "\n",
        "**이때, python에서와 같이 1번째로 시작하는 것이 아니라 0번째로 시작하는 것에 주의한다.**"
      ]
    },
    {
      "cell_type": "markdown",
      "metadata": {
        "id": "orPUgYnaOzOy"
      },
      "source": [
        "## 3-1. array를 만들어 N번째 요소 가져오기\n",
        "\n",
        "0 ~ 10까지의 array를 만들어 주어진 번호에 맞는 요소를 구해보자\n",
        "\n",
        "요구사항 : N = 3 , M = 7이며, 구하고자 하는 값은 3번째 요소, 7번째 요소, 3부터7까지의 모든 요소 이다."
      ]
    },
    {
      "cell_type": "code",
      "execution_count": 75,
      "metadata": {
        "colab": {
          "base_uri": "https://localhost:8080/"
        },
        "id": "-lBROVDGPLa7",
        "outputId": "d7b513ea-16b0-493a-d0dc-c231a99bb0d2"
      },
      "outputs": [
        {
          "name": "stdout",
          "output_type": "stream",
          "text": [
            "3,\n",
            ",7,\n",
            ",[3 4 5 6] \n"
          ]
        }
      ],
      "source": [
        "N, M = 3, 7\n",
        "# here your code...\n",
        "arr1 = np.array([0,1,2,3,4,5,6,7,8,9,10])\n",
        "\n",
        "print(f\"{arr1[3]},\\n,{arr1[7]},\\n,{arr1[3:7]} \")\n"
      ]
    },
    {
      "cell_type": "markdown",
      "metadata": {
        "id": "o6SU4hmmPX5P"
      },
      "source": [
        "## 3-2. 2차원 array를 만들어 요소 가져오기\n",
        "\n",
        "1. N행의 모든 요소 가져오기\n",
        "2. M열의 모든 요소 가져오기\n",
        "3. N행의 M열 요소 가져오기"
      ]
    },
    {
      "cell_type": "code",
      "execution_count": 89,
      "metadata": {
        "id": "p1XRXjK2PlIf"
      },
      "outputs": [
        {
          "name": "stdout",
          "output_type": "stream",
          "text": [
            "[[0.70654506 0.6611038  0.36327354 0.7070289  0.02905069 0.14524263\n",
            "  0.23132538]\n",
            " [0.73089061 0.12669824 0.07353458 0.82068702 0.95001382 0.34737901\n",
            "  0.54608319]\n",
            " [0.69287889 0.79854345 0.77201055 0.21845761 0.15029175 0.41376094\n",
            "  0.45051505]],\n",
            "\n",
            ",[[0.69287889 0.79854345 0.77201055 0.21845761 0.15029175 0.41376094\n",
            "  0.45051505]],\n",
            "\n",
            ",[[0.23132538]\n",
            " [0.54608319]\n",
            " [0.45051505]],\n",
            "\n",
            ",[[0.45051505]]\n"
          ]
        }
      ],
      "source": [
        "# here your code..\n",
        "arr4 = np.random.rand(3,7)\n",
        "\n",
        "\n",
        "print(f\"{arr4},\\n\\n,{arr4[2:3,:]},\\n\\n,{arr4[:,6:7]},\\n\\n,{arr4[2:3,6:7]}\")"
      ]
    },
    {
      "cell_type": "markdown",
      "metadata": {
        "id": "0dXM8CS0P6QJ"
      },
      "source": [
        "# 4. Array boolean 인덱싱 (aka. 마스크)\n",
        "\n",
        "위에서 이용한 다차원의 인덱싱을 응용하여 boolean 인덱싱을 할 수 있다.\n",
        "\n",
        "해당 기능은 주로 마스크라고 이야기하는데, boolean인덱싱을 통해 만들어낸 array를 통해\n",
        "\n",
        "우리가 원하는 행 또는 열의 값만 뽑아낼 수 있다.\n",
        "\n",
        "**즉, 마스크처럼 우리가 가리고 싶은 부분은 가리고, 원하는 요소만 꺼낼 수 있다.**"
      ]
    },
    {
      "cell_type": "markdown",
      "metadata": {
        "id": "673gHiB2QCDE"
      },
      "source": [
        "원하는 문자열 형태의 array를 만들고 이를 활용해 인덱싱 해보자"
      ]
    },
    {
      "cell_type": "code",
      "execution_count": 92,
      "metadata": {
        "id": "ObcGkheqQOZm"
      },
      "outputs": [
        {
          "data": {
            "text/plain": [
              "array([[ 0.50623297,  0.78837168, -0.32305786, -1.90645183],\n",
              "       [-0.55521552, -0.14808938,  0.49365417,  0.21152572],\n",
              "       [-1.28134999, -0.49718044,  0.21524656, -0.50293029],\n",
              "       [ 0.7351088 , -2.76725947,  0.28407829, -0.93240393],\n",
              "       [-1.11324964,  1.55905044, -0.25951884, -0.22774566],\n",
              "       [ 0.62400647, -0.42075962, -0.32701068, -1.01332495],\n",
              "       [-1.45554164, -1.57547882,  1.2391351 ,  0.55743099],\n",
              "       [-0.94908702,  2.27233185,  2.1116414 ,  1.33037116],\n",
              "       [ 0.61286445,  0.10390398, -2.7317596 , -1.12597457]])"
            ]
          },
          "execution_count": 92,
          "metadata": {},
          "output_type": "execute_result"
        }
      ],
      "source": [
        "rand_arr = np.random.randn(9,4)\n",
        "names = np.array(['박정현','김대로','공지환','이수원','이지민','박민서','정지우','나지성','정소영'])\n",
        "rand_arr"
      ]
    },
    {
      "cell_type": "code",
      "execution_count": 91,
      "metadata": {
        "id": "wNLU8konQLH3"
      },
      "outputs": [
        {
          "data": {
            "text/plain": [
              "(9, 4)"
            ]
          },
          "execution_count": 91,
          "metadata": {},
          "output_type": "execute_result"
        }
      ],
      "source": [
        "# here your code...\n",
        "rand_arr.shape"
      ]
    },
    {
      "cell_type": "markdown",
      "metadata": {
        "id": "Atl6NQ_6RmdK"
      },
      "source": [
        "## 4-1. 논리 연산자를 이용해서 인덱싱 하기\n",
        "\n",
        "논리 연산자 : Python에서는 &, |(shift + \\키) 등이 있다. 이를 활용하자"
      ]
    },
    {
      "cell_type": "code",
      "execution_count": 95,
      "metadata": {
        "id": "EVDIAhdKR3n5"
      },
      "outputs": [
        {
          "data": {
            "text/plain": [
              "array([[-1.45554164, -1.57547882,  1.2391351 ,  0.55743099],\n",
              "       [ 0.61286445,  0.10390398, -2.7317596 , -1.12597457]])"
            ]
          },
          "execution_count": 95,
          "metadata": {},
          "output_type": "execute_result"
        }
      ],
      "source": [
        "# here your code...\n",
        "rand_arr[(names == '정지우') | (names == '정소영'), :]"
      ]
    },
    {
      "cell_type": "markdown",
      "metadata": {
        "id": "u_rFPOvnSGas"
      },
      "source": [
        "# 5. 통계 함수를 사용해 array의 값의 통계 구하기\n",
        "\n",
        "- sum()\n",
        "- max()\n",
        "- min()\n",
        "- mean()\n",
        "- std()"
      ]
    },
    {
      "cell_type": "code",
      "execution_count": 110,
      "metadata": {
        "colab": {
          "base_uri": "https://localhost:8080/"
        },
        "id": "1bY5MhxaSTLT",
        "outputId": "7575b18a-4ca0-4e98-cd55-611adf9e6668"
      },
      "outputs": [],
      "source": [
        "arr1 = np.array([[-0.30008319,  0.65933097, -1.09470069],\n",
        "       [-0.76411229,  1.02447394, -0.14375934],\n",
        "       [ 1.5411538 , -0.56123682, -1.35981521],\n",
        "       [ 1.9785256 ,  1.62245077,  0.52825544],\n",
        "       [-1.45083326, -0.41862805,  0.71180435]])"
      ]
    },
    {
      "cell_type": "code",
      "execution_count": 111,
      "metadata": {
        "id": "T_Pz91eBSaPd"
      },
      "outputs": [
        {
          "data": {
            "text/plain": [
              "1.97282602"
            ]
          },
          "execution_count": 111,
          "metadata": {},
          "output_type": "execute_result"
        }
      ],
      "source": [
        "# here your code...\n",
        "np.sum(arr1)"
      ]
    },
    {
      "cell_type": "code",
      "execution_count": 112,
      "metadata": {
        "id": "ig8Da_jaSdet"
      },
      "outputs": [
        {
          "data": {
            "text/plain": [
              "1.9785256"
            ]
          },
          "execution_count": 112,
          "metadata": {},
          "output_type": "execute_result"
        }
      ],
      "source": [
        "# here your code...\n",
        "np.max(arr1)"
      ]
    },
    {
      "cell_type": "code",
      "execution_count": 113,
      "metadata": {
        "id": "5X2QNarWSdvt"
      },
      "outputs": [
        {
          "data": {
            "text/plain": [
              "-1.45083326"
            ]
          },
          "execution_count": 113,
          "metadata": {},
          "output_type": "execute_result"
        }
      ],
      "source": [
        "# here your code...\n",
        "np.min(arr1)"
      ]
    },
    {
      "cell_type": "code",
      "execution_count": 114,
      "metadata": {
        "id": "p4XBF1UDSebG"
      },
      "outputs": [
        {
          "data": {
            "text/plain": [
              "0.13152173466666667"
            ]
          },
          "execution_count": 114,
          "metadata": {},
          "output_type": "execute_result"
        }
      ],
      "source": [
        "# here your code...\n",
        "np.mean(arr1)"
      ]
    },
    {
      "cell_type": "code",
      "execution_count": 115,
      "metadata": {
        "id": "PIS7tfxUSes1"
      },
      "outputs": [
        {
          "data": {
            "text/plain": [
              "1.0729952978262813"
            ]
          },
          "execution_count": 115,
          "metadata": {},
          "output_type": "execute_result"
        }
      ],
      "source": [
        "# here your code...\n",
        "np.std(arr1)"
      ]
    },
    {
      "cell_type": "markdown",
      "metadata": {
        "id": "4cice0DHSfFv"
      },
      "source": [
        "## 5-1. 전체 성분의 최소값, 최대값이 위치한 인덱스 반환하기\n",
        "\n",
        "- argmin() : 최소값이 있는 인덱스 반환\n",
        "- argmax() : 최대값이 있는 인덱스 반환 "
      ]
    },
    {
      "cell_type": "code",
      "execution_count": 116,
      "metadata": {
        "id": "34YMjCXKSrqZ"
      },
      "outputs": [
        {
          "data": {
            "text/plain": [
              "12"
            ]
          },
          "execution_count": 116,
          "metadata": {},
          "output_type": "execute_result"
        }
      ],
      "source": [
        "# here your code...\n",
        "np.argmin(arr1)"
      ]
    },
    {
      "cell_type": "code",
      "execution_count": 117,
      "metadata": {},
      "outputs": [
        {
          "data": {
            "text/plain": [
              "9"
            ]
          },
          "execution_count": 117,
          "metadata": {},
          "output_type": "execute_result"
        }
      ],
      "source": [
        "np.argmax(arr1)"
      ]
    },
    {
      "cell_type": "markdown",
      "metadata": {
        "id": "bmccdpMfSuuB"
      },
      "source": [
        "## 5-2. 처음부터 각 성분의 누적합, 누적곱 계산\n",
        "\n",
        "- cumsum() : 누적 합\n",
        "- cumprod() : 누적 곱"
      ]
    },
    {
      "cell_type": "code",
      "execution_count": 118,
      "metadata": {
        "id": "yEjgo7R9S4gw"
      },
      "outputs": [
        {
          "data": {
            "text/plain": [
              "array([-0.30008319,  0.35924778, -0.73545291, -1.4995652 , -0.47509126,\n",
              "       -0.6188506 ,  0.9223032 ,  0.36106638, -0.99874883,  0.97977677,\n",
              "        2.60222754,  3.13048298,  1.67964972,  1.26102167,  1.97282602])"
            ]
          },
          "execution_count": 118,
          "metadata": {},
          "output_type": "execute_result"
        }
      ],
      "source": [
        "# here your code...\n",
        "np.cumsum(arr1)"
      ]
    },
    {
      "cell_type": "code",
      "execution_count": 119,
      "metadata": {},
      "outputs": [
        {
          "data": {
            "text/plain": [
              "array([-0.30008319, -0.19785414,  0.21659106, -0.16549989, -0.16955033,\n",
              "        0.02437444,  0.03756477, -0.02108273,  0.02866862,  0.05672159,\n",
              "        0.09202799,  0.04861429, -0.07053122,  0.02952635,  0.02101698])"
            ]
          },
          "execution_count": 119,
          "metadata": {},
          "output_type": "execute_result"
        }
      ],
      "source": [
        "np.cumprod(arr1)"
      ]
    },
    {
      "cell_type": "markdown",
      "metadata": {
        "id": "Qrck_akCTBRH"
      },
      "source": [
        "# 6. array 정렬 하기\n",
        "\n",
        "오름차순, 내림차순 정렬을 해보자"
      ]
    },
    {
      "cell_type": "code",
      "execution_count": 120,
      "metadata": {
        "id": "Sp4jpsQcTHD7"
      },
      "outputs": [
        {
          "data": {
            "text/plain": [
              "array([[-1.09470069, -0.30008319,  0.65933097],\n",
              "       [-0.76411229, -0.14375934,  1.02447394],\n",
              "       [-1.35981521, -0.56123682,  1.5411538 ],\n",
              "       [ 0.52825544,  1.62245077,  1.9785256 ],\n",
              "       [-1.45083326, -0.41862805,  0.71180435]])"
            ]
          },
          "execution_count": 120,
          "metadata": {},
          "output_type": "execute_result"
        }
      ],
      "source": [
        "# 오름차순\n",
        "# here your code..\n",
        "np.sort(arr1)"
      ]
    },
    {
      "cell_type": "code",
      "execution_count": 121,
      "metadata": {
        "id": "DqGvWLjOTG8T"
      },
      "outputs": [
        {
          "data": {
            "text/plain": [
              "array([[-1.45083326, -0.41862805,  0.71180435],\n",
              "       [ 0.52825544,  1.62245077,  1.9785256 ],\n",
              "       [-1.35981521, -0.56123682,  1.5411538 ],\n",
              "       [-0.76411229, -0.14375934,  1.02447394],\n",
              "       [-1.09470069, -0.30008319,  0.65933097]])"
            ]
          },
          "execution_count": 121,
          "metadata": {},
          "output_type": "execute_result"
        }
      ],
      "source": [
        "# 내림차순\n",
        "# here your code..\n",
        "np.sort(arr1)[::-1]"
      ]
    },
    {
      "cell_type": "markdown",
      "metadata": {
        "id": "cdoV18C_TTDK"
      },
      "source": [
        "# 고생했어요^^\n",
        "\n",
        "다음 시간에는 **pandas**에 대해서 알아보도록 하겠습니다.\n",
        "\n",
        "질문이나 문의사항은 **github issues**를 활용해주세요(방법 모르면 개인적으로 물어봐주길)\n",
        "\n",
        "기타 모두가 보면 안될 질문은 갠톡 부탁합니다.^^"
      ]
    }
  ],
  "metadata": {
    "colab": {
      "name": "#2-Numpy실습.ipynb",
      "provenance": []
    },
    "kernelspec": {
      "display_name": "Python 3",
      "name": "python3"
    },
    "language_info": {
      "codemirror_mode": {
        "name": "ipython",
        "version": 3
      },
      "file_extension": ".py",
      "mimetype": "text/x-python",
      "name": "python",
      "nbconvert_exporter": "python",
      "pygments_lexer": "ipython3",
      "version": "3.8.11"
    }
  },
  "nbformat": 4,
  "nbformat_minor": 0
}
