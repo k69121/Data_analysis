{
  "cells": [
    {
      "cell_type": "markdown",
      "metadata": {
        "id": "RRek1Z_6Dmc1"
      },
      "source": [
        "# Numpy 실습\n",
        "\n",
        "이번 시간에는 Numpy 코드를 직접 작성해보고 응용하는 것을 목표한다."
      ]
    },
    {
      "cell_type": "code",
      "execution_count": 44,
      "metadata": {
        "id": "HXrQPb5rDb9p"
      },
      "outputs": [],
      "source": [
        "int_data = [10,20,30,40,50]\n",
        "float_data = [1.5, 2.5, 3.5, 4.5, 5.5]\n",
        "str_data = ['박정현','김대로','새우깡','배고파','밥먹자']"
      ]
    },
    {
      "cell_type": "code",
      "execution_count": 45,
      "metadata": {},
      "outputs": [],
      "source": [
        "import numpy as np \n",
        "# 넘파이 라이브러리 사용을 위해서 아나콘다에서 numpy를 가져온다.\n",
        "# as의 의미는 numpy를 np라고 줄여서 사용하겠다 의미"
      ]
    },
    {
      "cell_type": "markdown",
      "metadata": {
        "id": "O_ds_sCCEI0J"
      },
      "source": [
        "## 1. 주어진 list를 활용해 ndarray 만들기\n",
        "\n",
        "- int_data\n",
        "- float_data\n",
        "- str_data\n",
        " \n",
        "위 3가지 리스트를 이용하여 ndarray를 만들어 본다.\n",
        "\n",
        "**요구사항 : array 제작 후 크기를 특정해보자.**"
      ]
    },
    {
      "cell_type": "code",
      "execution_count": 46,
      "metadata": {
        "id": "Crn8BIRLFFBz"
      },
      "outputs": [
        {
          "name": "stdout",
          "output_type": "stream",
          "text": [
            "배열 : [10 20 30 40 50] 크기 : (5,)\n"
          ]
        }
      ],
      "source": [
        "arr1 = np.array(int_data)\n",
        "# 넘파이 배열을 생성하기 위해 array() 함수를 사용한다. 이때 array(리스트 또는 [....]) 형식으로 넣어주면 된다.\n",
        "print(f\"배열 : {arr1} 크기 : {arr1.shape}\")\n",
        "# 변수.shape = 해당 배열의 크기를 알려준다."
      ]
    },
    {
      "cell_type": "code",
      "execution_count": 47,
      "metadata": {
        "id": "eOIOJWmqFGZP"
      },
      "outputs": [
        {
          "name": "stdout",
          "output_type": "stream",
          "text": [
            "배열 : [1.5 2.5 3.5 4.5 5.5] 크기 : (5,)\n"
          ]
        }
      ],
      "source": [
        "arr2 = np.array(float_data)\n",
        "print(f\"배열 : {arr2} 크기 : {arr2.shape}\")"
      ]
    },
    {
      "cell_type": "code",
      "execution_count": 48,
      "metadata": {
        "id": "yOo1lewcFGHf"
      },
      "outputs": [
        {
          "name": "stdout",
          "output_type": "stream",
          "text": [
            "배열 : ['박정현' '김대로' '새우깡' '배고파' '밥먹자'] 크기 : (5,)\n"
          ]
        }
      ],
      "source": [
        "arr3 = np.array(str_data)\n",
        "print(f\"배열 : {arr3} 크기 : {arr3.shape}\")"
      ]
    },
    {
      "cell_type": "markdown",
      "metadata": {
        "id": "Z_tDB-S0Eflc"
      },
      "source": [
        "### 1-1. 직접 list를 통해 ndarray 만들기\n",
        "\n",
        "자신이 원하는 list를 직접 array에 넣어 풀어보자.\n",
        "\n",
        "**요구사항 : 1차원의 정수형, 2차원의 실수형, 3차원의 여러가지 자료형 각 1개 만들고 크기 구하기.**"
      ]
    },
    {
      "cell_type": "code",
      "execution_count": 49,
      "metadata": {
        "id": "rP_WInttEu3j"
      },
      "outputs": [
        {
          "name": "stdout",
          "output_type": "stream",
          "text": [
            "배열 : [ 1  2  3  4  5  6  7  8  9 10] 크기 : (10,)\n"
          ]
        }
      ],
      "source": [
        "arr4 = np.array([1,2,3,4,5,6,7,8,9,10]) # 1차원의 정수형 \n",
        "# 이전 문제에서는 array(변수명)으로 배열을 생성했다면 이번에는 array([...])형식으로 배열을 생성함\n",
        "# [...]는 파이썬의 기본 자료형인 리스트이다.\n",
        "print(f\"배열 : {arr4} 크기 : {arr4.shape}\")"
      ]
    },
    {
      "cell_type": "code",
      "execution_count": 50,
      "metadata": {
        "id": "dzWfHNeGFD7j"
      },
      "outputs": [
        {
          "name": "stdout",
          "output_type": "stream",
          "text": [
            "배열 : [[0.1  1.2  1.3  1.4  1.5  1.6 ]\n",
            " [5.6  1.2  1.5  0.4  0.1  4.5 ]\n",
            " [0.04 0.5  0.6  0.7  0.8  0.9 ]] \n",
            "크기 : (3, 6)\n"
          ]
        }
      ],
      "source": [
        "arr5 = np.array([[0.1,1.2,1.3,1.4,1.5,1.6], # 2차원의 실수형\n",
        "                [5.6,1.2,1.5,0.4,0.1,4.5],\n",
        "                [.04,.5,.6,.7,.8,.9]]) # 0.5을 표현할 경우 0을 생략해도 정상적으로 인식함 ex) .6 == 0.6\n",
        "print(f\"배열 : {arr5} \\n크기 : {arr5.shape}\")"
      ]
    },
    {
      "cell_type": "code",
      "execution_count": 51,
      "metadata": {
        "id": "Pxi1vd-gFDxg"
      },
      "outputs": [
        {
          "name": "stdout",
          "output_type": "stream",
          "text": [
            "배열 : [[['가' '나' '다' '라' '마' '바']\n",
            "  ['a' 'b' 'c' 'd' 'e' 'f']\n",
            "  ['1' '2' '3' '4' '5' '6']]] \n",
            "크기 : (1, 3, 6)\n"
          ]
        }
      ],
      "source": [
        "arr6 = np.array([[[\"가\",\"나\",\"다\",\"라\",\"마\",\"바\"],\n",
        "                [\"a\",\"b\",\"c\",\"d\",\"e\",\"f\"],\n",
        "                [\"1\",\"2\",\"3\",\"4\",\"5\",\"6\"]]])\n",
        "\n",
        "print(f\"배열 : {arr6} \\n크기 : {arr6.shape}\")"
      ]
    },
    {
      "cell_type": "markdown",
      "metadata": {
        "id": "Q3ela_qLEvoD"
      },
      "source": [
        "# 2. Numpy를 이용해 0과 1만 있는 array 만들기\n",
        "\n",
        "이전 시간 우리는 모든 요소가 0인 array, 모든 요소가 1인 array를 제작해봤다.\n",
        "\n",
        "이를 응용하여 0과 1인 array를 제작한다.\n",
        "\n",
        "**요구사항 : 0인 요소 5개 1인 요소 5개의 2차원 array 만들기(행 수는 자유)** "
      ]
    },
    {
      "cell_type": "code",
      "execution_count": 52,
      "metadata": {
        "id": "1TRYQbINF0f_"
      },
      "outputs": [
        {
          "name": "stdout",
          "output_type": "stream",
          "text": [
            "zero : [[0. 0. 0. 0. 0.]\n",
            " [0. 0. 0. 0. 0.]\n",
            " [0. 0. 0. 0. 0.]\n",
            " [0. 0. 0. 0. 0.]\n",
            " [0. 0. 0. 0. 0.]] \n",
            "\n",
            " one : [[1. 1. 1. 1. 1.]\n",
            " [1. 1. 1. 1. 1.]\n",
            " [1. 1. 1. 1. 1.]\n",
            " [1. 1. 1. 1. 1.]\n",
            " [1. 1. 1. 1. 1.]]\n",
            "\n",
            "\n",
            "\n"
          ]
        }
      ],
      "source": [
        "arr_zero = np.zeros((5, 5)) # np.zeros() 괄호안에 들어가는 만들고 싶은 배열의 크기 1차원이면 숫자 1개 2차원 이상부터는 (행, 열) 이렇게 넣어줘야함\n",
        "arr_one = np.ones((5, 5))\n",
        "print(f\"zero : {arr_zero} \\n\\n one : {arr_one}\\n\\n\\n\")"
      ]
    },
    {
      "cell_type": "markdown",
      "metadata": {},
      "source": [
        "# Tip\n",
        "\n",
        "\n",
        "np.append() vs np.concatenate() 차이\n",
        "\n",
        "**둘다 병합인데 무슨 차이인가?**\n",
        "\n",
        "append는 주로 1차원을 병합할때 사용함 왜냐하면 무조건 결과를 1차원으로 나태나기 때문임\n",
        "\n",
        "concatenate()는 다차원 배열(2차원 이상) 병합시 사용함 왜냐하면 열, 행의 옵션(axis)을 통해 다차원 병합이 가능"
      ]
    },
    {
      "cell_type": "code",
      "execution_count": 53,
      "metadata": {},
      "outputs": [
        {
          "name": "stdout",
          "output_type": "stream",
          "text": [
            "열기준 : [[0. 0. 0. 0. 0. 1. 1. 1. 1. 1.]\n",
            " [0. 0. 0. 0. 0. 1. 1. 1. 1. 1.]\n",
            " [0. 0. 0. 0. 0. 1. 1. 1. 1. 1.]\n",
            " [0. 0. 0. 0. 0. 1. 1. 1. 1. 1.]\n",
            " [0. 0. 0. 0. 0. 1. 1. 1. 1. 1.]]\n",
            "\n",
            "행기준 : [[0. 0. 0. 0. 0.]\n",
            " [0. 0. 0. 0. 0.]\n",
            " [0. 0. 0. 0. 0.]\n",
            " [0. 0. 0. 0. 0.]\n",
            " [0. 0. 0. 0. 0.]\n",
            " [1. 1. 1. 1. 1.]\n",
            " [1. 1. 1. 1. 1.]\n",
            " [1. 1. 1. 1. 1.]\n",
            " [1. 1. 1. 1. 1.]\n",
            " [1. 1. 1. 1. 1.]]\n"
          ]
        }
      ],
      "source": [
        "# 합치는 방법\n",
        "arr_col = np.concatenate((arr_zero,arr_one), axis = 1)\n",
        "arr_raw = np.concatenate((arr_zero, arr_one), axis = 0)\n",
        "\n",
        "print(f\"열기준 : {arr_col}\\n\\n행기준 : {arr_raw}\")"
      ]
    },
    {
      "cell_type": "code",
      "execution_count": 54,
      "metadata": {},
      "outputs": [
        {
          "name": "stdout",
          "output_type": "stream",
          "text": [
            "[0. 0. 0. 0. 0. 0. 0. 0. 0. 0. 0. 0. 0. 0. 0. 0. 0. 0. 0. 0. 0. 0. 0. 0.\n",
            " 0. 1. 1. 1. 1. 1. 1. 1. 1. 1. 1. 1. 1. 1. 1. 1. 1. 1. 1. 1. 1. 1. 1. 1.\n",
            " 1. 1.]\n"
          ]
        }
      ],
      "source": [
        "# append를 이용한 방법도 있지만 이건 무조건 1차원으로 나타냄\n",
        "print(np.append(arr_zero,arr_one))"
      ]
    },
    {
      "cell_type": "markdown",
      "metadata": {
        "id": "Kx0eQsl2LdlJ"
      },
      "source": [
        "## 2-1. random한 array를 만들어 사칙연산하기\n",
        "\n",
        "1. random한 array를 만든다 (차원은 자유)\n",
        "2. 사칙연산을 수행한다.\n",
        "\n",
        "* 복습\n",
        "\n",
        "- random.rand() : 이상한 소수 파파박\n",
        "    - random.rand(3,5) : 크기가 3 * 5인 랜덤 array 리턴\n",
        "    - random.rand(3,5,5) : 크기가 3 5 5인 랜덤 array \n",
        "- random.randn() : 0 ~ 1범위의 정규분포 리턴\n",
        "    - random.randn(3,5) : 크기가 3 * 5인 랜덤 array 리턴\n",
        "    - random.randn(3,5,5) : 크기가 3 5 5인 랜덤 array  \n",
        "- random.randint() : 지정한 범위의 랜덤 정수 리턴\n",
        "    - random.randint(0,10,10) : 0 ~ 10까지 10개 만들기 => 이때 같은 숫자 여러개 나올 수 있음\n",
        "    - random.randint(low = 3) : 0 ~ 3까지 랜덤 정수 1개 리턴\n",
        "    - random.randint(low =3, high = 5) : 3 ~ 5 까지 랜덤 정수 1개 리턴\n",
        "    - random.randint(0,10,10) : 0 ~ 10까지 랜덤 정수 10개 리턴"
      ]
    },
    {
      "cell_type": "code",
      "execution_count": 55,
      "metadata": {
        "id": "9hSUhtFGLmZu"
      },
      "outputs": [
        {
          "name": "stdout",
          "output_type": "stream",
          "text": [
            "[1 6 3 2 7 2 7 6 7 0]  [9 9 3 9 9 2 6 9 2 3]\n"
          ]
        }
      ],
      "source": [
        "# 정수형 랜덤 배열 만들기\n",
        "arr_rand1 = np.random.randint(0,10,10)\n",
        "arr_rand2 = np.random.randint(0,10,10)\n",
        "print(f\"{arr_rand1}  {arr_rand2}\")"
      ]
    },
    {
      "cell_type": "code",
      "execution_count": 83,
      "metadata": {
        "id": "S2G1_d0ZN7xf"
      },
      "outputs": [
        {
          "name": "stdout",
          "output_type": "stream",
          "text": [
            "브로드캐스트 방법 : [10 15  6 11 16  4 13 15  9  3]\n",
            "\n",
            "add 함수 적용 : [10 15  6 11 16  4 13 15  9  3]\n"
          ]
        }
      ],
      "source": [
        "arr_add = np.add(arr_rand1,arr_rand2)\n",
        "print(f\"브로드캐스트 방법 : {arr_rand1 + arr_rand2}\\n\\nadd 함수 적용 : {arr_add}\")"
      ]
    },
    {
      "cell_type": "code",
      "execution_count": 84,
      "metadata": {},
      "outputs": [
        {
          "name": "stdout",
          "output_type": "stream",
          "text": [
            "브로드캐스트 방법 : [-8 -3  0 -7 -2  0  1 -3  5 -3]\n",
            "\n",
            "subtract 함수 적용 : [-8 -3  0 -7 -2  0  1 -3  5 -3]\n"
          ]
        }
      ],
      "source": [
        "arr_sub = np.subtract(arr_rand1, arr_rand2)\n",
        "print(f\"브로드캐스트 방법 : {arr_rand1 - arr_rand2}\\n\\nsubtract 함수 적용 : {arr_sub}\")"
      ]
    },
    {
      "cell_type": "code",
      "execution_count": 85,
      "metadata": {
        "id": "6W7OiJtlN8qe"
      },
      "outputs": [
        {
          "name": "stdout",
          "output_type": "stream",
          "text": [
            "브로드캐스트 방법 : [ 9 54  9 18 63  4 42 54 14  0]\n",
            "\n",
            "multiply 함수 적용 : [ 9 54  9 18 63  4 42 54 14  0]\n"
          ]
        }
      ],
      "source": [
        "arr_mul = np.multiply(arr_rand1, arr_rand2)\n",
        "print(f\"브로드캐스트 방법 : {arr_rand1 * arr_rand2}\\n\\nmultiply 함수 적용 : {arr_mul}\")"
      ]
    },
    {
      "cell_type": "code",
      "execution_count": 133,
      "metadata": {
        "id": "63-BNCRhN8m6"
      },
      "outputs": [
        {
          "name": "stdout",
          "output_type": "stream",
          "text": [
            "브로드캐스트 방법:[0.11111111 0.66666667 1.         0.22222222 0.77777778 1.\n",
            " 1.16666667 0.66666667 3.5        0.        ]\n",
            "\n",
            "divide 함수 적용:[0.11111111 0.66666667 1.         0.22222222 0.77777778 1.\n",
            " 1.16666667 0.66666667 3.5        0.        ]\n"
          ]
        }
      ],
      "source": [
        "arr_div = np.divide(arr_rand1, arr_rand2)\n",
        "print(f\"브로드캐스트 방법:{arr_rand1 / arr_rand2}\\n\\ndivide 함수 적용:{arr_div}\")"
      ]
    },
    {
      "cell_type": "markdown",
      "metadata": {
        "id": "ZTiRQJ4cOLTF"
      },
      "source": [
        "## 2-2. 브로드 캐스트 실습하기\n",
        "\n",
        "**array가 같은 크기를 가져야 서로 연산이 가능하다고 했지만,**\n",
        "\n",
        "numpy에서는 브로드캐스트라는 기능을 제공한다.\n",
        "\n",
        "브로드캐스트란, **서로 크기가 다른 array가 연산이 가능하게끔 하는 것이다.**\n",
        "\n",
        "1차원 array * 2차원 array 해보기"
      ]
    },
    {
      "cell_type": "code",
      "execution_count": 96,
      "metadata": {
        "id": "y0uYA_EzORng"
      },
      "outputs": [
        {
          "data": {
            "text/plain": [
              "array([[0.14729065, 0.05737302, 0.56077996, 0.35579158, 0.28302465],\n",
              "       [0.17962055, 0.01706015, 0.39350534, 0.03825654, 0.11168766],\n",
              "       [0.03734814, 0.13436525, 0.16252038, 0.09340158, 0.59316071]])"
            ]
          },
          "execution_count": 96,
          "metadata": {},
          "output_type": "execute_result"
        }
      ],
      "source": [
        "# here your code...\n",
        "arr_one_dim = np.random.rand(5) # 5개의 요소를 가진 배열 생성\n",
        "arr_two_dim = np.random.rand(3,5) # 3행 5열의 배열 생성\n",
        "arr_one_dim * arr_two_dim\n",
        "\n",
        "# 무 조 건 1차원의 요소 갯수 = 2차원 열의 수"
      ]
    },
    {
      "cell_type": "markdown",
      "metadata": {
        "id": "ADeItl72OXOs"
      },
      "source": [
        "## 2-3. array와 스칼라 연산\n",
        "\n",
        "array에 어떤수를 곱해 0을 만들어 보자!"
      ]
    },
    {
      "cell_type": "code",
      "execution_count": 99,
      "metadata": {
        "id": "bi9AS1aBOWlQ"
      },
      "outputs": [
        {
          "data": {
            "text/plain": [
              "array([[0., 0., 0., 0., 0., 0.],\n",
              "       [0., 0., 0., 0., 0., 0.],\n",
              "       [0., 0., 0., 0., 0., 0.],\n",
              "       [0., 0., 0., 0., 0., 0.],\n",
              "       [0., 0., 0., 0., 0., 0.]])"
            ]
          },
          "execution_count": 99,
          "metadata": {},
          "output_type": "execute_result"
        }
      ],
      "source": [
        "arr_x = np.random.rand(5,6)\n",
        "arr_x * 0"
      ]
    },
    {
      "cell_type": "markdown",
      "metadata": {
        "id": "Gw8Dp3v2OsLC"
      },
      "source": [
        "# 3. Array 인덱싱\n",
        "numpy에서 사용되는 인덱싱은 기본적으로 python 인덱싱과 동일하다.\n",
        "\n",
        "**이때, python에서와 같이 1번째로 시작하는 것이 아니라 0번째로 시작하는 것에 주의한다.**"
      ]
    },
    {
      "cell_type": "markdown",
      "metadata": {
        "id": "orPUgYnaOzOy"
      },
      "source": [
        "## 3-1. array를 만들어 N번째 요소 가져오기\n",
        "\n",
        "0 ~ 10까지의 array를 만들어 주어진 번호에 맞는 요소를 구해보자\n",
        "\n",
        "요구사항 : N = 3 , M = 7이며, 구하고자 하는 값은 3번째 요소, 7번째 요소, 3부터7까지의 모든 요소 이다."
      ]
    },
    {
      "cell_type": "code",
      "execution_count": 102,
      "metadata": {
        "colab": {
          "base_uri": "https://localhost:8080/"
        },
        "id": "-lBROVDGPLa7",
        "outputId": "d7b513ea-16b0-493a-d0dc-c231a99bb0d2"
      },
      "outputs": [
        {
          "name": "stdout",
          "output_type": "stream",
          "text": [
            "배열 : [ 5  8  5 10 19 13 19  9 16  6 18  3  2  6 10  2 18 18 10  8]\n",
            "\n",
            "인덱싱 후 : [10 19 13 19]\n"
          ]
        }
      ],
      "source": [
        "N, M = 3, 7\n",
        "arr_indexing = np.random.randint(0,20,20)\n",
        "print(f\"배열 : {arr_indexing}\\n\\n인덱싱 후 : {arr_indexing[N:M]}\")"
      ]
    },
    {
      "cell_type": "code",
      "execution_count": 105,
      "metadata": {},
      "outputs": [
        {
          "name": "stdout",
          "output_type": "stream",
          "text": [
            "인덱스 번호 : 0 요소 값 : 5\n",
            "인덱스 번호 : 1 요소 값 : 8\n",
            "인덱스 번호 : 2 요소 값 : 5\n",
            "인덱스 번호 : 3 요소 값 : 10\n",
            "인덱스 번호 : 4 요소 값 : 19\n",
            "인덱스 번호 : 5 요소 값 : 13\n",
            "인덱스 번호 : 6 요소 값 : 19\n",
            "인덱스 번호 : 7 요소 값 : 9\n",
            "인덱스 번호 : 8 요소 값 : 16\n",
            "인덱스 번호 : 9 요소 값 : 6\n",
            "인덱스 번호 : 10 요소 값 : 18\n",
            "인덱스 번호 : 11 요소 값 : 3\n",
            "인덱스 번호 : 12 요소 값 : 2\n",
            "인덱스 번호 : 13 요소 값 : 6\n",
            "인덱스 번호 : 14 요소 값 : 10\n",
            "인덱스 번호 : 15 요소 값 : 2\n",
            "인덱스 번호 : 16 요소 값 : 18\n",
            "인덱스 번호 : 17 요소 값 : 18\n",
            "인덱스 번호 : 18 요소 값 : 10\n",
            "인덱스 번호 : 19 요소 값 : 8\n"
          ]
        }
      ],
      "source": [
        "for i,v in enumerate(arr_indexing):\n",
        "    print(f\"인덱스 번호 : {i} 요소 값 : {v}\")"
      ]
    },
    {
      "cell_type": "markdown",
      "metadata": {
        "id": "o6SU4hmmPX5P"
      },
      "source": [
        "## 3-2. 2차원 array를 만들어 요소 가져오기\n",
        "\n",
        "1. N행의 모든 요소 가져오기\n",
        "2. M열의 모든 요소 가져오기\n",
        "3. N행의 M열 요소 가져오기"
      ]
    },
    {
      "cell_type": "code",
      "execution_count": 114,
      "metadata": {
        "id": "p1XRXjK2PlIf"
      },
      "outputs": [
        {
          "name": "stdout",
          "output_type": "stream",
          "text": [
            "배열 : \n",
            "[[3 8 8 6 6 6 3 8]\n",
            " [8 3 4 2 6 0 5 4]\n",
            " [3 3 3 7 2 3 0 5]\n",
            " [8 9 5 9 5 4 7 6]]\n",
            "3행의 모든 요소 가져오기 : [8 9 5 9 5 4 7 6]\n",
            "7열의 모든 요소 가져오기 : [8 4 5 6]\n",
            "3행 7열의 요소 가져오기 : 6\n"
          ]
        }
      ],
      "source": [
        "# 현재 N = 3 , M = 7 \n",
        "arr_two_dim_indexing = np.random.randint(10, size=(4,8))\n",
        "print(f\"배열 : \\n{arr_two_dim_indexing}\")\n",
        "print(f\"3행의 모든 요소 가져오기 : {arr_two_dim_indexing[N,:]}\")\n",
        "print(f\"7열의 모든 요소 가져오기 : {arr_two_dim_indexing[:,M]}\")\n",
        "print(f\"3행 7열의 요소 가져오기 : {arr_two_dim_indexing[N,M]}\")"
      ]
    },
    {
      "cell_type": "markdown",
      "metadata": {
        "id": "0dXM8CS0P6QJ"
      },
      "source": [
        "# 4. Array boolean 인덱싱 (aka. 마스크)\n",
        "\n",
        "위에서 이용한 다차원의 인덱싱을 응용하여 boolean 인덱싱을 할 수 있다.\n",
        "\n",
        "해당 기능은 주로 마스크라고 이야기하는데, boolean인덱싱을 통해 만들어낸 array를 통해\n",
        "\n",
        "우리가 원하는 행 또는 열의 값만 뽑아낼 수 있다.\n",
        "\n",
        "**즉, 마스크처럼 우리가 가리고 싶은 부분은 가리고, 원하는 요소만 꺼낼 수 있다.**"
      ]
    },
    {
      "cell_type": "markdown",
      "metadata": {
        "id": "673gHiB2QCDE"
      },
      "source": [
        "원하는 문자열 형태의 array를 만들고 이를 활용해 인덱싱 해보자"
      ]
    },
    {
      "cell_type": "code",
      "execution_count": 65,
      "metadata": {
        "id": "ObcGkheqQOZm"
      },
      "outputs": [
        {
          "data": {
            "text/plain": [
              "array([[-2.65379829, -0.39229186, -0.60187498,  0.66336337],\n",
              "       [-0.3197116 ,  0.01500733, -0.7054033 , -0.64026212],\n",
              "       [-0.19833073,  1.25637368, -0.48885718, -1.11642334],\n",
              "       [-0.78034953, -0.28984636,  0.38642811, -0.54728812],\n",
              "       [-0.67852066, -0.36907065,  1.27701136,  1.87702117],\n",
              "       [ 0.15510605, -0.35189849, -0.19651811, -0.99956056],\n",
              "       [-0.08696091, -2.25296817, -0.15048171,  2.10799978],\n",
              "       [-0.01906754, -0.08904206, -1.12901716, -0.76880264],\n",
              "       [-0.33501377, -0.05361371, -0.39661403,  0.34857904]])"
            ]
          },
          "execution_count": 65,
          "metadata": {},
          "output_type": "execute_result"
        }
      ],
      "source": [
        "rand_arr = np.random.randn(9,4)\n",
        "rand_arr"
      ]
    },
    {
      "cell_type": "code",
      "execution_count": 66,
      "metadata": {
        "id": "wNLU8konQLH3"
      },
      "outputs": [
        {
          "data": {
            "text/plain": [
              "array([[-2.65379829, -0.39229186],\n",
              "       [-0.3197116 ,  0.01500733],\n",
              "       [-0.19833073,  1.25637368],\n",
              "       [-0.78034953, -0.28984636],\n",
              "       [-0.67852066, -0.36907065],\n",
              "       [ 0.15510605, -0.35189849],\n",
              "       [-0.08696091, -2.25296817],\n",
              "       [-0.01906754, -0.08904206],\n",
              "       [-0.33501377, -0.05361371]])"
            ]
          },
          "execution_count": 66,
          "metadata": {},
          "output_type": "execute_result"
        }
      ],
      "source": [
        "# here your code...\n",
        "str_arr = np.array([\"1\",\"1\",\"2\",\"3\"])\n",
        "\n",
        "mask = (str_arr == \"1\")\n",
        "mask\n",
        "\n",
        "rand_arr[:,mask]"
      ]
    },
    {
      "cell_type": "markdown",
      "metadata": {
        "id": "Atl6NQ_6RmdK"
      },
      "source": [
        "## 4-1. 논리 연산자를 이용해서 인덱싱 하기\n",
        "\n",
        "논리 연산자 : Python에서는 &, |(shift + \\키) 등이 있다. 이를 활용하자"
      ]
    },
    {
      "cell_type": "code",
      "execution_count": 67,
      "metadata": {
        "id": "EVDIAhdKR3n5"
      },
      "outputs": [
        {
          "data": {
            "text/plain": [
              "array([[-2.65379829, -0.39229186, -0.60187498],\n",
              "       [-0.3197116 ,  0.01500733, -0.7054033 ],\n",
              "       [-0.19833073,  1.25637368, -0.48885718],\n",
              "       [-0.78034953, -0.28984636,  0.38642811],\n",
              "       [-0.67852066, -0.36907065,  1.27701136],\n",
              "       [ 0.15510605, -0.35189849, -0.19651811],\n",
              "       [-0.08696091, -2.25296817, -0.15048171],\n",
              "       [-0.01906754, -0.08904206, -1.12901716],\n",
              "       [-0.33501377, -0.05361371, -0.39661403]])"
            ]
          },
          "execution_count": 67,
          "metadata": {},
          "output_type": "execute_result"
        }
      ],
      "source": [
        "# here your code...\n",
        "rand_arr[:,(str_arr == \"1\" )|(str_arr == \"2\")]"
      ]
    },
    {
      "cell_type": "markdown",
      "metadata": {
        "id": "u_rFPOvnSGas"
      },
      "source": [
        "# 5. 통계 함수를 사용해 array의 값의 통계 구하기\n",
        "\n",
        "- sum()\n",
        "- max()\n",
        "- min()\n",
        "- mean()\n",
        "- std()"
      ]
    },
    {
      "cell_type": "code",
      "execution_count": 124,
      "metadata": {
        "colab": {
          "base_uri": "https://localhost:8080/"
        },
        "id": "1bY5MhxaSTLT",
        "outputId": "7575b18a-4ca0-4e98-cd55-611adf9e6668"
      },
      "outputs": [
        {
          "name": "stdout",
          "output_type": "stream",
          "text": [
            "sum : 42.78    \n",
            "max : 1.0    \n",
            "min : 0.02    \n",
            "mean : 0.5347500000000001    \n",
            "std: 0.278953289100523\n"
          ]
        }
      ],
      "source": [
        "arr_statistics = np.around(np.random.rand(10,8),2) # around()는 넘파이에서 지원하는 자릿수 반올림 함수임\n",
        "print(\n",
        "    f\"sum : {arr_statistics.sum()}\\\n",
        "    \\nmax : {arr_statistics.max()}\\\n",
        "    \\nmin : {arr_statistics.min()}\\\n",
        "    \\nmean : {arr_statistics.mean()}\\\n",
        "    \\nstd: {arr_statistics.std()}\"\n",
        "    )"
      ]
    },
    {
      "cell_type": "markdown",
      "metadata": {
        "id": "4cice0DHSfFv"
      },
      "source": [
        "## 5-1. 전체 성분의 최소값, 최대값이 위치한 인덱스 반환하기\n",
        "\n",
        "- argmin() : 최소값이 있는 인덱스 반환\n",
        "- argmax() : 최대값이 있는 인덱스 반환 "
      ]
    },
    {
      "cell_type": "code",
      "execution_count": 126,
      "metadata": {
        "id": "34YMjCXKSrqZ"
      },
      "outputs": [
        {
          "name": "stdout",
          "output_type": "stream",
          "text": [
            "최대값 인덱스 : 73    \n",
            "최소값 인덱스 : 3\n"
          ]
        }
      ],
      "source": [
        "print(\n",
        "    f\"최대값 인덱스 : {arr_statistics.argmax()}\\\n",
        "    \\n최소값 인덱스 : {arr_statistics.argmin()}\"\n",
        "    )"
      ]
    },
    {
      "cell_type": "markdown",
      "metadata": {
        "id": "bmccdpMfSuuB"
      },
      "source": [
        "## 5-2. 처음부터 각 성분의 누적합, 누적곱 계산\n",
        "\n",
        "- cumsum() : 누적 합\n",
        "- cumprod() : 누적 곱"
      ]
    },
    {
      "cell_type": "code",
      "execution_count": 75,
      "metadata": {
        "id": "yEjgo7R9S4gw"
      },
      "outputs": [
        {
          "data": {
            "text/plain": [
              "array([-0.30008319,  0.35924778, -0.73545291, -1.4995652 , -0.47509126,\n",
              "       -0.6188506 ,  0.9223032 ,  0.36106638, -0.99874883,  0.97977677,\n",
              "        2.60222754,  3.13048298,  1.67964972,  1.26102167,  1.97282602])"
            ]
          },
          "execution_count": 75,
          "metadata": {},
          "output_type": "execute_result"
        }
      ],
      "source": [
        "# here your code...\n",
        "arr1.cumsum()"
      ]
    },
    {
      "cell_type": "code",
      "execution_count": 76,
      "metadata": {},
      "outputs": [
        {
          "data": {
            "text/plain": [
              "array([          2,           6,          24,         120,         720,\n",
              "              1440,        2880,        5760,       11520,       23040,\n",
              "             46080,      138240,      552960,     2764800,    16588800,\n",
              "          33177600,    66355200,   132710400,   265420800,   530841600,\n",
              "        1061683200, -1109917696,  -144703488,  -723517440,   -46137344,\n",
              "         -92274688,  -184549376,  -369098752,  -738197504, -1476395008],\n",
              "      dtype=int32)"
            ]
          },
          "execution_count": 76,
          "metadata": {},
          "output_type": "execute_result"
        }
      ],
      "source": [
        "arr2.cumprod()"
      ]
    },
    {
      "cell_type": "markdown",
      "metadata": {
        "id": "Qrck_akCTBRH"
      },
      "source": [
        "# 6. array 정렬 하기\n",
        "\n",
        "오름차순, 내림차순 정렬을 해보자"
      ]
    },
    {
      "cell_type": "code",
      "execution_count": 130,
      "metadata": {
        "id": "Sp4jpsQcTHD7"
      },
      "outputs": [
        {
          "name": "stdout",
          "output_type": "stream",
          "text": [
            "정렬 전 : \n",
            "[[13  5  8 10  3]\n",
            " [ 4  4  2 13  0]\n",
            " [ 1  5  8 11 12]\n",
            " [ 1 13  0  2  3]\n",
            " [ 5  2 12 14  2]]\n",
            "정렬 후 : \n",
            "[[ 3  5  8 10 13]\n",
            " [ 0  2  4  4 13]\n",
            " [ 1  5  8 11 12]\n",
            " [ 0  1  2  3 13]\n",
            " [ 2  2  5 12 14]]\n"
          ]
        }
      ],
      "source": [
        "arr_sort = np.random.randint(15, size= (5,5))\n",
        "print(f\"정렬 전 : \\n{arr_sort}\\n정렬 후 : \\n{np.sort(arr_sort)}\")"
      ]
    },
    {
      "cell_type": "code",
      "execution_count": 131,
      "metadata": {
        "id": "DqGvWLjOTG8T"
      },
      "outputs": [
        {
          "name": "stdout",
          "output_type": "stream",
          "text": [
            "정렬 전 : \n",
            "[[13  4  1  5 14]\n",
            " [13 13  3  2  1]\n",
            " [ 2 14  8  1  9]\n",
            " [ 9  0  8  0 11]\n",
            " [ 2 13  0 11 12]]\n",
            "정렬 후 : \n",
            "[[ 0  2 11 12 13]\n",
            " [ 0  0  8  9 11]\n",
            " [ 1  2  8  9 14]\n",
            " [ 1  2  3 13 13]\n",
            " [ 1  4  5 13 14]]\n"
          ]
        }
      ],
      "source": [
        "arr_sort = np.random.randint(15, size= (5,5))\n",
        "print(f\"정렬 전 : \\n{arr_sort}\\n정렬 후 : \\n{np.sort(arr_sort)[::-1]}\")"
      ]
    },
    {
      "cell_type": "markdown",
      "metadata": {
        "id": "cdoV18C_TTDK"
      },
      "source": [
        "# 고생했어요^^\n",
        "\n",
        "다음 시간에는 **pandas**에 대해서 알아보도록 하겠습니다.\n",
        "\n",
        "질문이나 문의사항은 **github issues**를 활용해주세요(방법 모르면 개인적으로 물어봐주길)\n",
        "\n",
        "기타 모두가 보면 안될 질문은 갠톡 부탁합니다.^^"
      ]
    }
  ],
  "metadata": {
    "colab": {
      "name": "#2-Numpy실습.ipynb",
      "provenance": []
    },
    "kernelspec": {
      "display_name": "Python 3",
      "name": "python3"
    },
    "language_info": {
      "codemirror_mode": {
        "name": "ipython",
        "version": 3
      },
      "file_extension": ".py",
      "mimetype": "text/x-python",
      "name": "python",
      "nbconvert_exporter": "python",
      "pygments_lexer": "ipython3",
      "version": "3.9.7"
    }
  },
  "nbformat": 4,
  "nbformat_minor": 0
}
