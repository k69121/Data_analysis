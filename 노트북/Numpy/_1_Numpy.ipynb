{
  "nbformat": 4,
  "nbformat_minor": 0,
  "metadata": {
    "colab": {
      "name": "#1_Numpy.ipynb",
      "provenance": [],
      "collapsed_sections": []
    },
    "kernelspec": {
      "name": "python3",
      "display_name": "Python 3"
    },
    "language_info": {
      "name": "python"
    }
  },
  "cells": [
    {
      "cell_type": "markdown",
      "source": [
        "# Numpy\n",
        "\n",
        "Numpy는 C언어로 구현된 파이썬 라이브러리이다.\n",
        "\n",
        "주로 고성능 수치계산을 위해 제작되었다.\n",
        "\n",
        "Numerical Python의 줄임말임(몰라도됨)\n",
        "\n",
        "\n",
        "데이터 분석에서 가장 밀접하게 연관되어 사용되는 Numpy는 꼭 잘 알아두자.\n",
        "\n",
        "Numpy는 기본적으로 array라는 단위로 데이터를 관리하며 연산을 수행한다.\n",
        "\n",
        "array는 말그대로 행렬이라는 개념으로 생각하자.\n"
      ],
      "metadata": {
        "id": "tjJP0jNtJpbo"
      }
    },
    {
      "cell_type": "markdown",
      "source": [
        "# 1. Numpy 사용하기"
      ],
      "metadata": {
        "id": "nG2k4bJLLjiU"
      }
    },
    {
      "cell_type": "code",
      "source": [
        "import numpy as np\n",
        "# import 가져온다는 의미로 생각\n",
        "# numpy는 해당 라이브러리 의미\n",
        "# as는 별칭(alias)을 부여하겠다는 의미 np는 별칭 \n",
        "# 이제 numpy는 np로 사용이 가능함."
      ],
      "metadata": {
        "id": "zJVIzWocK-Cx"
      },
      "execution_count": 11,
      "outputs": []
    },
    {
      "cell_type": "markdown",
      "source": [
        "# 2. Array 정의 및 사용하기"
      ],
      "metadata": {
        "id": "GRg2zcpyLfZT"
      }
    },
    {
      "cell_type": "code",
      "source": [
        "data1 = [1, 2, 3, 4, 5]\n",
        "data1"
      ],
      "metadata": {
        "colab": {
          "base_uri": "https://localhost:8080/"
        },
        "id": "O5WJqxKNLY7l",
        "outputId": "bc74213b-db36-4a1b-c436-b9e4ae50059f"
      },
      "execution_count": 1,
      "outputs": [
        {
          "output_type": "execute_result",
          "data": {
            "text/plain": [
              "[1, 2, 3, 4, 5]"
            ]
          },
          "metadata": {},
          "execution_count": 1
        }
      ]
    },
    {
      "cell_type": "code",
      "source": [
        "data2 = [1,2,3,3.5,4]\n",
        "data2"
      ],
      "metadata": {
        "colab": {
          "base_uri": "https://localhost:8080/"
        },
        "id": "3yMuakpWLctl",
        "outputId": "ad143501-c030-40fc-bebc-8102d8453e0b"
      },
      "execution_count": 2,
      "outputs": [
        {
          "output_type": "execute_result",
          "data": {
            "text/plain": [
              "[1, 2, 3, 3.5, 4]"
            ]
          },
          "metadata": {},
          "execution_count": 2
        }
      ]
    },
    {
      "cell_type": "markdown",
      "source": [
        "```data1``` 과 ```data2```는 파이썬에서 제공하는 list라는 자료형이다."
      ],
      "metadata": {
        "id": "jybDavgKLrbZ"
      }
    },
    {
      "cell_type": "code",
      "source": [
        "# numpy를 이용하여 array 정의하기\n",
        "# 1. 위에서 만든 python list를 이용\n",
        "arr1 = np.array(data1)\n",
        "arr1"
      ],
      "metadata": {
        "colab": {
          "base_uri": "https://localhost:8080/"
        },
        "id": "vrM53ZXVL0XI",
        "outputId": "3a2b9cad-7ab5-49a6-e0b4-7f535b7f0b4f"
      },
      "execution_count": 5,
      "outputs": [
        {
          "output_type": "execute_result",
          "data": {
            "text/plain": [
              "array([1, 2, 3, 4, 5])"
            ]
          },
          "metadata": {},
          "execution_count": 5
        }
      ]
    },
    {
      "cell_type": "code",
      "source": [
        "# 만약 as np를 안했을 경우.\n",
        "# 실습을 하고싶다면 주석을 지우고 실행 후 다시 주석하기!\n",
        "# import numpy\n",
        "# arr1 = numpy.array(data1)\n",
        "# arr1"
      ],
      "metadata": {
        "colab": {
          "base_uri": "https://localhost:8080/"
        },
        "id": "tNMU34h_L8II",
        "outputId": "6a212e93-0ff0-4b84-daab-5eb96491ff63"
      },
      "execution_count": 10,
      "outputs": [
        {
          "output_type": "execute_result",
          "data": {
            "text/plain": [
              "array([1, 2, 3, 4, 5])"
            ]
          },
          "metadata": {},
          "execution_count": 10
        }
      ]
    },
    {
      "cell_type": "code",
      "source": [
        "arr1.shape"
      ],
      "metadata": {
        "colab": {
          "base_uri": "https://localhost:8080/"
        },
        "id": "m-xxTbPkOR2W",
        "outputId": "7551b5b1-05b4-4257-ee8a-c9bb49f65b64"
      },
      "execution_count": 12,
      "outputs": [
        {
          "output_type": "execute_result",
          "data": {
            "text/plain": [
              "(5,)"
            ]
          },
          "metadata": {},
          "execution_count": 12
        }
      ]
    },
    {
      "cell_type": "code",
      "source": [
        "# 2. 바로 python list를 넣어 줌으로써 만들기\n",
        "arr2 = np.array([1,2,3,4,5])\n",
        "arr2"
      ],
      "metadata": {
        "colab": {
          "base_uri": "https://localhost:8080/"
        },
        "id": "yl3MaluUOVHl",
        "outputId": "4a1bd5eb-eecd-473c-c1a5-1ed81d9b5250"
      },
      "execution_count": 13,
      "outputs": [
        {
          "output_type": "execute_result",
          "data": {
            "text/plain": [
              "array([1, 2, 3, 4, 5])"
            ]
          },
          "metadata": {},
          "execution_count": 13
        }
      ]
    },
    {
      "cell_type": "code",
      "source": [
        "arr2.shape"
      ],
      "metadata": {
        "colab": {
          "base_uri": "https://localhost:8080/"
        },
        "id": "-iwAKDQeOXVt",
        "outputId": "8551605d-a357-4046-f9de-a286c5416aa6"
      },
      "execution_count": 14,
      "outputs": [
        {
          "output_type": "execute_result",
          "data": {
            "text/plain": [
              "(5,)"
            ]
          },
          "metadata": {},
          "execution_count": 14
        }
      ]
    },
    {
      "cell_type": "code",
      "source": [
        "# array의 자료형을 확인할 수 있다.\n",
        "arr2.dtype"
      ],
      "metadata": {
        "colab": {
          "base_uri": "https://localhost:8080/"
        },
        "id": "nxdQuFK8OYar",
        "outputId": "5d1c24fc-7f89-490d-9eae-575387467997"
      },
      "execution_count": 15,
      "outputs": [
        {
          "output_type": "execute_result",
          "data": {
            "text/plain": [
              "dtype('int64')"
            ]
          },
          "metadata": {},
          "execution_count": 15
        }
      ]
    },
    {
      "cell_type": "code",
      "source": [
        "arr3 = np.array(data2)\n",
        "arr3"
      ],
      "metadata": {
        "colab": {
          "base_uri": "https://localhost:8080/"
        },
        "id": "CsjlCDVfObfN",
        "outputId": "5cb3aeb7-1e0f-4556-b725-ddea5de76c77"
      },
      "execution_count": 16,
      "outputs": [
        {
          "output_type": "execute_result",
          "data": {
            "text/plain": [
              "array([1. , 2. , 3. , 3.5, 4. ])"
            ]
          },
          "metadata": {},
          "execution_count": 16
        }
      ]
    },
    {
      "cell_type": "code",
      "source": [
        "arr3.shape"
      ],
      "metadata": {
        "colab": {
          "base_uri": "https://localhost:8080/"
        },
        "id": "2igQWBQ3OdJu",
        "outputId": "6738b6f6-5d81-41c5-8609-b3b34632f7eb"
      },
      "execution_count": 17,
      "outputs": [
        {
          "output_type": "execute_result",
          "data": {
            "text/plain": [
              "(5,)"
            ]
          },
          "metadata": {},
          "execution_count": 17
        }
      ]
    },
    {
      "cell_type": "code",
      "source": [
        "arr3.dtype"
      ],
      "metadata": {
        "colab": {
          "base_uri": "https://localhost:8080/"
        },
        "id": "tgbxWzTXOgmI",
        "outputId": "bd758037-a583-464b-eedf-ebe66de9aff8"
      },
      "execution_count": 18,
      "outputs": [
        {
          "output_type": "execute_result",
          "data": {
            "text/plain": [
              "dtype('float64')"
            ]
          },
          "metadata": {},
          "execution_count": 18
        }
      ]
    },
    {
      "cell_type": "code",
      "source": [
        "arr4 = np.array([[1,2,3],[4,5,6],[7,8,9],[10,11,12]])\n",
        "arr4"
      ],
      "metadata": {
        "colab": {
          "base_uri": "https://localhost:8080/"
        },
        "id": "h5p6VgeGOhwe",
        "outputId": "3c7b2651-c9e3-4a20-c2c2-d09b0a58e59d"
      },
      "execution_count": 19,
      "outputs": [
        {
          "output_type": "execute_result",
          "data": {
            "text/plain": [
              "array([[ 1,  2,  3],\n",
              "       [ 4,  5,  6],\n",
              "       [ 7,  8,  9],\n",
              "       [10, 11, 12]])"
            ]
          },
          "metadata": {},
          "execution_count": 19
        }
      ]
    },
    {
      "cell_type": "code",
      "source": [
        "arr4.shape"
      ],
      "metadata": {
        "colab": {
          "base_uri": "https://localhost:8080/"
        },
        "id": "XTyQFy97OmH3",
        "outputId": "7f264788-8f7f-4b35-fccd-2c1937306d9f"
      },
      "execution_count": 20,
      "outputs": [
        {
          "output_type": "execute_result",
          "data": {
            "text/plain": [
              "(4, 3)"
            ]
          },
          "metadata": {},
          "execution_count": 20
        }
      ]
    },
    {
      "cell_type": "markdown",
      "source": [
        "**Numpy shape**\n",
        "\n",
        "numpy에서는 해당 array의 크기를 알 수 있다.\n",
        "shape를 확인함으로써 개의 데이터가 있는지, 몇 차원으로 존재하는지 등을 확인할 수 있다.\n",
        "\n",
        "위에서 arr1.shape의 결과는 (5,) 으로써, 1차원의 데이터이며 총 5라는 크기를 갖고 있음을 알 수 있다.\n",
        "\n",
        "arr4.shape의 결과는 (4,3) 으로써, 2차원의 데이터이며 4 * 3 크기를 갖고 있는 array 이다."
      ],
      "metadata": {
        "id": "hwIKfY5mOpo-"
      }
    },
    {
      "cell_type": "markdown",
      "source": [
        "**Numpy의 자료형**\n",
        "\n",
        "numpy 자료형\n",
        "\n",
        "arr1이나 arr2는 int64라는 자료형을 갖는 것에 반해 arr3는 float64라는 자료형을 갖는다.\n",
        "\n",
        "이는 arr3내부 데이터를 살펴보면 3.5라는 실수형 데이터를 갖기 때문임을 알 수 있다.\n",
        "\n",
        "numpy에서 사용되는 자료형은 아래와 같다. (자료형 뒤에 붙는 숫자는 몇 비트 크기인지를 의미한다.)\n",
        "\n",
        "- 부호가 있는 정수 int(8, 16, 32, 64)\n",
        "- 부호가 없는 정수 uint(8 ,16, 32, 54)\n",
        "- 실수 float(16, 32, 64, 128)\n",
        "- 복소수 complex(64, 128, 256)\n",
        "- 불리언 bool\n",
        "- 문자열 string_\n",
        "- 파이썬 오프젝트 object\n",
        "- 유니코드 unicode_\n",
        "\n"
      ],
      "metadata": {
        "id": "ka7ns8DjO_lD"
      }
    },
    {
      "cell_type": "markdown",
      "source": [
        "## 2.1 Numpy.zeors(), ones(), arange() \n",
        "\n",
        "numpy에서 array를 정의할 때 사용되는 함수들이다.\n",
        "\n",
        "아래 실습을 통해 각각이 어떻게 다른지 살펴본다.\n",
        "\n",
        "- np.zeros() 함수는 **인자로 받는 크기만큼, 모든요소가 0인 array를 만든다.**\n",
        "\n",
        "- np.ones() 함수는 **인자로 받는 크기만큼, 모든요소가 1인 array를 만든다.**\n",
        "\n",
        "- np.arange() 함수는 **인자로 받는 값 만큼 1씩 증가하는 1차원 array를 만든다.**\n",
        "    - 이때 하나의 인자만 입력하면 0 ~ 입력한 인자, 값 만큼의 크기를 가진다.\n",
        "\n",
        "\n",
        "\n"
      ],
      "metadata": {
        "id": "E-5b2cGpPPke"
      }
    },
    {
      "cell_type": "code",
      "source": [
        "zeor1 = np.zeros(10)\n",
        "zeor1"
      ],
      "metadata": {
        "colab": {
          "base_uri": "https://localhost:8080/"
        },
        "id": "BCVsaUSJPcfW",
        "outputId": "e716459a-4968-43ac-b0ec-017398022ddd"
      },
      "execution_count": 23,
      "outputs": [
        {
          "output_type": "execute_result",
          "data": {
            "text/plain": [
              "array([0., 0., 0., 0., 0., 0., 0., 0., 0., 0.])"
            ]
          },
          "metadata": {},
          "execution_count": 23
        }
      ]
    },
    {
      "cell_type": "code",
      "source": [
        "zero2 = np.zeros((3,5))\n",
        "zero2"
      ],
      "metadata": {
        "colab": {
          "base_uri": "https://localhost:8080/"
        },
        "id": "3LHLZ_MMPd9B",
        "outputId": "4bc1f3f8-fdc1-44f9-d9dd-8f9bf80a5216"
      },
      "execution_count": 26,
      "outputs": [
        {
          "output_type": "execute_result",
          "data": {
            "text/plain": [
              "array([[0., 0., 0., 0., 0.],\n",
              "       [0., 0., 0., 0., 0.],\n",
              "       [0., 0., 0., 0., 0.]])"
            ]
          },
          "metadata": {},
          "execution_count": 26
        }
      ]
    },
    {
      "cell_type": "code",
      "source": [
        "ones1 = np.ones(9)\n",
        "ones1"
      ],
      "metadata": {
        "colab": {
          "base_uri": "https://localhost:8080/"
        },
        "id": "wuTcUFD1PoB-",
        "outputId": "e56f3a2f-7a5f-4a6b-c0ac-ccccafe85b47"
      },
      "execution_count": 27,
      "outputs": [
        {
          "output_type": "execute_result",
          "data": {
            "text/plain": [
              "array([1., 1., 1., 1., 1., 1., 1., 1., 1.])"
            ]
          },
          "metadata": {},
          "execution_count": 27
        }
      ]
    },
    {
      "cell_type": "code",
      "source": [
        "ones2 = np.ones((2,10))\n",
        "ones2"
      ],
      "metadata": {
        "colab": {
          "base_uri": "https://localhost:8080/"
        },
        "id": "8T9RR7ykP_Da",
        "outputId": "ee26538f-e004-496c-87d5-bbcbcc0866c4"
      },
      "execution_count": 28,
      "outputs": [
        {
          "output_type": "execute_result",
          "data": {
            "text/plain": [
              "array([[1., 1., 1., 1., 1., 1., 1., 1., 1., 1.],\n",
              "       [1., 1., 1., 1., 1., 1., 1., 1., 1., 1.]])"
            ]
          },
          "metadata": {},
          "execution_count": 28
        }
      ]
    },
    {
      "cell_type": "code",
      "source": [
        "range1 = np.arange(10)\n",
        "range1"
      ],
      "metadata": {
        "colab": {
          "base_uri": "https://localhost:8080/"
        },
        "id": "9s1FDjpNQCzx",
        "outputId": "9fa48853-d2c1-4803-d254-2e4faa0474fc"
      },
      "execution_count": 30,
      "outputs": [
        {
          "output_type": "execute_result",
          "data": {
            "text/plain": [
              "array([0, 1, 2, 3, 4, 5, 6, 7, 8, 9])"
            ]
          },
          "metadata": {},
          "execution_count": 30
        }
      ]
    },
    {
      "cell_type": "code",
      "source": [
        "range2 = np.arange(3,10)\n",
        "range2"
      ],
      "metadata": {
        "colab": {
          "base_uri": "https://localhost:8080/"
        },
        "id": "r5jhabn2QGoB",
        "outputId": "560a239f-bccd-4607-ec30-45f85de5c14f"
      },
      "execution_count": 31,
      "outputs": [
        {
          "output_type": "execute_result",
          "data": {
            "text/plain": [
              "array([3, 4, 5, 6, 7, 8, 9])"
            ]
          },
          "metadata": {},
          "execution_count": 31
        }
      ]
    },
    {
      "cell_type": "markdown",
      "source": [
        "# 3. Array 연산\n",
        "기본적으로 numpy에서 연산을 할때는 **크기가 서로 동일한 array 끼리 연산이 진행된다.**\n",
        "\n",
        "이때 같은 위치에 있는 요소들 끼리 연산이 진행된다."
      ],
      "metadata": {
        "id": "-VX5JZfOQME8"
      }
    },
    {
      "cell_type": "code",
      "source": [
        "arr1 = np.array([[1,2,3],[4,5,6]])\n",
        "arr1"
      ],
      "metadata": {
        "colab": {
          "base_uri": "https://localhost:8080/"
        },
        "id": "xV0RS5IsQJyR",
        "outputId": "9a03f511-e36e-43b4-8e01-055dd084c76b"
      },
      "execution_count": 32,
      "outputs": [
        {
          "output_type": "execute_result",
          "data": {
            "text/plain": [
              "array([[1, 2, 3],\n",
              "       [4, 5, 6]])"
            ]
          },
          "metadata": {},
          "execution_count": 32
        }
      ]
    },
    {
      "cell_type": "code",
      "source": [
        "arr1.shape"
      ],
      "metadata": {
        "colab": {
          "base_uri": "https://localhost:8080/"
        },
        "id": "BiMJicGRQhJO",
        "outputId": "4364a521-7750-415c-d152-6bfbb09045c7"
      },
      "execution_count": 33,
      "outputs": [
        {
          "output_type": "execute_result",
          "data": {
            "text/plain": [
              "(2, 3)"
            ]
          },
          "metadata": {},
          "execution_count": 33
        }
      ]
    },
    {
      "cell_type": "code",
      "source": [
        "arr2 = np.array([[10,11,12],[13,14,15]])\n",
        "arr2"
      ],
      "metadata": {
        "colab": {
          "base_uri": "https://localhost:8080/"
        },
        "id": "94Y6-7HHQh_l",
        "outputId": "87a29572-f32c-4dd5-8cce-fd8d05e288ba"
      },
      "execution_count": 34,
      "outputs": [
        {
          "output_type": "execute_result",
          "data": {
            "text/plain": [
              "array([[10, 11, 12],\n",
              "       [13, 14, 15]])"
            ]
          },
          "metadata": {},
          "execution_count": 34
        }
      ]
    },
    {
      "cell_type": "code",
      "source": [
        "arr2.shape"
      ],
      "metadata": {
        "colab": {
          "base_uri": "https://localhost:8080/"
        },
        "id": "o_gbYmDfQkYe",
        "outputId": "7ea07bbe-3211-485f-f429-02ec22314b23"
      },
      "execution_count": 35,
      "outputs": [
        {
          "output_type": "execute_result",
          "data": {
            "text/plain": [
              "(2, 3)"
            ]
          },
          "metadata": {},
          "execution_count": 35
        }
      ]
    },
    {
      "cell_type": "markdown",
      "source": [
        "## 3-1 덧셈"
      ],
      "metadata": {
        "id": "VNWERy78QlY-"
      }
    },
    {
      "cell_type": "code",
      "source": [
        "arr3 = arr1 + arr2\n",
        "arr3 "
      ],
      "metadata": {
        "colab": {
          "base_uri": "https://localhost:8080/"
        },
        "id": "cVJek2ydQo0l",
        "outputId": "68886456-d1ac-4f3b-df1c-a5e7fea2183a"
      },
      "execution_count": 37,
      "outputs": [
        {
          "output_type": "execute_result",
          "data": {
            "text/plain": [
              "array([[11, 13, 15],\n",
              "       [17, 19, 21]])"
            ]
          },
          "metadata": {},
          "execution_count": 37
        }
      ]
    },
    {
      "cell_type": "markdown",
      "source": [
        "## 3-2 뺄셈"
      ],
      "metadata": {
        "id": "HTc48hzRQs99"
      }
    },
    {
      "cell_type": "code",
      "source": [
        "arr3 = arr1 - arr2\n",
        "arr3"
      ],
      "metadata": {
        "colab": {
          "base_uri": "https://localhost:8080/"
        },
        "id": "OnH12L8pQr7_",
        "outputId": "c221a5c5-2ec8-468b-8847-66cea9b862d3"
      },
      "execution_count": 38,
      "outputs": [
        {
          "output_type": "execute_result",
          "data": {
            "text/plain": [
              "array([[-9, -9, -9],\n",
              "       [-9, -9, -9]])"
            ]
          },
          "metadata": {},
          "execution_count": 38
        }
      ]
    },
    {
      "cell_type": "markdown",
      "source": [
        "## 3-3 곱셈\n"
      ],
      "metadata": {
        "id": "RJ3_hZg-QzuB"
      }
    },
    {
      "cell_type": "markdown",
      "source": [
        "행렬의 곱처럼 곱셈이 진행되는 것이 아니라 각 요소별로 곱셈이 진행된다."
      ],
      "metadata": {
        "id": "xzLaUoqPRtQ3"
      }
    },
    {
      "cell_type": "markdown",
      "source": [
        "![image.png](data:image/png;base64,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)"
      ],
      "metadata": {
        "id": "tleYEWU-R0Bx"
      }
    },
    {
      "cell_type": "code",
      "source": [
        "arr3 = arr1 * arr2\n",
        "arr3"
      ],
      "metadata": {
        "colab": {
          "base_uri": "https://localhost:8080/"
        },
        "id": "esRySoe0Q2b5",
        "outputId": "8adbf697-351f-4deb-db1c-c15b235087ec"
      },
      "execution_count": 41,
      "outputs": [
        {
          "output_type": "execute_result",
          "data": {
            "text/plain": [
              "array([[10, 22, 36],\n",
              "       [52, 70, 90]])"
            ]
          },
          "metadata": {},
          "execution_count": 41
        }
      ]
    },
    {
      "cell_type": "markdown",
      "source": [
        "## 3-4 나눗셈"
      ],
      "metadata": {
        "id": "zCfBNefzRCER"
      }
    },
    {
      "cell_type": "code",
      "source": [
        "arr3 = arr1 / arr2\n",
        "arr3"
      ],
      "metadata": {
        "colab": {
          "base_uri": "https://localhost:8080/"
        },
        "id": "N3UXAyoUQ_O5",
        "outputId": "96e8ce5b-b5b3-4235-a3d5-ce62d7975f88"
      },
      "execution_count": 42,
      "outputs": [
        {
          "output_type": "execute_result",
          "data": {
            "text/plain": [
              "array([[0.1       , 0.18181818, 0.25      ],\n",
              "       [0.30769231, 0.35714286, 0.4       ]])"
            ]
          },
          "metadata": {},
          "execution_count": 42
        }
      ]
    },
    {
      "cell_type": "markdown",
      "source": [
        "## 3-5. array의 브로드 캐스트\n",
        "\n",
        "위에서는 **array가 같은 크기를 가져야 서로 연산이 가능하다고 했지만,**\n",
        "\n",
        "numpy에서는 브로드캐스트라는 기능을 제공한다.\n",
        "\n",
        "브로드캐스트란, **서로 크기가 다른 array가 연산이 가능하게끔 하는 것이다.**\n"
      ],
      "metadata": {
        "id": "I90GlmVTRE0q"
      }
    },
    {
      "cell_type": "code",
      "source": [
        "arr1"
      ],
      "metadata": {
        "colab": {
          "base_uri": "https://localhost:8080/"
        },
        "id": "gLjmnqHoSQhE",
        "outputId": "6a699bcf-6ca9-4b52-c011-e25f3749d6d7"
      },
      "execution_count": 43,
      "outputs": [
        {
          "output_type": "execute_result",
          "data": {
            "text/plain": [
              "array([[1, 2, 3],\n",
              "       [4, 5, 6]])"
            ]
          },
          "metadata": {},
          "execution_count": 43
        }
      ]
    },
    {
      "cell_type": "code",
      "source": [
        "arr1.shape"
      ],
      "metadata": {
        "colab": {
          "base_uri": "https://localhost:8080/"
        },
        "id": "-Jpa6Xi4SSMk",
        "outputId": "ccd871f3-ca89-41b1-b2e8-bca9af8b9668"
      },
      "execution_count": 44,
      "outputs": [
        {
          "output_type": "execute_result",
          "data": {
            "text/plain": [
              "(2, 3)"
            ]
          },
          "metadata": {},
          "execution_count": 44
        }
      ]
    },
    {
      "cell_type": "code",
      "source": [
        "arr3 = np.array([10,11,12])\n",
        "arr3"
      ],
      "metadata": {
        "colab": {
          "base_uri": "https://localhost:8080/"
        },
        "id": "NjWGCrXbSTkY",
        "outputId": "dc0087d3-2845-4e78-8eb7-c7615d7b1db9"
      },
      "execution_count": 45,
      "outputs": [
        {
          "output_type": "execute_result",
          "data": {
            "text/plain": [
              "array([10, 11, 12])"
            ]
          },
          "metadata": {},
          "execution_count": 45
        }
      ]
    },
    {
      "cell_type": "code",
      "source": [
        "arr3.shape"
      ],
      "metadata": {
        "colab": {
          "base_uri": "https://localhost:8080/"
        },
        "id": "4LKfkEPqSVld",
        "outputId": "6ff3da40-e393-40f5-9fc6-3a8232d0a6be"
      },
      "execution_count": 46,
      "outputs": [
        {
          "output_type": "execute_result",
          "data": {
            "text/plain": [
              "(3,)"
            ]
          },
          "metadata": {},
          "execution_count": 46
        }
      ]
    },
    {
      "cell_type": "code",
      "source": [
        "arr1 + arr3"
      ],
      "metadata": {
        "colab": {
          "base_uri": "https://localhost:8080/"
        },
        "id": "FASg1WtESYNX",
        "outputId": "3eb4732f-e120-45a0-abc4-31fcc5aeb1b0"
      },
      "execution_count": 47,
      "outputs": [
        {
          "output_type": "execute_result",
          "data": {
            "text/plain": [
              "array([[11, 13, 15],\n",
              "       [14, 16, 18]])"
            ]
          },
          "metadata": {},
          "execution_count": 47
        }
      ]
    },
    {
      "cell_type": "code",
      "source": [
        "arr1 * arr3"
      ],
      "metadata": {
        "colab": {
          "base_uri": "https://localhost:8080/"
        },
        "id": "ctSoUCGSSZe1",
        "outputId": "64ff93e5-e3ab-4540-86a7-2841a2b24cf0"
      },
      "execution_count": 48,
      "outputs": [
        {
          "output_type": "execute_result",
          "data": {
            "text/plain": [
              "array([[10, 22, 36],\n",
              "       [40, 55, 72]])"
            ]
          },
          "metadata": {},
          "execution_count": 48
        }
      ]
    },
    {
      "cell_type": "markdown",
      "source": [
        "위와 같이 서로 크기가 다른 arr1과 arr3의 연산이 가능하다.\n",
        "\n",
        "연산결과를 살펴보면 arr3이 [10,11,12] 에서 [[10,11,12],[10,11,12]]로 확장되어 계산되었음을 확인할 수 있다.\n",
        "\n",
        "동일한 방식으로 하나의 array에 스칼라 연산도 가능하다.\n"
      ],
      "metadata": {
        "id": "S-s7ZWF4SeKu"
      }
    },
    {
      "cell_type": "code",
      "source": [
        "arr1 * 10"
      ],
      "metadata": {
        "colab": {
          "base_uri": "https://localhost:8080/"
        },
        "id": "b6NqAcEnSdRm",
        "outputId": "2467c4ef-7f83-4817-cc4e-2519ed08f29a"
      },
      "execution_count": 49,
      "outputs": [
        {
          "output_type": "execute_result",
          "data": {
            "text/plain": [
              "array([[10, 20, 30],\n",
              "       [40, 50, 60]])"
            ]
          },
          "metadata": {},
          "execution_count": 49
        }
      ]
    },
    {
      "cell_type": "code",
      "source": [
        "# 요소에 대해 제곱처리\n",
        "arr1 ** 2"
      ],
      "metadata": {
        "colab": {
          "base_uri": "https://localhost:8080/"
        },
        "id": "F3sh2-cfSiUu",
        "outputId": "63aee59a-248c-498c-a212-77745e7fe1cb"
      },
      "execution_count": 50,
      "outputs": [
        {
          "output_type": "execute_result",
          "data": {
            "text/plain": [
              "array([[ 1,  4,  9],\n",
              "       [16, 25, 36]])"
            ]
          },
          "metadata": {},
          "execution_count": 50
        }
      ]
    },
    {
      "cell_type": "markdown",
      "source": [
        "# 4. Array 인덱싱\n",
        "numpy에서 사용되는 인덱싱은 기본적으로 python 인덱싱과 동일하다.\n",
        "\n",
        "**이때, python에서와 같이 1번째로 시작하는 것이 아니라 0번째로 시작하는 것에 주의한다.**\n"
      ],
      "metadata": {
        "id": "xaSjLOmTSkQ8"
      }
    },
    {
      "cell_type": "code",
      "source": [
        "arr1 = np.arange(10)\n",
        "arr1"
      ],
      "metadata": {
        "colab": {
          "base_uri": "https://localhost:8080/"
        },
        "id": "B7eGBfC2Si9g",
        "outputId": "1e470410-031f-477d-848f-f2935e9189f3"
      },
      "execution_count": 51,
      "outputs": [
        {
          "output_type": "execute_result",
          "data": {
            "text/plain": [
              "array([0, 1, 2, 3, 4, 5, 6, 7, 8, 9])"
            ]
          },
          "metadata": {},
          "execution_count": 51
        }
      ]
    },
    {
      "cell_type": "code",
      "source": [
        "# 0번째 요소\n",
        "arr1[0]"
      ],
      "metadata": {
        "colab": {
          "base_uri": "https://localhost:8080/"
        },
        "id": "7BQtzPADSqeQ",
        "outputId": "3ee3739d-fc62-4ad4-8216-06a2a895472c"
      },
      "execution_count": 52,
      "outputs": [
        {
          "output_type": "execute_result",
          "data": {
            "text/plain": [
              "0"
            ]
          },
          "metadata": {},
          "execution_count": 52
        }
      ]
    },
    {
      "cell_type": "code",
      "source": [
        "# 3번째 요소\n",
        "arr1[3]"
      ],
      "metadata": {
        "colab": {
          "base_uri": "https://localhost:8080/"
        },
        "id": "e9oSWplJSrCs",
        "outputId": "e4ca8574-7c52-4f1b-d852-a5d35c6752b4"
      },
      "execution_count": 53,
      "outputs": [
        {
          "output_type": "execute_result",
          "data": {
            "text/plain": [
              "3"
            ]
          },
          "metadata": {},
          "execution_count": 53
        }
      ]
    },
    {
      "cell_type": "code",
      "source": [
        "# 3번째 요소부터 8번째 요소\n",
        "arr1[3:9]"
      ],
      "metadata": {
        "colab": {
          "base_uri": "https://localhost:8080/"
        },
        "id": "rD2iu0gGStrQ",
        "outputId": "dffa6288-cedd-4ebc-ee03-67f0d0a442e7"
      },
      "execution_count": 54,
      "outputs": [
        {
          "output_type": "execute_result",
          "data": {
            "text/plain": [
              "array([3, 4, 5, 6, 7, 8])"
            ]
          },
          "metadata": {},
          "execution_count": 54
        }
      ]
    },
    {
      "cell_type": "code",
      "source": [
        "# 전체\n",
        "arr1[:]"
      ],
      "metadata": {
        "colab": {
          "base_uri": "https://localhost:8080/"
        },
        "id": "TRbgxScFSvfI",
        "outputId": "f3dff259-a9a6-4e03-e5ff-3328fe9373a5"
      },
      "execution_count": 55,
      "outputs": [
        {
          "output_type": "execute_result",
          "data": {
            "text/plain": [
              "array([0, 1, 2, 3, 4, 5, 6, 7, 8, 9])"
            ]
          },
          "metadata": {},
          "execution_count": 55
        }
      ]
    },
    {
      "cell_type": "code",
      "source": [
        "# N부터M까지\n",
        "N = 2\n",
        "M = 7\n",
        "arr1[N:M]"
      ],
      "metadata": {
        "colab": {
          "base_uri": "https://localhost:8080/"
        },
        "id": "T5U4P_MCSwLY",
        "outputId": "b6e98eee-666b-4918-a190-417d0468c0e3"
      },
      "execution_count": 56,
      "outputs": [
        {
          "output_type": "execute_result",
          "data": {
            "text/plain": [
              "array([2, 3, 4, 5, 6])"
            ]
          },
          "metadata": {},
          "execution_count": 56
        }
      ]
    },
    {
      "cell_type": "code",
      "source": [
        "arr2 = np.array([[1,2,3,4],\n",
        "                 [5,6,7,8],\n",
        "                 [9,10,11,12]])\n",
        "arr2\n"
      ],
      "metadata": {
        "colab": {
          "base_uri": "https://localhost:8080/"
        },
        "id": "4YOejvObS5_I",
        "outputId": "3810e496-57bb-4933-891c-ee3813d19433"
      },
      "execution_count": 57,
      "outputs": [
        {
          "output_type": "execute_result",
          "data": {
            "text/plain": [
              "array([[ 1,  2,  3,  4],\n",
              "       [ 5,  6,  7,  8],\n",
              "       [ 9, 10, 11, 12]])"
            ]
          },
          "metadata": {},
          "execution_count": 57
        }
      ]
    },
    {
      "cell_type": "code",
      "source": [
        "# 2차원의 array에서 인덱싱을 하기 위해선 2개의 인자를 입력해야 합니다.\n",
        "arr2[0,0]"
      ],
      "metadata": {
        "colab": {
          "base_uri": "https://localhost:8080/"
        },
        "id": "_KgVzZxrS8Dg",
        "outputId": "abe2d9e6-707f-479c-ffcd-90599c69a343"
      },
      "execution_count": 58,
      "outputs": [
        {
          "output_type": "execute_result",
          "data": {
            "text/plain": [
              "1"
            ]
          },
          "metadata": {},
          "execution_count": 58
        }
      ]
    },
    {
      "cell_type": "code",
      "source": [
        "# 2행의 모든 요소 꺼내기\n",
        "arr2[2,:]"
      ],
      "metadata": {
        "colab": {
          "base_uri": "https://localhost:8080/"
        },
        "id": "9slQUSrQS97Q",
        "outputId": "d7b5664f-e7c5-4e1d-c784-cd3d772a7851"
      },
      "execution_count": 59,
      "outputs": [
        {
          "output_type": "execute_result",
          "data": {
            "text/plain": [
              "array([ 9, 10, 11, 12])"
            ]
          },
          "metadata": {},
          "execution_count": 59
        }
      ]
    },
    {
      "cell_type": "code",
      "source": [
        "# 2행의 3번째 요소 꺼내기\n",
        "arr2[2,3]"
      ],
      "metadata": {
        "colab": {
          "base_uri": "https://localhost:8080/"
        },
        "id": "6iYDeAAkS_OM",
        "outputId": "7783c383-52e2-4a6a-daf8-6b06bac8b071"
      },
      "execution_count": 60,
      "outputs": [
        {
          "output_type": "execute_result",
          "data": {
            "text/plain": [
              "12"
            ]
          },
          "metadata": {},
          "execution_count": 60
        }
      ]
    },
    {
      "cell_type": "code",
      "source": [
        "# 모든 행의 3번째 요소 꺼내기\n",
        "arr2[:,3]"
      ],
      "metadata": {
        "colab": {
          "base_uri": "https://localhost:8080/"
        },
        "id": "NDd7tXffTAWk",
        "outputId": "90bcc64e-22a9-493d-e21d-805f62dd68f0"
      },
      "execution_count": 61,
      "outputs": [
        {
          "output_type": "execute_result",
          "data": {
            "text/plain": [
              "array([ 4,  8, 12])"
            ]
          },
          "metadata": {},
          "execution_count": 61
        }
      ]
    },
    {
      "cell_type": "markdown",
      "source": [
        "# 5. Array boolean 인덱싱(마스크)\n",
        "위에서 이용한 다차원의 인덱싱을 응용하여 boolean 인덱싱을 할 수 있다.\n",
        "\n",
        "해당 기능은 주로 마스크라고 이야기하는데, boolean인덱싱을 통해 만들어낸 array를 통해\n",
        "\n",
        "우리가 원하는 행 또는 열의 값만 뽑아낼 수 있다.\n",
        "\n",
        "**즉, 마스크처럼 우리가 가리고 싶은 부분은 가리고, 원하는 요소만 꺼낼 수 있다.**\n"
      ],
      "metadata": {
        "id": "pr5G7SkVTCxI"
      }
    },
    {
      "cell_type": "code",
      "source": [
        "names = np.array(['박정현','김대로','공지환','이수원','이지민','박민서','정지우','나지성','정소영'])\n",
        "names\n"
      ],
      "metadata": {
        "colab": {
          "base_uri": "https://localhost:8080/"
        },
        "id": "rEYcDXrWTBeA",
        "outputId": "263632f3-53ca-4e67-de42-1d988508c0d3"
      },
      "execution_count": 66,
      "outputs": [
        {
          "output_type": "execute_result",
          "data": {
            "text/plain": [
              "array(['박정현', '김대로', '공지환', '이수원', '이지민', '박민서', '정지우', '나지성', '정소영'],\n",
              "      dtype='<U3')"
            ]
          },
          "metadata": {},
          "execution_count": 66
        }
      ]
    },
    {
      "cell_type": "code",
      "source": [
        "names.shape"
      ],
      "metadata": {
        "colab": {
          "base_uri": "https://localhost:8080/"
        },
        "id": "G2ZRpfD_TdBX",
        "outputId": "3db4a060-cbab-49ca-cd6c-74e0b5ac39f2"
      },
      "execution_count": 67,
      "outputs": [
        {
          "output_type": "execute_result",
          "data": {
            "text/plain": [
              "(9,)"
            ]
          },
          "metadata": {},
          "execution_count": 67
        }
      ]
    },
    {
      "cell_type": "code",
      "source": [
        "# 아래에서 사용되는 np.random.randn() 함수는 \n",
        "# 기대값이 0이고, 표준편차가 1인 가우시안 정규 분포를 따르는 난수를 발생시키는 함수이다.\n",
        "# 이 외에도 0~1의 난수를 발생시키는 np.random.rand() 함수도 존재한다.\n",
        "data = np.random.randn(9,4)\n",
        "data"
      ],
      "metadata": {
        "colab": {
          "base_uri": "https://localhost:8080/"
        },
        "id": "9W5bhzk2TfsL",
        "outputId": "3237235e-6638-4fc1-fff9-94e34835a844"
      },
      "execution_count": 87,
      "outputs": [
        {
          "output_type": "execute_result",
          "data": {
            "text/plain": [
              "array([[ 0.09135411, -0.07351957,  0.72298211,  0.40496406],\n",
              "       [ 0.73259225,  0.97252512,  0.11921529,  0.58846218],\n",
              "       [ 1.74816312, -0.14220383, -0.37773597, -0.66602013],\n",
              "       [ 0.44937306, -0.62608921, -1.224487  ,  0.39134186],\n",
              "       [ 0.86807838, -0.51754786, -0.40597414,  0.68371546],\n",
              "       [-0.14525472,  0.13200842, -0.13958964, -1.81441063],\n",
              "       [-0.2313064 , -0.11923985,  0.88688596,  0.95015375],\n",
              "       [-0.93100402, -1.33850426, -0.34145613, -2.11412811],\n",
              "       [ 2.65641446, -1.56847571, -0.48153405,  1.57943718]])"
            ]
          },
          "metadata": {},
          "execution_count": 87
        }
      ]
    },
    {
      "cell_type": "code",
      "source": [
        "data.shape"
      ],
      "metadata": {
        "colab": {
          "base_uri": "https://localhost:8080/"
        },
        "id": "NJGgn2BpTseH",
        "outputId": "b9fd3ac8-ab76-422b-bf63-396e83c39707"
      },
      "execution_count": 88,
      "outputs": [
        {
          "output_type": "execute_result",
          "data": {
            "text/plain": [
              "(9, 4)"
            ]
          },
          "metadata": {},
          "execution_count": 88
        }
      ]
    },
    {
      "cell_type": "markdown",
      "source": [
        "위와 같은 names와 data라는 array가 있다.\n",
        "\n",
        "이때, names의 각 요소가 data의 각 행과 연결된다고 가정해보자.\n",
        "\n",
        "그리고 이 때, names가 '박정현'인 행의 data만 보고 싶을 때 다음과 같이 마스크를 사용한다.\n"
      ],
      "metadata": {
        "id": "TKJ9XcjpWPWq"
      }
    },
    {
      "cell_type": "code",
      "source": [
        "names_park_mak = (names == '박정현')\n",
        "names_park_mak"
      ],
      "metadata": {
        "colab": {
          "base_uri": "https://localhost:8080/"
        },
        "id": "hDeSWnuQTtZP",
        "outputId": "4e182694-b5fe-4bb5-924c-914407eaa5e3"
      },
      "execution_count": 89,
      "outputs": [
        {
          "output_type": "execute_result",
          "data": {
            "text/plain": [
              "array([ True, False, False, False, False, False, False, False, False])"
            ]
          },
          "metadata": {},
          "execution_count": 89
        }
      ]
    },
    {
      "cell_type": "code",
      "source": [
        "data[names_park_mak,:]"
      ],
      "metadata": {
        "colab": {
          "base_uri": "https://localhost:8080/"
        },
        "id": "88aZ5ktUWY7S",
        "outputId": "97e9b218-52fc-4255-f7be-c6a2eefdd8f4"
      },
      "execution_count": 90,
      "outputs": [
        {
          "output_type": "execute_result",
          "data": {
            "text/plain": [
              "array([[ 0.09135411, -0.07351957,  0.72298211,  0.40496406]])"
            ]
          },
          "metadata": {},
          "execution_count": 90
        }
      ]
    },
    {
      "cell_type": "markdown",
      "source": [
        "위의 결과를 보면, 요소가 '박정현'인 것은 0번째, 1번째, 5번째, 7번째 이므로\n",
        "\n",
        "data에서 0행의 모든 요소를 꺼내와야 한다.\n",
        "\n",
        "이를 위해 요소가 '박정현'인 것에 대한 boolean 값을 가지는 mask를 만들었고\n",
        "\n",
        "마스크를 인덱싱에 응용하여 data의 0행을 꺼냈다.\n",
        "\n"
      ],
      "metadata": {
        "id": "p4E49OpSWxVe"
      }
    },
    {
      "cell_type": "code",
      "source": [
        "# 응용\n",
        "# 요소가 정소영, 정지우인 행의 데이터 꺼내기\n",
        "data[(names == '정지우') | (names == '정소영'), :]"
      ],
      "metadata": {
        "colab": {
          "base_uri": "https://localhost:8080/"
        },
        "id": "29quqUivW5aZ",
        "outputId": "1a79a829-c54b-4e3a-e207-fb5a979d29d0"
      },
      "execution_count": 91,
      "outputs": [
        {
          "output_type": "execute_result",
          "data": {
            "text/plain": [
              "array([[-0.2313064 , -0.11923985,  0.88688596,  0.95015375],\n",
              "       [ 2.65641446, -1.56847571, -0.48153405,  1.57943718]])"
            ]
          },
          "metadata": {},
          "execution_count": 91
        }
      ]
    },
    {
      "cell_type": "markdown",
      "source": [
        "**참고**로 2차원의 데이터에 인덱싱하는 방법은 여러가지 있겠지만, **대표적으로 [N, : M]형태를 많이 사용**"
      ],
      "metadata": {
        "id": "zZwMwK3bXf0N"
      }
    },
    {
      "cell_type": "markdown",
      "source": [
        "data array 자체적으로도 마스크를 만들고, 이를 응용하여 인덱싱이 가능하다.\n",
        "\n",
        "data array에서 0번째 열의 값이 0보다 작은 행을 구해보자."
      ],
      "metadata": {
        "id": "AsJMk8p7XxJ-"
      }
    },
    {
      "cell_type": "code",
      "source": [
        "# 먼저 마스크를 만든다.\n",
        "# data array에서 0번째 열이 0보다 작은 요소의 boolean 값은 다음과 같다.\n",
        "data[:,0] < 0"
      ],
      "metadata": {
        "colab": {
          "base_uri": "https://localhost:8080/"
        },
        "id": "9Fz-g-8VXwzZ",
        "outputId": "6a11f8be-247a-4f26-abc2-ab247ad6b6b9"
      },
      "execution_count": 92,
      "outputs": [
        {
          "output_type": "execute_result",
          "data": {
            "text/plain": [
              "array([False, False, False, False, False,  True,  True,  True, False])"
            ]
          },
          "metadata": {},
          "execution_count": 92
        }
      ]
    },
    {
      "cell_type": "code",
      "source": [
        "# 위에서 만든 마스크를 이용하여 0번째 열의 값이 0보다 작은 행을 구한다.\n",
        "data[data[:,0]<0,:]"
      ],
      "metadata": {
        "colab": {
          "base_uri": "https://localhost:8080/"
        },
        "id": "3Uq5fIoaX1jR",
        "outputId": "cf712651-d0c5-49e0-a53d-2089ffc2aaac"
      },
      "execution_count": 93,
      "outputs": [
        {
          "output_type": "execute_result",
          "data": {
            "text/plain": [
              "array([[-0.14525472,  0.13200842, -0.13958964, -1.81441063],\n",
              "       [-0.2313064 , -0.11923985,  0.88688596,  0.95015375],\n",
              "       [-0.93100402, -1.33850426, -0.34145613, -2.11412811]])"
            ]
          },
          "metadata": {},
          "execution_count": 93
        }
      ]
    },
    {
      "cell_type": "code",
      "source": [
        "# 0번째 열의 값이 0보다 작은 행의 2,3번째 열 값\n",
        "data[data[:,0]<0,2:4]"
      ],
      "metadata": {
        "colab": {
          "base_uri": "https://localhost:8080/"
        },
        "id": "Evd2s2EPYABK",
        "outputId": "24fb9e12-b519-443e-c88e-6704f44eea6e"
      },
      "execution_count": 94,
      "outputs": [
        {
          "output_type": "execute_result",
          "data": {
            "text/plain": [
              "array([[-0.13958964, -1.81441063],\n",
              "       [ 0.88688596,  0.95015375],\n",
              "       [-0.34145613, -2.11412811]])"
            ]
          },
          "metadata": {},
          "execution_count": 94
        }
      ]
    },
    {
      "cell_type": "markdown",
      "source": [
        "이를 통해 특정 위치에만 우리가 원하는 값을 대입할 수 있다.\n",
        "\n",
        "위에서 얻은, 0번째 열의 값이 0보다 작은 행의 2,3번째 열값에 0을 대입해보자."
      ],
      "metadata": {
        "id": "YWFBT8j5YGPB"
      }
    },
    {
      "cell_type": "code",
      "source": [
        "data[data[:,0]<0,2:4] = 0\n",
        "data"
      ],
      "metadata": {
        "colab": {
          "base_uri": "https://localhost:8080/"
        },
        "id": "SSGCyl5bYBTB",
        "outputId": "e7157cd1-6319-4998-ae83-8b4056b32d7a"
      },
      "execution_count": 95,
      "outputs": [
        {
          "output_type": "execute_result",
          "data": {
            "text/plain": [
              "array([[ 0.09135411, -0.07351957,  0.72298211,  0.40496406],\n",
              "       [ 0.73259225,  0.97252512,  0.11921529,  0.58846218],\n",
              "       [ 1.74816312, -0.14220383, -0.37773597, -0.66602013],\n",
              "       [ 0.44937306, -0.62608921, -1.224487  ,  0.39134186],\n",
              "       [ 0.86807838, -0.51754786, -0.40597414,  0.68371546],\n",
              "       [-0.14525472,  0.13200842,  0.        ,  0.        ],\n",
              "       [-0.2313064 , -0.11923985,  0.        ,  0.        ],\n",
              "       [-0.93100402, -1.33850426,  0.        ,  0.        ],\n",
              "       [ 2.65641446, -1.56847571, -0.48153405,  1.57943718]])"
            ]
          },
          "metadata": {},
          "execution_count": 95
        }
      ]
    },
    {
      "cell_type": "markdown",
      "source": [
        "# 6. Numpy 함수\n",
        "\n",
        "numpy 에서는 array에 적용되는 다양한 함수가 있다."
      ],
      "metadata": {
        "id": "Wq74OyFiYIZB"
      }
    },
    {
      "cell_type": "markdown",
      "source": [
        "## 6-1 하나의 array에 적용되는 함수"
      ],
      "metadata": {
        "id": "7FIdwvmhYOTa"
      }
    },
    {
      "cell_type": "code",
      "source": [
        "arr1 = np.random.randn(5,3)\n",
        "arr1"
      ],
      "metadata": {
        "colab": {
          "base_uri": "https://localhost:8080/"
        },
        "id": "IjiAXwVYYINq",
        "outputId": "5d0c0fb2-c177-4802-8b71-20bb18e724e0"
      },
      "execution_count": 96,
      "outputs": [
        {
          "output_type": "execute_result",
          "data": {
            "text/plain": [
              "array([[ 0.54150525, -0.77751686,  0.56125071],\n",
              "       [-1.05421928,  0.47547737, -0.98940082],\n",
              "       [-0.63706122,  0.88250137,  0.9716333 ],\n",
              "       [-0.33196756, -0.09971526, -0.77090156],\n",
              "       [-0.54474655,  0.316604  , -0.2721435 ]])"
            ]
          },
          "metadata": {},
          "execution_count": 96
        }
      ]
    },
    {
      "cell_type": "code",
      "source": [
        "# 각 성분의 절대값 계산하기\n",
        "np.abs(arr1)"
      ],
      "metadata": {
        "colab": {
          "base_uri": "https://localhost:8080/"
        },
        "id": "kIIRaph5YWvN",
        "outputId": "106be361-d12b-41bc-c48e-1e307347cb69"
      },
      "execution_count": 97,
      "outputs": [
        {
          "output_type": "execute_result",
          "data": {
            "text/plain": [
              "array([[0.54150525, 0.77751686, 0.56125071],\n",
              "       [1.05421928, 0.47547737, 0.98940082],\n",
              "       [0.63706122, 0.88250137, 0.9716333 ],\n",
              "       [0.33196756, 0.09971526, 0.77090156],\n",
              "       [0.54474655, 0.316604  , 0.2721435 ]])"
            ]
          },
          "metadata": {},
          "execution_count": 97
        }
      ]
    },
    {
      "cell_type": "code",
      "source": [
        "# 각 성분의 제곱근 계산하기 ( == array ** 0.5)\n",
        "np.sqrt(arr1)\n",
        "# NaN 음수에 대해 제곱근을 구하려는 연산에 대해서 불가능하다는 의미"
      ],
      "metadata": {
        "colab": {
          "base_uri": "https://localhost:8080/"
        },
        "id": "0p_7c76tYZ4e",
        "outputId": "eab986a9-caca-4d80-df7e-c71ce151cacc"
      },
      "execution_count": 99,
      "outputs": [
        {
          "output_type": "stream",
          "name": "stderr",
          "text": [
            "/usr/local/lib/python3.7/dist-packages/ipykernel_launcher.py:2: RuntimeWarning: invalid value encountered in sqrt\n",
            "  \n"
          ]
        },
        {
          "output_type": "execute_result",
          "data": {
            "text/plain": [
              "array([[0.73587041,        nan, 0.74916668],\n",
              "       [       nan, 0.68954867,        nan],\n",
              "       [       nan, 0.93941544, 0.98571462],\n",
              "       [       nan,        nan,        nan],\n",
              "       [       nan, 0.56267575,        nan]])"
            ]
          },
          "metadata": {},
          "execution_count": 99
        }
      ]
    },
    {
      "cell_type": "code",
      "source": [
        "# 각 성분의 제곱 계산하기\n",
        "np.square(arr1)"
      ],
      "metadata": {
        "colab": {
          "base_uri": "https://localhost:8080/"
        },
        "id": "GXKW6f0BYt0C",
        "outputId": "41911d89-8d61-4c56-f00b-f8dd8af31022"
      },
      "execution_count": 100,
      "outputs": [
        {
          "output_type": "execute_result",
          "data": {
            "text/plain": [
              "array([[0.29322794, 0.60453246, 0.31500236],\n",
              "       [1.11137828, 0.22607873, 0.97891398],\n",
              "       [0.405847  , 0.77880867, 0.94407128],\n",
              "       [0.11020246, 0.00994313, 0.59428921],\n",
              "       [0.2967488 , 0.10023809, 0.07406209]])"
            ]
          },
          "metadata": {},
          "execution_count": 100
        }
      ]
    },
    {
      "cell_type": "code",
      "source": [
        "# 각 성분을 무리수 e의 지수로 삼은 값을 계산하기\n",
        "np.exp(arr1)"
      ],
      "metadata": {
        "colab": {
          "base_uri": "https://localhost:8080/"
        },
        "id": "L_Xid0rMYvlh",
        "outputId": "0da69d9f-e861-4ad9-f7c5-73a56eb7eff9"
      },
      "execution_count": 101,
      "outputs": [
        {
          "output_type": "execute_result",
          "data": {
            "text/plain": [
              "array([[1.71859183, 0.45954571, 1.75286346],\n",
              "       [0.34846438, 1.60878199, 0.3717994 ],\n",
              "       [0.5288443 , 2.41693781, 2.64225654],\n",
              "       [0.7175106 , 0.9050951 , 0.46259582],\n",
              "       [0.57998876, 1.37245897, 0.76174494]])"
            ]
          },
          "metadata": {},
          "execution_count": 101
        }
      ]
    },
    {
      "cell_type": "code",
      "source": [
        "# 각 성분을 자연로그, 상용로그, 밑이 2인 로그를 씌운 값을 계산하기\n",
        "np.log(arr1)"
      ],
      "metadata": {
        "colab": {
          "base_uri": "https://localhost:8080/"
        },
        "id": "JEWxeFoWYzCh",
        "outputId": "4416e031-30ee-4ebc-899a-d7599f700f42"
      },
      "execution_count": 102,
      "outputs": [
        {
          "output_type": "stream",
          "name": "stderr",
          "text": [
            "/usr/local/lib/python3.7/dist-packages/ipykernel_launcher.py:2: RuntimeWarning: invalid value encountered in log\n",
            "  \n"
          ]
        },
        {
          "output_type": "execute_result",
          "data": {
            "text/plain": [
              "array([[-0.61340251,         nan, -0.57758757],\n",
              "       [        nan, -0.743436  ,         nan],\n",
              "       [        nan, -0.12499494, -0.02877681],\n",
              "       [        nan,         nan,         nan],\n",
              "       [        nan, -1.1501035 ,         nan]])"
            ]
          },
          "metadata": {},
          "execution_count": 102
        }
      ]
    },
    {
      "cell_type": "code",
      "source": [
        "np.log10(arr1)"
      ],
      "metadata": {
        "colab": {
          "base_uri": "https://localhost:8080/"
        },
        "id": "g8d4ND7bY1q5",
        "outputId": "2403be42-84ba-49c3-dd58-a32d037daa9f"
      },
      "execution_count": 103,
      "outputs": [
        {
          "output_type": "stream",
          "name": "stderr",
          "text": [
            "/usr/local/lib/python3.7/dist-packages/ipykernel_launcher.py:1: RuntimeWarning: invalid value encountered in log10\n",
            "  \"\"\"Entry point for launching an IPython kernel.\n"
          ]
        },
        {
          "output_type": "execute_result",
          "data": {
            "text/plain": [
              "array([[-0.26639732,         nan, -0.25084309],\n",
              "       [        nan, -0.32287015,         nan],\n",
              "       [        nan, -0.05428461, -0.01249761],\n",
              "       [        nan,         nan,         nan],\n",
              "       [        nan, -0.4994836 ,         nan]])"
            ]
          },
          "metadata": {},
          "execution_count": 103
        }
      ]
    },
    {
      "cell_type": "code",
      "source": [
        "np.log2(arr1)"
      ],
      "metadata": {
        "colab": {
          "base_uri": "https://localhost:8080/"
        },
        "id": "rx7rDfzjY3U8",
        "outputId": "f35ea86d-304b-4dcc-edb4-e5f0d3322c80"
      },
      "execution_count": 104,
      "outputs": [
        {
          "output_type": "stream",
          "name": "stderr",
          "text": [
            "/usr/local/lib/python3.7/dist-packages/ipykernel_launcher.py:1: RuntimeWarning: invalid value encountered in log2\n",
            "  \"\"\"Entry point for launching an IPython kernel.\n"
          ]
        },
        {
          "output_type": "execute_result",
          "data": {
            "text/plain": [
              "array([[-0.88495276,         nan, -0.83328272],\n",
              "       [        nan, -1.07255143,         nan],\n",
              "       [        nan, -0.18032957, -0.04151615],\n",
              "       [        nan,         nan,         nan],\n",
              "       [        nan, -1.65924861,         nan]])"
            ]
          },
          "metadata": {},
          "execution_count": 104
        }
      ]
    },
    {
      "cell_type": "code",
      "source": [
        "# 각 성분의 부호 계산하기(+인 경우 1, -인 경우 -1, 0인 경우 0)\n",
        "np.sign(arr1)"
      ],
      "metadata": {
        "colab": {
          "base_uri": "https://localhost:8080/"
        },
        "id": "QBLxJ-6yY5Lh",
        "outputId": "c96cddd6-8d16-4e56-b91f-561912db37e5"
      },
      "execution_count": 105,
      "outputs": [
        {
          "output_type": "execute_result",
          "data": {
            "text/plain": [
              "array([[ 1., -1.,  1.],\n",
              "       [-1.,  1., -1.],\n",
              "       [-1.,  1.,  1.],\n",
              "       [-1., -1., -1.],\n",
              "       [-1.,  1., -1.]])"
            ]
          },
          "metadata": {},
          "execution_count": 105
        }
      ]
    },
    {
      "cell_type": "code",
      "source": [
        "# 각 성분의 소수 첫 번째 자리에서 올림한 값을 계산하기\n",
        "np.ceil(arr1)"
      ],
      "metadata": {
        "colab": {
          "base_uri": "https://localhost:8080/"
        },
        "id": "My1HPnESY6-R",
        "outputId": "555b32d9-c03f-4ee1-e057-297a932557de"
      },
      "execution_count": 106,
      "outputs": [
        {
          "output_type": "execute_result",
          "data": {
            "text/plain": [
              "array([[ 1., -0.,  1.],\n",
              "       [-1.,  1., -0.],\n",
              "       [-0.,  1.,  1.],\n",
              "       [-0., -0., -0.],\n",
              "       [-0.,  1., -0.]])"
            ]
          },
          "metadata": {},
          "execution_count": 106
        }
      ]
    },
    {
      "cell_type": "code",
      "source": [
        "# 각 성분의 소수 첫 번째 자리에서 내림한 값을 계산하기\n",
        "np.floor(arr1)"
      ],
      "metadata": {
        "colab": {
          "base_uri": "https://localhost:8080/"
        },
        "id": "-uRDqNkaY_ig",
        "outputId": "56e3db75-29c0-438c-9f52-6059e37c43cd"
      },
      "execution_count": 107,
      "outputs": [
        {
          "output_type": "execute_result",
          "data": {
            "text/plain": [
              "array([[ 0., -1.,  0.],\n",
              "       [-2.,  0., -1.],\n",
              "       [-1.,  0.,  0.],\n",
              "       [-1., -1., -1.],\n",
              "       [-1.,  0., -1.]])"
            ]
          },
          "metadata": {},
          "execution_count": 107
        }
      ]
    },
    {
      "cell_type": "code",
      "source": [
        "# 각 성분이 NaN인 경우 True를, 아닌 경우 False를 반환하기\n",
        "np.isnan(arr1)"
      ],
      "metadata": {
        "colab": {
          "base_uri": "https://localhost:8080/"
        },
        "id": "zZHSXyT3ZAuQ",
        "outputId": "99123156-b5ef-47be-f903-bb7d886a0ae7"
      },
      "execution_count": 108,
      "outputs": [
        {
          "output_type": "execute_result",
          "data": {
            "text/plain": [
              "array([[False, False, False],\n",
              "       [False, False, False],\n",
              "       [False, False, False],\n",
              "       [False, False, False],\n",
              "       [False, False, False]])"
            ]
          },
          "metadata": {},
          "execution_count": 108
        }
      ]
    },
    {
      "cell_type": "code",
      "source": [
        "np.isnan(np.log(arr1))"
      ],
      "metadata": {
        "colab": {
          "base_uri": "https://localhost:8080/"
        },
        "id": "RVVwDvZMZC5h",
        "outputId": "61bfca7d-7178-47d6-d4ab-baa9be408edc"
      },
      "execution_count": 109,
      "outputs": [
        {
          "output_type": "stream",
          "name": "stderr",
          "text": [
            "/usr/local/lib/python3.7/dist-packages/ipykernel_launcher.py:1: RuntimeWarning: invalid value encountered in log\n",
            "  \"\"\"Entry point for launching an IPython kernel.\n"
          ]
        },
        {
          "output_type": "execute_result",
          "data": {
            "text/plain": [
              "array([[False,  True, False],\n",
              "       [ True, False,  True],\n",
              "       [ True, False, False],\n",
              "       [ True,  True,  True],\n",
              "       [ True, False,  True]])"
            ]
          },
          "metadata": {},
          "execution_count": 109
        }
      ]
    },
    {
      "cell_type": "code",
      "source": [
        "np.isinf(arr1)"
      ],
      "metadata": {
        "colab": {
          "base_uri": "https://localhost:8080/"
        },
        "id": "Gc-GIW4xZGeJ",
        "outputId": "ed56c986-ef8f-4c53-9b36-bf06b9c0f958"
      },
      "execution_count": 110,
      "outputs": [
        {
          "output_type": "execute_result",
          "data": {
            "text/plain": [
              "array([[False, False, False],\n",
              "       [False, False, False],\n",
              "       [False, False, False],\n",
              "       [False, False, False],\n",
              "       [False, False, False]])"
            ]
          },
          "metadata": {},
          "execution_count": 110
        }
      ]
    },
    {
      "cell_type": "code",
      "source": [
        "# 각 성분에 대해 삼각함수 값을 계산하기(cos, cosh, sin, sinh, tan, tanh)\n",
        "np.cos(arr1)"
      ],
      "metadata": {
        "colab": {
          "base_uri": "https://localhost:8080/"
        },
        "id": "d06j3z4mZHkh",
        "outputId": "c5ae59e0-79e6-4092-cfbb-813d3b06962d"
      },
      "execution_count": 111,
      "outputs": [
        {
          "output_type": "execute_result",
          "data": {
            "text/plain": [
              "array([[0.8569338 , 0.71265769, 0.84659009],\n",
              "       [0.49390673, 0.8890743 , 0.5491907 ],\n",
              "       [0.80384732, 0.63522125, 0.56395149],\n",
              "       [0.94540294, 0.99503255, 0.71728277],\n",
              "       [0.85525866, 0.95029821, 0.96319694]])"
            ]
          },
          "metadata": {},
          "execution_count": 111
        }
      ]
    },
    {
      "cell_type": "code",
      "source": [
        "np.tanh(arr1)"
      ],
      "metadata": {
        "colab": {
          "base_uri": "https://localhost:8080/"
        },
        "id": "NC7sY5LZZJ9Z",
        "outputId": "b75c5450-3112-41a9-b5c4-d390167813eb"
      },
      "execution_count": 112,
      "outputs": [
        {
          "output_type": "execute_result",
          "data": {
            "text/plain": [
              "array([[ 0.49412654, -0.65127914,  0.50890482],\n",
              "       [-0.78344132,  0.44261428, -0.75710671],\n",
              "       [-0.56289525,  0.70767022,  0.74942115],\n",
              "       [-0.32028761, -0.09938607, -0.64745338],\n",
              "       [-0.49657251,  0.30643302, -0.26561824]])"
            ]
          },
          "metadata": {},
          "execution_count": 112
        }
      ]
    },
    {
      "cell_type": "markdown",
      "source": [
        "## 6-2 두개의 array에 적용되는 함수"
      ],
      "metadata": {
        "id": "7VkG41RAZLGR"
      }
    },
    {
      "cell_type": "code",
      "source": [
        "arr1"
      ],
      "metadata": {
        "colab": {
          "base_uri": "https://localhost:8080/"
        },
        "id": "IBzQbOH-ZOm9",
        "outputId": "9deeed60-712f-43ef-ca4a-809dce92c0e8"
      },
      "execution_count": 113,
      "outputs": [
        {
          "output_type": "execute_result",
          "data": {
            "text/plain": [
              "array([[ 0.54150525, -0.77751686,  0.56125071],\n",
              "       [-1.05421928,  0.47547737, -0.98940082],\n",
              "       [-0.63706122,  0.88250137,  0.9716333 ],\n",
              "       [-0.33196756, -0.09971526, -0.77090156],\n",
              "       [-0.54474655,  0.316604  , -0.2721435 ]])"
            ]
          },
          "metadata": {},
          "execution_count": 113
        }
      ]
    },
    {
      "cell_type": "code",
      "source": [
        "arr2 = np.random.randn(5,3)\n",
        "arr2"
      ],
      "metadata": {
        "colab": {
          "base_uri": "https://localhost:8080/"
        },
        "id": "4C_miZXUZP5s",
        "outputId": "56bdda1d-9345-4724-a381-77f3d9d10274"
      },
      "execution_count": 115,
      "outputs": [
        {
          "output_type": "execute_result",
          "data": {
            "text/plain": [
              "array([[ 0.84594895, -0.49331969, -0.27464269],\n",
              "       [-0.28507257, -0.75713068,  1.41762952],\n",
              "       [-1.04701065, -0.4414694 ,  0.12520738],\n",
              "       [ 0.12153322, -1.47888741, -0.06714558],\n",
              "       [-0.44719502, -0.10880402, -1.78366938]])"
            ]
          },
          "metadata": {},
          "execution_count": 115
        }
      ]
    },
    {
      "cell_type": "code",
      "source": [
        "# 두 개의 array에 대해 동일한 위치의 성분끼리 연산 값을 계산하기\n",
        "#(add, subtract, multiply, divide)\n",
        "add = np.add(arr1,arr2)\n",
        "sub = np.subtract(arr1,arr2)\n",
        "mul = np.multiply(arr1,arr2)\n",
        "div = np.divide(arr1,arr2)\n",
        "\n",
        "print(f\"{add}\\n\\n{sub}\\n\\n{mul}\\n\\n{div}\")"
      ],
      "metadata": {
        "colab": {
          "base_uri": "https://localhost:8080/"
        },
        "id": "xJsTxR2SZRhd",
        "outputId": "0bb741fc-c32d-4bc6-c2d8-a5219e2fcc67"
      },
      "execution_count": 122,
      "outputs": [
        {
          "output_type": "stream",
          "name": "stdout",
          "text": [
            "[[ 1.38745421 -1.27083655  0.28660802]\n",
            " [-1.33929185 -0.28165332  0.4282287 ]\n",
            " [-1.68407187  0.44103197  1.09684069]\n",
            " [-0.21043434 -1.57860267 -0.83804713]\n",
            " [-0.99194156  0.20779998 -2.05581288]]\n",
            "\n",
            "[[-0.3044437  -0.28419716  0.83589341]\n",
            " [-0.7691467   1.23260805 -2.40703033]\n",
            " [ 0.40994943  1.32397078  0.84642592]\n",
            " [-0.45350078  1.37917216 -0.70375598]\n",
            " [-0.09755153  0.42540802  1.51152587]]\n",
            "\n",
            "[[ 0.4580858   0.38356438 -0.15414341]\n",
            " [ 0.300529   -0.3599985  -1.4026038 ]\n",
            " [ 0.66700988 -0.38959735  0.12165566]\n",
            " [-0.04034509  0.14746764  0.05176263]\n",
            " [ 0.24360794 -0.03444779  0.48541403]]\n",
            "\n",
            "[[ 0.64011576  1.57609126 -2.04356688]\n",
            " [ 3.69807333 -0.62799907 -0.69792622]\n",
            " [ 0.60845725 -1.99900914  7.76019174]\n",
            " [-2.73149639  0.06742586 11.48104764]\n",
            " [ 1.21814092 -2.90985566  0.15257508]]\n"
          ]
        }
      ]
    },
    {
      "cell_type": "code",
      "source": [
        "# 두 개의 array에 대해 동일한 위치의 성분끼리 비교하여 최대값 또는 최소값 계산하기\n",
        "#(maximum, minimum)\n",
        "max = np.maximum(arr1,arr2)\n",
        "min = np.minimum(arr1,arr2)\n",
        "\n",
        "print(f\"{max}\\n\\n{min}\")"
      ],
      "metadata": {
        "colab": {
          "base_uri": "https://localhost:8080/"
        },
        "id": "DxzqWeiMZVjF",
        "outputId": "e0015008-054b-41ae-fbb8-08ac70766e61"
      },
      "execution_count": 121,
      "outputs": [
        {
          "output_type": "stream",
          "name": "stdout",
          "text": [
            "[[ 0.84594895 -0.49331969  0.56125071]\n",
            " [-0.28507257  0.47547737  1.41762952]\n",
            " [-0.63706122  0.88250137  0.9716333 ]\n",
            " [ 0.12153322 -0.09971526 -0.06714558]\n",
            " [-0.44719502  0.316604   -0.2721435 ]]\n",
            "\n",
            "[[ 0.54150525 -0.77751686 -0.27464269]\n",
            " [-1.05421928 -0.75713068 -0.98940082]\n",
            " [-1.04701065 -0.4414694   0.12520738]\n",
            " [-0.33196756 -1.47888741 -0.77090156]\n",
            " [-0.54474655 -0.10880402 -1.78366938]]\n"
          ]
        }
      ]
    },
    {
      "cell_type": "markdown",
      "source": [
        "## 6-3. 통계 함수\n",
        "통계 함수를 통해 array의 합이나 평균등을 구할 때,\n",
        "\n",
        "추가로 **axis라는 인자에 대한 값을 지정하여 열 또는 행의 합 또는 평균등을 구할 수 있다.**"
      ],
      "metadata": {
        "id": "AVW2ayCzZ55N"
      }
    },
    {
      "cell_type": "code",
      "source": [
        "arr1"
      ],
      "metadata": {
        "colab": {
          "base_uri": "https://localhost:8080/"
        },
        "id": "IXcjjXXvZ-Qx",
        "outputId": "818507e7-fed2-4d40-b5f3-049cdfd1328f"
      },
      "execution_count": 123,
      "outputs": [
        {
          "output_type": "execute_result",
          "data": {
            "text/plain": [
              "array([[ 0.54150525, -0.77751686,  0.56125071],\n",
              "       [-1.05421928,  0.47547737, -0.98940082],\n",
              "       [-0.63706122,  0.88250137,  0.9716333 ],\n",
              "       [-0.33196756, -0.09971526, -0.77090156],\n",
              "       [-0.54474655,  0.316604  , -0.2721435 ]])"
            ]
          },
          "metadata": {},
          "execution_count": 123
        }
      ]
    },
    {
      "cell_type": "code",
      "source": [
        "# 전체 성분의 합을 계산\n",
        "np.sum(arr1)"
      ],
      "metadata": {
        "colab": {
          "base_uri": "https://localhost:8080/"
        },
        "id": "th8oWq2gZ9Cw",
        "outputId": "0dd19f27-59b1-4c5a-83dd-dc697563697c"
      },
      "execution_count": 124,
      "outputs": [
        {
          "output_type": "execute_result",
          "data": {
            "text/plain": [
              "-1.7287005837536773"
            ]
          },
          "metadata": {},
          "execution_count": 124
        }
      ]
    },
    {
      "cell_type": "code",
      "source": [
        "# 열 간의 합을 계산\n",
        "np.sum(arr1, axis=1)"
      ],
      "metadata": {
        "colab": {
          "base_uri": "https://localhost:8080/"
        },
        "id": "-ttI_XhBZ_uR",
        "outputId": "32c05828-938e-41bf-ddb7-4269fcf343ab"
      },
      "execution_count": 125,
      "outputs": [
        {
          "output_type": "execute_result",
          "data": {
            "text/plain": [
              "array([ 0.32523911, -1.56814273,  1.21707345, -1.20258437, -0.50028605])"
            ]
          },
          "metadata": {},
          "execution_count": 125
        }
      ]
    },
    {
      "cell_type": "code",
      "source": [
        "# 행 간의 합을 계산\n",
        "np.sum(arr1, axis=0)"
      ],
      "metadata": {
        "colab": {
          "base_uri": "https://localhost:8080/"
        },
        "id": "4Cum9xPsaA3w",
        "outputId": "a1fa15cc-cda3-4061-8d23-6d1cd78f0d5f"
      },
      "execution_count": 127,
      "outputs": [
        {
          "output_type": "execute_result",
          "data": {
            "text/plain": [
              "array([-2.02648935,  0.79735062, -0.49956186])"
            ]
          },
          "metadata": {},
          "execution_count": 127
        }
      ]
    },
    {
      "cell_type": "code",
      "source": [
        "# 전체 성분의 평균을 계산\n",
        "np.mean(arr1)"
      ],
      "metadata": {
        "colab": {
          "base_uri": "https://localhost:8080/"
        },
        "id": "B9BGP19_aDBk",
        "outputId": "c43288ee-7927-47aa-bb4b-25b7e4f0616f"
      },
      "execution_count": 128,
      "outputs": [
        {
          "output_type": "execute_result",
          "data": {
            "text/plain": [
              "-0.11524670558357848"
            ]
          },
          "metadata": {},
          "execution_count": 128
        }
      ]
    },
    {
      "cell_type": "code",
      "source": [
        "# 행 간의 평균을 계산\n",
        "np.mean(arr1, axis=0)"
      ],
      "metadata": {
        "colab": {
          "base_uri": "https://localhost:8080/"
        },
        "id": "fiX9dQv-aEJp",
        "outputId": "b8cd9914-5845-402a-9128-a3adf92ee3ef"
      },
      "execution_count": 130,
      "outputs": [
        {
          "output_type": "execute_result",
          "data": {
            "text/plain": [
              "array([-0.40529787,  0.15947012, -0.09991237])"
            ]
          },
          "metadata": {},
          "execution_count": 130
        }
      ]
    },
    {
      "cell_type": "code",
      "source": [
        "# 전체 성분의 표준편차, 분산, 최소값, 최대값 계산(std, var, min, max)\n",
        "np.std(arr1)"
      ],
      "metadata": {
        "colab": {
          "base_uri": "https://localhost:8080/"
        },
        "id": "A-88w6vdaG8d",
        "outputId": "165e4b2c-41d1-40e8-8266-f6cd9ad6e2d5"
      },
      "execution_count": 131,
      "outputs": [
        {
          "output_type": "execute_result",
          "data": {
            "text/plain": [
              "0.6655382499923692"
            ]
          },
          "metadata": {},
          "execution_count": 131
        }
      ]
    },
    {
      "cell_type": "code",
      "source": [
        "np.min(arr1, axis=1)"
      ],
      "metadata": {
        "colab": {
          "base_uri": "https://localhost:8080/"
        },
        "id": "SNEu6u0SaIrU",
        "outputId": "0fd7ee83-38a6-4253-a16f-dfe188677f75"
      },
      "execution_count": 132,
      "outputs": [
        {
          "output_type": "execute_result",
          "data": {
            "text/plain": [
              "array([-0.77751686, -1.05421928, -0.63706122, -0.77090156, -0.54474655])"
            ]
          },
          "metadata": {},
          "execution_count": 132
        }
      ]
    },
    {
      "cell_type": "code",
      "source": [
        "# 전체 성분의 최소값, 최대값이 위치한 인덱스를 반환(argmin, argmax)\n",
        "np.argmin(arr1)"
      ],
      "metadata": {
        "colab": {
          "base_uri": "https://localhost:8080/"
        },
        "id": "L2jfFIUxaJ0t",
        "outputId": "6640d4ec-0fca-420c-b09e-b84f6f01ff8e"
      },
      "execution_count": 133,
      "outputs": [
        {
          "output_type": "execute_result",
          "data": {
            "text/plain": [
              "3"
            ]
          },
          "metadata": {},
          "execution_count": 133
        }
      ]
    },
    {
      "cell_type": "code",
      "source": [
        "np.argmax(arr1,axis=0)"
      ],
      "metadata": {
        "colab": {
          "base_uri": "https://localhost:8080/"
        },
        "id": "Bc2mDYJqaLL8",
        "outputId": "061986b3-ffbf-4a31-b85f-4ccfd8a79d5e"
      },
      "execution_count": 134,
      "outputs": [
        {
          "output_type": "execute_result",
          "data": {
            "text/plain": [
              "array([0, 2, 2])"
            ]
          },
          "metadata": {},
          "execution_count": 134
        }
      ]
    },
    {
      "cell_type": "code",
      "source": [
        "# 맨 처음 성분부터 각 성분까지의 누적합 또는 누적곱을 계산(cumsum, cumprod)\n",
        "np.cumsum(arr1)"
      ],
      "metadata": {
        "colab": {
          "base_uri": "https://localhost:8080/"
        },
        "id": "TyM8V0MFaRrU",
        "outputId": "55ecc21f-caf7-4c85-f1cb-b7bed4a4138d"
      },
      "execution_count": 135,
      "outputs": [
        {
          "output_type": "execute_result",
          "data": {
            "text/plain": [
              "array([ 0.54150525, -0.2360116 ,  0.32523911, -0.72898016, -0.2535028 ,\n",
              "       -1.24290361, -1.87996483, -0.99746346, -0.02583016, -0.35779772,\n",
              "       -0.45751298, -1.22841453, -1.77316108, -1.45655708, -1.72870058])"
            ]
          },
          "metadata": {},
          "execution_count": 135
        }
      ]
    },
    {
      "cell_type": "code",
      "source": [
        "np.cumsum(arr1,axis=1)"
      ],
      "metadata": {
        "colab": {
          "base_uri": "https://localhost:8080/"
        },
        "id": "77aUzHaramo1",
        "outputId": "53f19fae-1fb0-4823-b2f4-1574ab911394"
      },
      "execution_count": 136,
      "outputs": [
        {
          "output_type": "execute_result",
          "data": {
            "text/plain": [
              "array([[ 0.54150525, -0.2360116 ,  0.32523911],\n",
              "       [-1.05421928, -0.57874191, -1.56814273],\n",
              "       [-0.63706122,  0.24544015,  1.21707345],\n",
              "       [-0.33196756, -0.43168281, -1.20258437],\n",
              "       [-0.54474655, -0.22814255, -0.50028605]])"
            ]
          },
          "metadata": {},
          "execution_count": 136
        }
      ]
    },
    {
      "cell_type": "code",
      "source": [
        "np.cumprod(arr1)"
      ],
      "metadata": {
        "colab": {
          "base_uri": "https://localhost:8080/"
        },
        "id": "AzhoOOasaw-Y",
        "outputId": "8329bd22-e563-4894-818b-f9f757f1e7d5"
      },
      "execution_count": 137,
      "outputs": [
        {
          "output_type": "execute_result",
          "data": {
            "text/plain": [
              "array([ 5.41505254e-01, -4.21029463e-01, -2.36303087e-01,  2.49115269e-01,\n",
              "        1.18448672e-01, -1.17193213e-01,  7.46592515e-02,  6.58868918e-02,\n",
              "        6.40178983e-02, -2.12518654e-02,  2.11913521e-03, -1.63364463e-03,\n",
              "        8.89922276e-04,  2.81752952e-04, -7.66772352e-05])"
            ]
          },
          "metadata": {},
          "execution_count": 137
        }
      ]
    },
    {
      "cell_type": "markdown",
      "source": [
        "## 6-4. 기타 함수"
      ],
      "metadata": {
        "id": "fYqJxzFhazQ4"
      }
    },
    {
      "cell_type": "code",
      "source": [
        "arr1"
      ],
      "metadata": {
        "colab": {
          "base_uri": "https://localhost:8080/"
        },
        "id": "t0x8Ht3IaysI",
        "outputId": "398a5b40-939f-4449-93cd-96f65ca62652"
      },
      "execution_count": 138,
      "outputs": [
        {
          "output_type": "execute_result",
          "data": {
            "text/plain": [
              "array([[ 0.54150525, -0.77751686,  0.56125071],\n",
              "       [-1.05421928,  0.47547737, -0.98940082],\n",
              "       [-0.63706122,  0.88250137,  0.9716333 ],\n",
              "       [-0.33196756, -0.09971526, -0.77090156],\n",
              "       [-0.54474655,  0.316604  , -0.2721435 ]])"
            ]
          },
          "metadata": {},
          "execution_count": 138
        }
      ]
    },
    {
      "cell_type": "code",
      "source": [
        "# 전체 성분에 대해서 오름차순으로 정렬\n",
        "np.sort(arr1)"
      ],
      "metadata": {
        "colab": {
          "base_uri": "https://localhost:8080/"
        },
        "id": "uSeuJs0Na2Oz",
        "outputId": "280a0b6b-9be5-4996-a9f9-cc077591e8ae"
      },
      "execution_count": 139,
      "outputs": [
        {
          "output_type": "execute_result",
          "data": {
            "text/plain": [
              "array([[-0.77751686,  0.54150525,  0.56125071],\n",
              "       [-1.05421928, -0.98940082,  0.47547737],\n",
              "       [-0.63706122,  0.88250137,  0.9716333 ],\n",
              "       [-0.77090156, -0.33196756, -0.09971526],\n",
              "       [-0.54474655, -0.2721435 ,  0.316604  ]])"
            ]
          },
          "metadata": {},
          "execution_count": 139
        }
      ]
    },
    {
      "cell_type": "code",
      "source": [
        "# 전체 성분에 대해서 내림차순으로 정렬\n",
        "np.sort(arr1)[::-1]"
      ],
      "metadata": {
        "colab": {
          "base_uri": "https://localhost:8080/"
        },
        "id": "W60jQcrwa31J",
        "outputId": "5e36e8d3-f4b3-40ba-dbb2-64307fe3bea0"
      },
      "execution_count": 149,
      "outputs": [
        {
          "output_type": "execute_result",
          "data": {
            "text/plain": [
              "array([[-0.54474655, -0.2721435 ,  0.316604  ],\n",
              "       [-0.77090156, -0.33196756, -0.09971526],\n",
              "       [-0.63706122,  0.88250137,  0.9716333 ],\n",
              "       [-1.05421928, -0.98940082,  0.47547737],\n",
              "       [-0.77751686,  0.54150525,  0.56125071]])"
            ]
          },
          "metadata": {},
          "execution_count": 149
        }
      ]
    },
    {
      "cell_type": "code",
      "source": [
        "# 뭐게\n",
        "np.sort(arr1)[:-1]"
      ],
      "metadata": {
        "colab": {
          "base_uri": "https://localhost:8080/"
        },
        "id": "mMXKUHYHa9Sv",
        "outputId": "efb56755-bff8-4073-87eb-25f3b21ae87d"
      },
      "execution_count": 147,
      "outputs": [
        {
          "output_type": "execute_result",
          "data": {
            "text/plain": [
              "array([[-0.77751686,  0.54150525,  0.56125071],\n",
              "       [-1.05421928, -0.98940082,  0.47547737],\n",
              "       [-0.63706122,  0.88250137,  0.9716333 ],\n",
              "       [-0.77090156, -0.33196756, -0.09971526]])"
            ]
          },
          "metadata": {},
          "execution_count": 147
        }
      ]
    },
    {
      "cell_type": "code",
      "source": [
        "# 행 방향으로 오름차순으로 정렬\n",
        "np.sort(arr1,axis=0)"
      ],
      "metadata": {
        "colab": {
          "base_uri": "https://localhost:8080/"
        },
        "id": "fG3OXBlfa5UA",
        "outputId": "3442999f-a3a8-4b3c-b07e-ecdf195d65d9"
      },
      "execution_count": 141,
      "outputs": [
        {
          "output_type": "execute_result",
          "data": {
            "text/plain": [
              "array([[-1.05421928, -0.77751686, -0.98940082],\n",
              "       [-0.63706122, -0.09971526, -0.77090156],\n",
              "       [-0.54474655,  0.316604  , -0.2721435 ],\n",
              "       [-0.33196756,  0.47547737,  0.56125071],\n",
              "       [ 0.54150525,  0.88250137,  0.9716333 ]])"
            ]
          },
          "metadata": {},
          "execution_count": 141
        }
      ]
    },
    {
      "cell_type": "markdown",
      "source": [
        "** axis **\n",
        "\n",
        "1 = 열\n",
        "0 = 행\n",
        "\n",
        "꼭 기억하자 pandas에서도 많이 씀."
      ],
      "metadata": {
        "id": "0pUbuV65bQPO"
      }
    },
    {
      "cell_type": "markdown",
      "source": [
        "## 외전. random\n",
        "\n",
        "- np.random.seed : seed를 통한 난수 생성\n",
        "\n",
        "- np.random.randint : 균일 분포의 정수 난수 1개 생성\n",
        "\n",
        "- np.random.rand : 0 ~ 1사이의 균일 분포에서 난수 행렬 생성\n",
        "\n",
        "- np.random.randn : 가우시안 표준 정규 분포에서 난수 행렬 생성\n",
        "\n",
        "- np.random.suffle : 기존의 데이터의 순서 변경\n",
        "\n",
        "- np.random.chocie : 기존의 데이터에서 샘플링\n",
        "\n",
        "- np.unique : 데이터에서 중복된 값을 제거하고 중복되지 않는 값의 리스트 출력\n",
        "\n",
        "- np.bincount : 발생하지 않은 사건에 대해서 카운트\n"
      ],
      "metadata": {
        "id": "OcSnDcWQTw-n"
      }
    },
    {
      "cell_type": "code",
      "source": [
        "# 0 ~ 5까지 랜덤 숫자 1개\n",
        "np.random.randint(6)"
      ],
      "metadata": {
        "colab": {
          "base_uri": "https://localhost:8080/"
        },
        "id": "VZJfdMfiTwoD",
        "outputId": "e023e0d3-83d7-4824-f15a-2819f39e4c34"
      },
      "execution_count": 72,
      "outputs": [
        {
          "output_type": "execute_result",
          "data": {
            "text/plain": [
              "0"
            ]
          },
          "metadata": {},
          "execution_count": 72
        }
      ]
    },
    {
      "cell_type": "code",
      "source": [
        "# 1부터 19까지 랜덤 숫자 1개\n",
        "np.random.randint(1, 20)"
      ],
      "metadata": {
        "colab": {
          "base_uri": "https://localhost:8080/"
        },
        "id": "oX_qq_THVm26",
        "outputId": "1747eb5d-17f7-4d07-a2eb-3d5e4f59398f"
      },
      "execution_count": 73,
      "outputs": [
        {
          "output_type": "execute_result",
          "data": {
            "text/plain": [
              "19"
            ]
          },
          "metadata": {},
          "execution_count": 73
        }
      ]
    },
    {
      "cell_type": "code",
      "source": [
        "np.random.rand(6)"
      ],
      "metadata": {
        "colab": {
          "base_uri": "https://localhost:8080/"
        },
        "id": "c48GKg91VsM_",
        "outputId": "dcf5437e-5d3f-4002-bd94-45d51c360662"
      },
      "execution_count": 74,
      "outputs": [
        {
          "output_type": "execute_result",
          "data": {
            "text/plain": [
              "array([0.72474987, 0.83645372, 0.14339576, 0.68074935, 0.82143876,\n",
              "       0.77682551])"
            ]
          },
          "metadata": {},
          "execution_count": 74
        }
      ]
    },
    {
      "cell_type": "code",
      "source": [
        "np.random.rand(3,2)"
      ],
      "metadata": {
        "colab": {
          "base_uri": "https://localhost:8080/"
        },
        "id": "W08np_4nVxKL",
        "outputId": "9f7da39a-7c4d-4e53-e191-a6eede4ba197"
      },
      "execution_count": 75,
      "outputs": [
        {
          "output_type": "execute_result",
          "data": {
            "text/plain": [
              "array([[0.29572388, 0.84208203],\n",
              "       [0.15750073, 0.4545563 ],\n",
              "       [0.42152481, 0.51492856]])"
            ]
          },
          "metadata": {},
          "execution_count": 75
        }
      ]
    },
    {
      "cell_type": "code",
      "source": [
        "np.random.randn(6)"
      ],
      "metadata": {
        "colab": {
          "base_uri": "https://localhost:8080/"
        },
        "id": "SpUNWC6KVyyH",
        "outputId": "969229e4-09e3-4a44-da3b-549116d9ebfa"
      },
      "execution_count": 76,
      "outputs": [
        {
          "output_type": "execute_result",
          "data": {
            "text/plain": [
              "array([ 1.70568081, -0.4283199 ,  1.48722002,  0.70690492,  0.50087792,\n",
              "       -0.76505748])"
            ]
          },
          "metadata": {},
          "execution_count": 76
        }
      ]
    },
    {
      "cell_type": "code",
      "source": [
        "np.random.randn(3,2)"
      ],
      "metadata": {
        "colab": {
          "base_uri": "https://localhost:8080/"
        },
        "id": "d5zzpNzRV2p_",
        "outputId": "e9d88617-ffff-408d-9ee7-fdbd7005c089"
      },
      "execution_count": 77,
      "outputs": [
        {
          "output_type": "execute_result",
          "data": {
            "text/plain": [
              "array([[ 0.16228892, -1.18809349],\n",
              "       [ 0.86948233, -0.85158839],\n",
              "       [-0.67116874, -0.21508314]])"
            ]
          },
          "metadata": {},
          "execution_count": 77
        }
      ]
    },
    {
      "cell_type": "markdown",
      "source": [
        "## 더 많은 Numpy 함수"
      ],
      "metadata": {
        "id": "c1U2oKCHbbms"
      }
    },
    {
      "cell_type": "code",
      "source": [
        "print(np.full((2,3), 5)) # 모든 원소가 5인 2*3행렬"
      ],
      "metadata": {
        "colab": {
          "base_uri": "https://localhost:8080/"
        },
        "id": "felAEJmebeaI",
        "outputId": "f9a83340-5852-4675-cda8-8389b86ec49f"
      },
      "execution_count": 150,
      "outputs": [
        {
          "output_type": "stream",
          "name": "stdout",
          "text": [
            "[[5 5 5]\n",
            " [5 5 5]]\n"
          ]
        }
      ]
    },
    {
      "cell_type": "code",
      "source": [
        "print(np.eye(3)) # 단위행렬"
      ],
      "metadata": {
        "colab": {
          "base_uri": "https://localhost:8080/"
        },
        "id": "daYwZw2IbgbQ",
        "outputId": "5eccd85a-8faa-42c4-8280-5cca03215a63"
      },
      "execution_count": 151,
      "outputs": [
        {
          "output_type": "stream",
          "name": "stdout",
          "text": [
            "[[1. 0. 0.]\n",
            " [0. 1. 0.]\n",
            " [0. 0. 1.]]\n"
          ]
        }
      ]
    },
    {
      "cell_type": "code",
      "source": [
        "A = np.array([[3,4,3],\n",
        "[1,5,-1],\n",
        "[6,3,7]])\n",
        "B = [10,7,15]\n",
        "X = np.linalg.solve(A,B)\n",
        "print(X)\n"
      ],
      "metadata": {
        "colab": {
          "base_uri": "https://localhost:8080/"
        },
        "id": "A_ltu6Eebg__",
        "outputId": "4aab8fe0-8e5f-4b41-9455-c1a2769cc6b6"
      },
      "execution_count": 152,
      "outputs": [
        {
          "output_type": "stream",
          "name": "stdout",
          "text": [
            "[2. 1. 0.]\n"
          ]
        }
      ]
    },
    {
      "cell_type": "markdown",
      "source": [
        "배열의 차원 변환"
      ],
      "metadata": {
        "id": "rPIlmvWPbtVQ"
      }
    },
    {
      "cell_type": "code",
      "source": [
        "a = np.arange(20)\n",
        "print(a)"
      ],
      "metadata": {
        "colab": {
          "base_uri": "https://localhost:8080/"
        },
        "id": "idJXsTbibpzH",
        "outputId": "975d926f-a394-4d09-9a88-f276891426dd"
      },
      "execution_count": 153,
      "outputs": [
        {
          "output_type": "stream",
          "name": "stdout",
          "text": [
            "[ 0  1  2  3  4  5  6  7  8  9 10 11 12 13 14 15 16 17 18 19]\n"
          ]
        }
      ]
    },
    {
      "cell_type": "code",
      "source": [
        "b=a.reshape((4,5))\n",
        "print(b)"
      ],
      "metadata": {
        "colab": {
          "base_uri": "https://localhost:8080/"
        },
        "id": "VZk-CsVfbwg_",
        "outputId": "6f67bb79-0bbd-411c-ed90-8f7cd771775e"
      },
      "execution_count": 154,
      "outputs": [
        {
          "output_type": "stream",
          "name": "stdout",
          "text": [
            "[[ 0  1  2  3  4]\n",
            " [ 5  6  7  8  9]\n",
            " [10 11 12 13 14]\n",
            " [15 16 17 18 19]]\n"
          ]
        }
      ]
    },
    {
      "cell_type": "markdown",
      "source": [
        "## Numpy 행렬 슬라이싱 그림으로 이해하기\n",
        "\n",
        "![image.png](data:image/png;base64,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)"
      ],
      "metadata": {
        "id": "UllEQIhEbyyg"
      }
    },
    {
      "cell_type": "markdown",
      "source": [
        "## 다양한 선형대수 연산 지원 함수\n",
        "![image.png](data:image/png;base64,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)"
      ],
      "metadata": {
        "id": "k4ea0_yYb8H4"
      }
    }
  ]
}