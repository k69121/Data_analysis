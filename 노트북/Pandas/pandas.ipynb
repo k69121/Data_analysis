{
  "nbformat": 4,
  "nbformat_minor": 0,
  "metadata": {
    "colab": {
      "name": "pandas",
      "provenance": [],
      "toc_visible": true
    },
    "kernelspec": {
      "name": "python3",
      "display_name": "Python 3"
    },
    "language_info": {
      "name": "python"
    },
    "accelerator": "GPU"
  },
  "cells": [
    {
      "cell_type": "markdown",
      "source": [
        "# **numpy 공부**"
      ],
      "metadata": {
        "id": "uUmRw-up14Uu"
      }
    },
    {
      "cell_type": "markdown",
      "source": [
        "##numpy 를 사용하는 이유"
      ],
      "metadata": {
        "id": "SmxPGwjSJjVH"
      }
    },
    {
      "cell_type": "markdown",
      "source": [
        "1. 리스트 보다 연산이 빠르다.\n",
        "2. 대용량의 배열과 행렬 연산을 빠르게 수행할수있다.\n",
        "3. 고차원적인 수학 연산자와 함수를 포함하고 있다.\n",
        "4. 데이터 분석을 위한 패키지인 pands나 기계학습을 위한 \n",
        "scikit-learn, tensorflow등이 넘파이 위에서 작동한다."
      ],
      "metadata": {
        "id": "_B3EOI-OKlMu"
      }
    },
    {
      "cell_type": "markdown",
      "source": [
        "## numpy 연산"
      ],
      "metadata": {
        "id": "pga7Kv2pJt0R"
      }
    },
    {
      "cell_type": "code",
      "source": [
        "import numpy as np\n",
        "import pandas as pd\n",
        "\n",
        "a= np.array([1,2,3])\n",
        "b = np.array([3,4,5])"
      ],
      "metadata": {
        "id": "vA06WaRJ17ZO"
      },
      "execution_count": 1,
      "outputs": []
    },
    {
      "cell_type": "code",
      "source": [
        "a+b # 다른 연산들도 동일함"
      ],
      "metadata": {
        "colab": {
          "base_uri": "https://localhost:8080/"
        },
        "id": "Y86PKq_CMBbW",
        "outputId": "6c389e46-13bf-4555-d782-166fa9e6477b"
      },
      "execution_count": 2,
      "outputs": [
        {
          "output_type": "execute_result",
          "data": {
            "text/plain": [
              "array([4, 6, 8])"
            ]
          },
          "metadata": {},
          "execution_count": 2
        }
      ]
    },
    {
      "cell_type": "code",
      "source": [
        "num = np.array([100,200,300])\n",
        "num += 10 # 모든 요소에 10씩 더함\n",
        "num # 다은 연산들도 동일함"
      ],
      "metadata": {
        "colab": {
          "base_uri": "https://localhost:8080/"
        },
        "id": "kcz06Dq1MSd7",
        "outputId": "bc3f007f-2831-414c-f875-52d84af2e5d1"
      },
      "execution_count": 3,
      "outputs": [
        {
          "output_type": "execute_result",
          "data": {
            "text/plain": [
              "array([110, 210, 310])"
            ]
          },
          "metadata": {},
          "execution_count": 3
        }
      ]
    },
    {
      "cell_type": "markdown",
      "source": [
        "## 다차원 배열"
      ],
      "metadata": {
        "id": "raJE1ua-JTIY"
      }
    },
    {
      "cell_type": "code",
      "source": [
        "a = np.array([1,2,3]) # 1차원 배열\n",
        "b = np.array([[1,2,3],[4,5,6]]) # 2차원 배열\n",
        "\n",
        "a.shape # 객체의 형태 "
      ],
      "metadata": {
        "colab": {
          "base_uri": "https://localhost:8080/"
        },
        "id": "9kU0r5U2FOZ1",
        "outputId": "9449185e-56f9-481b-e32d-ff0397e615b8"
      },
      "execution_count": 13,
      "outputs": [
        {
          "output_type": "execute_result",
          "data": {
            "text/plain": [
              "(3,)"
            ]
          },
          "metadata": {},
          "execution_count": 13
        }
      ]
    },
    {
      "cell_type": "code",
      "source": [
        "b.shape"
      ],
      "metadata": {
        "colab": {
          "base_uri": "https://localhost:8080/"
        },
        "id": "8yD2vrXPUlUA",
        "outputId": "267aea25-9adb-4644-8202-649c7a3b5c2e"
      },
      "execution_count": 12,
      "outputs": [
        {
          "output_type": "execute_result",
          "data": {
            "text/plain": [
              "(2, 3)"
            ]
          },
          "metadata": {},
          "execution_count": 12
        }
      ]
    },
    {
      "cell_type": "code",
      "source": [
        "a.ndim # 객체의 차원"
      ],
      "metadata": {
        "id": "bZaHLWxhfLNR",
        "colab": {
          "base_uri": "https://localhost:8080/"
        },
        "outputId": "5c652b1d-063a-489e-abbf-4d5c1288beab"
      },
      "execution_count": 6,
      "outputs": [
        {
          "output_type": "execute_result",
          "data": {
            "text/plain": [
              "1"
            ]
          },
          "metadata": {},
          "execution_count": 6
        }
      ]
    },
    {
      "cell_type": "code",
      "source": [
        "b.ndim"
      ],
      "metadata": {
        "colab": {
          "base_uri": "https://localhost:8080/"
        },
        "id": "0XHtTXQ8UrMj",
        "outputId": "60101f5b-182a-4bed-c84a-668be7406f7e"
      },
      "execution_count": 7,
      "outputs": [
        {
          "output_type": "execute_result",
          "data": {
            "text/plain": [
              "2"
            ]
          },
          "metadata": {},
          "execution_count": 7
        }
      ]
    },
    {
      "cell_type": "code",
      "source": [
        "a.dtype # 객체 내부 자료형"
      ],
      "metadata": {
        "colab": {
          "base_uri": "https://localhost:8080/"
        },
        "id": "L_72WAn2TfxW",
        "outputId": "60b617d7-5b0b-4656-8127-106d3b50311b"
      },
      "execution_count": 8,
      "outputs": [
        {
          "output_type": "execute_result",
          "data": {
            "text/plain": [
              "dtype('int64')"
            ]
          },
          "metadata": {},
          "execution_count": 8
        }
      ]
    },
    {
      "cell_type": "code",
      "source": [
        "a.itemsize # 객체 내부 자료형이 차지하는 메모리 크기(byte)"
      ],
      "metadata": {
        "colab": {
          "base_uri": "https://localhost:8080/"
        },
        "id": "6ftQY6k-TmEk",
        "outputId": "a68f1fad-43a8-4e57-dda8-57383fb84fca"
      },
      "execution_count": 9,
      "outputs": [
        {
          "output_type": "execute_result",
          "data": {
            "text/plain": [
              "8"
            ]
          },
          "metadata": {},
          "execution_count": 9
        }
      ]
    },
    {
      "cell_type": "code",
      "source": [
        "a.size # 객체의 전체 크기(항목의 수)"
      ],
      "metadata": {
        "colab": {
          "base_uri": "https://localhost:8080/"
        },
        "id": "sWx2wQO-T7VA",
        "outputId": "8e9388b7-c72a-42ee-a45e-96966bc3b431"
      },
      "execution_count": 10,
      "outputs": [
        {
          "output_type": "execute_result",
          "data": {
            "text/plain": [
              "3"
            ]
          },
          "metadata": {},
          "execution_count": 10
        }
      ]
    },
    {
      "cell_type": "markdown",
      "source": [
        "## "
      ],
      "metadata": {
        "id": "nJmn2H6OU3At"
      }
    },
    {
      "cell_type": "markdown",
      "source": [
        "## 인덱싱 슬라이싱"
      ],
      "metadata": {
        "id": "4RAj3xKdVWT4"
      }
    },
    {
      "cell_type": "code",
      "source": [
        "num1 = np.array([1, 2, 3, 4, 5 , 6 , 7 , 8 , 9])\n",
        "num1[0] # 0번 자리수 출력"
      ],
      "metadata": {
        "colab": {
          "base_uri": "https://localhost:8080/"
        },
        "id": "npOQcsxsVcnT",
        "outputId": "3e025012-416b-47e1-a3b4-e1c9c5d74ce8"
      },
      "execution_count": 14,
      "outputs": [
        {
          "output_type": "execute_result",
          "data": {
            "text/plain": [
              "1"
            ]
          },
          "metadata": {},
          "execution_count": 14
        }
      ]
    },
    {
      "cell_type": "code",
      "source": [
        "num1[:] #처음부터 끝까지 출력"
      ],
      "metadata": {
        "colab": {
          "base_uri": "https://localhost:8080/"
        },
        "id": "q-sFdEs3VtiD",
        "outputId": "9cda8f67-a20d-4319-ba0c-1460ba8e5711"
      },
      "execution_count": 15,
      "outputs": [
        {
          "output_type": "execute_result",
          "data": {
            "text/plain": [
              "array([1, 2, 3, 4, 5, 6, 7, 8, 9])"
            ]
          },
          "metadata": {},
          "execution_count": 15
        }
      ]
    },
    {
      "cell_type": "code",
      "source": [
        "num1[2:5] # 2번 자리에서부터 5번 자리 직전까지 출력"
      ],
      "metadata": {
        "colab": {
          "base_uri": "https://localhost:8080/"
        },
        "id": "UQ-z4Fy1Vtrv",
        "outputId": "67bdc0a1-14ff-4b82-b071-038cc8273431"
      },
      "execution_count": 16,
      "outputs": [
        {
          "output_type": "execute_result",
          "data": {
            "text/plain": [
              "array([3, 4, 5])"
            ]
          },
          "metadata": {},
          "execution_count": 16
        }
      ]
    },
    {
      "cell_type": "code",
      "source": [
        "num1[7:2:-1] # 7번 자리에서부터 2번자리 직전까지 거꾸로 출력"
      ],
      "metadata": {
        "colab": {
          "base_uri": "https://localhost:8080/"
        },
        "id": "WBGr315YVtzQ",
        "outputId": "68241200-d6c3-409f-b007-7f5f51f14d35"
      },
      "execution_count": 17,
      "outputs": [
        {
          "output_type": "execute_result",
          "data": {
            "text/plain": [
              "array([8, 7, 6, 5, 4])"
            ]
          },
          "metadata": {},
          "execution_count": 17
        }
      ]
    },
    {
      "cell_type": "code",
      "source": [
        "num2 = np.array([[1, 2, 3],[4, 5, 6],[7, 8, 9]]) # 2차원 배열\n",
        "num2"
      ],
      "metadata": {
        "colab": {
          "base_uri": "https://localhost:8080/"
        },
        "id": "G4D5xVCuVt69",
        "outputId": "31f5e844-944c-4e28-bd13-528f680f53ac"
      },
      "execution_count": 19,
      "outputs": [
        {
          "output_type": "execute_result",
          "data": {
            "text/plain": [
              "array([[1, 2, 3],\n",
              "       [4, 5, 6],\n",
              "       [7, 8, 9]])"
            ]
          },
          "metadata": {},
          "execution_count": 19
        }
      ]
    },
    {
      "cell_type": "code",
      "source": [
        "num2[1][2] # 2차원 배열에서 1행2열의 자리수 출력"
      ],
      "metadata": {
        "colab": {
          "base_uri": "https://localhost:8080/"
        },
        "id": "TUVPU1QcWtBH",
        "outputId": "1a3aeced-9c84-45ef-eafb-b491255f4edc"
      },
      "execution_count": 21,
      "outputs": [
        {
          "output_type": "execute_result",
          "data": {
            "text/plain": [
              "6"
            ]
          },
          "metadata": {},
          "execution_count": 21
        }
      ]
    },
    {
      "cell_type": "markdown",
      "source": [
        "### numpy 스타일의 인덱싱과 슬라이싱"
      ],
      "metadata": {
        "id": "Uh6AU0U9XbQN"
      }
    },
    {
      "cell_type": "code",
      "source": [
        "num3 = np.array([[1,2,3], [4,5,6], [7,8,9]])\n",
        "num3[0,2]"
      ],
      "metadata": {
        "colab": {
          "base_uri": "https://localhost:8080/"
        },
        "id": "9qMeeo6PWtD0",
        "outputId": "5b4ef40c-962d-49c2-d6c9-e8174cd2757f"
      },
      "execution_count": 23,
      "outputs": [
        {
          "output_type": "execute_result",
          "data": {
            "text/plain": [
              "3"
            ]
          },
          "metadata": {},
          "execution_count": 23
        }
      ]
    },
    {
      "cell_type": "code",
      "source": [
        "num3[2,-1]"
      ],
      "metadata": {
        "colab": {
          "base_uri": "https://localhost:8080/"
        },
        "id": "h8KI-YMAWtGv",
        "outputId": "e7f8c5f3-7e36-4b5d-b69c-306599f64cd5"
      },
      "execution_count": 24,
      "outputs": [
        {
          "output_type": "execute_result",
          "data": {
            "text/plain": [
              "9"
            ]
          },
          "metadata": {},
          "execution_count": 24
        }
      ]
    },
    {
      "cell_type": "code",
      "source": [
        "num3"
      ],
      "metadata": {
        "colab": {
          "base_uri": "https://localhost:8080/"
        },
        "id": "Es3qqbpjWtI_",
        "outputId": "3b575e38-4115-4613-92cc-6f2605fcd53b"
      },
      "execution_count": 26,
      "outputs": [
        {
          "output_type": "execute_result",
          "data": {
            "text/plain": [
              "array([[1, 2, 3],\n",
              "       [4, 5, 6],\n",
              "       [7, 8, 9]])"
            ]
          },
          "metadata": {},
          "execution_count": 26
        }
      ]
    },
    {
      "cell_type": "markdown",
      "source": [
        "numpy는 리스트와 달리,numpy의 모든 항복은 동일한 자료형을 가진다.\n",
        "int type의 num3에 float인 1.23을 삽입하면 강제 형변환 되어 1로 바뀐다."
      ],
      "metadata": {
        "id": "h9B0V9jAYTBe"
      }
    },
    {
      "cell_type": "code",
      "source": [
        "num3[2,2] = 1.23\n",
        "num3"
      ],
      "metadata": {
        "colab": {
          "base_uri": "https://localhost:8080/"
        },
        "id": "FiDkfVEUWtLQ",
        "outputId": "3f6149be-38c2-401e-bd36-528a91350bf6"
      },
      "execution_count": 28,
      "outputs": [
        {
          "output_type": "execute_result",
          "data": {
            "text/plain": [
              "array([[1, 2, 3],\n",
              "       [4, 5, 6],\n",
              "       [7, 8, 1]])"
            ]
          },
          "metadata": {},
          "execution_count": 28
        }
      ]
    },
    {
      "cell_type": "code",
      "source": [
        "num3[0:2, 1:3] # 2차원 인덱싱"
      ],
      "metadata": {
        "colab": {
          "base_uri": "https://localhost:8080/"
        },
        "id": "F1TmtlZTWtNb",
        "outputId": "f9986d3d-74a0-40dd-b3c2-0a8ff26acb01"
      },
      "execution_count": 29,
      "outputs": [
        {
          "output_type": "execute_result",
          "data": {
            "text/plain": [
              "array([[2, 3],\n",
              "       [5, 6]])"
            ]
          },
          "metadata": {},
          "execution_count": 29
        }
      ]
    },
    {
      "cell_type": "code",
      "source": [
        "num3[0]"
      ],
      "metadata": {
        "colab": {
          "base_uri": "https://localhost:8080/"
        },
        "id": "j7zd--A8Zz30",
        "outputId": "04623968-f291-41bb-ad85-4026e667ba22"
      },
      "execution_count": 31,
      "outputs": [
        {
          "output_type": "execute_result",
          "data": {
            "text/plain": [
              "array([1, 2, 3])"
            ]
          },
          "metadata": {},
          "execution_count": 31
        }
      ]
    },
    {
      "cell_type": "code",
      "source": [
        "num3[1, 1:3]"
      ],
      "metadata": {
        "colab": {
          "base_uri": "https://localhost:8080/"
        },
        "id": "tipYs-DuZ0BZ",
        "outputId": "a3468120-751b-4b46-a686-13ddef93b73c"
      },
      "execution_count": 32,
      "outputs": [
        {
          "output_type": "execute_result",
          "data": {
            "text/plain": [
              "array([5, 6])"
            ]
          },
          "metadata": {},
          "execution_count": 32
        }
      ]
    },
    {
      "cell_type": "code",
      "source": [
        "num3 = np.array([[ 1,  2,  3,  4], [ 5,  6,  7,  8], [ 9, 10, 11, 12], [13, 14, 15, 16]])\n",
        "num3 # 4행 4열"
      ],
      "metadata": {
        "colab": {
          "base_uri": "https://localhost:8080/"
        },
        "id": "aTdfZjVqbnGq",
        "outputId": "20045517-8199-401e-a921-e2a11a125928"
      },
      "execution_count": 48,
      "outputs": [
        {
          "output_type": "execute_result",
          "data": {
            "text/plain": [
              "array([[ 1,  2,  3,  4],\n",
              "       [ 5,  6,  7,  8],\n",
              "       [ 9, 10, 11, 12],\n",
              "       [13, 14, 15, 16]])"
            ]
          },
          "metadata": {},
          "execution_count": 48
        }
      ]
    },
    {
      "cell_type": "code",
      "source": [
        "num3[::2][::2] # 논리적 오류, 값이 제대로 안나옴"
      ],
      "metadata": {
        "colab": {
          "base_uri": "https://localhost:8080/"
        },
        "id": "XSKXyxm6dnXd",
        "outputId": "b9114eb4-113d-46fd-9772-fd29d4757c22"
      },
      "execution_count": 49,
      "outputs": [
        {
          "output_type": "execute_result",
          "data": {
            "text/plain": [
              "array([[1, 2, 3, 4]])"
            ]
          },
          "metadata": {},
          "execution_count": 49
        }
      ]
    },
    {
      "cell_type": "code",
      "source": [
        "num3[::2, ::2] # numpy식 슬라이싱을 적용했을 경우 오류 안나고 제대로 나옴"
      ],
      "metadata": {
        "colab": {
          "base_uri": "https://localhost:8080/"
        },
        "id": "HuPD1OH9cWmu",
        "outputId": "85a4633e-beaa-4ee5-bd20-8f7b5776a800"
      },
      "execution_count": 50,
      "outputs": [
        {
          "output_type": "execute_result",
          "data": {
            "text/plain": [
              "array([[ 1,  3],\n",
              "       [ 9, 11]])"
            ]
          },
          "metadata": {},
          "execution_count": 50
        }
      ]
    },
    {
      "cell_type": "markdown",
      "source": [
        "### 논리적인 인덱싱"
      ],
      "metadata": {
        "id": "8RpqU8o5fOk8"
      }
    },
    {
      "cell_type": "code",
      "source": [
        "age = np.array([18, 25, 19, 30, 28])\n",
        "y = age >20 # age배열에서 20이상인 것들을 참 거짓으로 인덱싱한다.\n",
        "y"
      ],
      "metadata": {
        "colab": {
          "base_uri": "https://localhost:8080/"
        },
        "id": "jGJOZQWTf77p",
        "outputId": "5cd561a0-aace-49bd-c429-2e2c1b3aa782"
      },
      "execution_count": 51,
      "outputs": [
        {
          "output_type": "execute_result",
          "data": {
            "text/plain": [
              "array([False,  True, False,  True,  True])"
            ]
          },
          "metadata": {},
          "execution_count": 51
        }
      ]
    },
    {
      "cell_type": "code",
      "source": [
        "age[ age > 20 ] # 부울형 배열을 인덱스로 하여 age에 보내면 20이상인것들만 출력된다."
      ],
      "metadata": {
        "colab": {
          "base_uri": "https://localhost:8080/"
        },
        "id": "rAaAV-QRhTme",
        "outputId": "606bc289-c0e0-4802-c269-f21ead288400"
      },
      "execution_count": 53,
      "outputs": [
        {
          "output_type": "execute_result",
          "data": {
            "text/plain": [
              "array([25, 30, 28])"
            ]
          },
          "metadata": {},
          "execution_count": 53
        }
      ]
    },
    {
      "cell_type": "code",
      "source": [
        "age = np.array([[1,2,3], [4,5,6], [7,8,9]]) #2차원 배열에서도 동일하게 적용됨\n",
        "age"
      ],
      "metadata": {
        "colab": {
          "base_uri": "https://localhost:8080/"
        },
        "id": "kqMrPZ4zhTsC",
        "outputId": "2c8cfd4d-85ea-496b-b113-e66b39f067f9"
      },
      "execution_count": 57,
      "outputs": [
        {
          "output_type": "execute_result",
          "data": {
            "text/plain": [
              "array([[1, 2, 3],\n",
              "       [4, 5, 6],\n",
              "       [7, 8, 9]])"
            ]
          },
          "metadata": {},
          "execution_count": 57
        }
      ]
    },
    {
      "cell_type": "code",
      "source": [
        "age > 5 "
      ],
      "metadata": {
        "colab": {
          "base_uri": "https://localhost:8080/"
        },
        "id": "_2qic-XZjUzu",
        "outputId": "06dc15dd-0613-403d-b7a0-8f56e596def6"
      },
      "execution_count": 58,
      "outputs": [
        {
          "output_type": "execute_result",
          "data": {
            "text/plain": [
              "array([[False, False, False],\n",
              "       [False, False,  True],\n",
              "       [ True,  True,  True]])"
            ]
          },
          "metadata": {},
          "execution_count": 58
        }
      ]
    },
    {
      "cell_type": "code",
      "source": [
        "age[ age > 5 ] # 2차원 배열에서 5 이상인것들만 인덱스 형식으로 출력"
      ],
      "metadata": {
        "colab": {
          "base_uri": "https://localhost:8080/"
        },
        "id": "4-KboEgyhT4B",
        "outputId": "4f29a058-1ac7-462f-b206-41c4324c517c"
      },
      "execution_count": 55,
      "outputs": [
        {
          "output_type": "execute_result",
          "data": {
            "text/plain": [
              "array([6, 7, 8, 9])"
            ]
          },
          "metadata": {},
          "execution_count": 55
        }
      ]
    },
    {
      "cell_type": "code",
      "source": [
        "age[ : , 2 ] # 마지막 3번쨰 열에서만 5보다 큰 값을 뽑아내고 싶을떄"
      ],
      "metadata": {
        "colab": {
          "base_uri": "https://localhost:8080/"
        },
        "id": "kNlYd7-siYk-",
        "outputId": "bf7b6332-094b-441c-d6bc-13e6a3944cc5"
      },
      "execution_count": 56,
      "outputs": [
        {
          "output_type": "execute_result",
          "data": {
            "text/plain": [
              "array([3, 6, 9])"
            ]
          },
          "metadata": {},
          "execution_count": 56
        }
      ]
    },
    {
      "cell_type": "code",
      "source": [
        "age[age % 2 == 0] #짝수만 뽑아내고싶을떄"
      ],
      "metadata": {
        "colab": {
          "base_uri": "https://localhost:8080/"
        },
        "id": "WAh792-giYsa",
        "outputId": "d212622b-fb40-4fb1-ff48-066e4bd4c321"
      },
      "execution_count": 59,
      "outputs": [
        {
          "output_type": "execute_result",
          "data": {
            "text/plain": [
              "array([2, 4, 6, 8])"
            ]
          },
          "metadata": {},
          "execution_count": 59
        }
      ]
    },
    {
      "cell_type": "markdown",
      "source": [
        "## numpy의 다양한 함수"
      ],
      "metadata": {
        "id": "RXWIDxNsj5_j"
      }
    }
  ]
}