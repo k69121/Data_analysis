{
  "cells": [
    {
      "cell_type": "markdown",
      "metadata": {
        "id": "uUmRw-up14Uu"
      },
      "source": [
        "# **numpy 공부**"
      ]
    },
    {
      "cell_type": "markdown",
      "metadata": {
        "id": "SmxPGwjSJjVH"
      },
      "source": [
        "## numpy 를 사용하는 이유"
      ]
    },
    {
      "cell_type": "markdown",
      "metadata": {
        "id": "_B3EOI-OKlMu"
      },
      "source": [
        "1. 리스트 보다 연산이 빠르다.\n",
        "2. 대용량의 배열과 행렬 연산을 빠르게 수행할수있다.\n",
        "3. 고차원적인 수학 연산자와 함수를 포함하고 있다.\n",
        "4. 데이터 분석을 위한 패키지인 pands나 기계학습을 위한 \n",
        "scikit-learn, tensorflow등이 넘파이 위에서 작동한다."
      ]
    },
    {
      "cell_type": "markdown",
      "metadata": {
        "id": "pga7Kv2pJt0R"
      },
      "source": [
        "## numpy 연산"
      ]
    },
    {
      "cell_type": "code",
      "execution_count": 4,
      "metadata": {
        "id": "vA06WaRJ17ZO"
      },
      "outputs": [],
      "source": [
        "import numpy as np\n",
        "import pandas as pd\n",
        "\n",
        "a= np.array([1,2,3])\n",
        "b = np.array([3,4,5])"
      ]
    },
    {
      "cell_type": "code",
      "execution_count": 5,
      "metadata": {
        "colab": {
          "base_uri": "https://localhost:8080/"
        },
        "id": "Y86PKq_CMBbW",
        "outputId": "6c389e46-13bf-4555-d782-166fa9e6477b"
      },
      "outputs": [
        {
          "data": {
            "text/plain": [
              "array([4, 6, 8])"
            ]
          },
          "execution_count": 5,
          "metadata": {},
          "output_type": "execute_result"
        }
      ],
      "source": [
        "a+b # 다른 연산들도 동일함"
      ]
    },
    {
      "cell_type": "code",
      "execution_count": 6,
      "metadata": {
        "colab": {
          "base_uri": "https://localhost:8080/"
        },
        "id": "kcz06Dq1MSd7",
        "outputId": "bc3f007f-2831-414c-f875-52d84af2e5d1"
      },
      "outputs": [
        {
          "data": {
            "text/plain": [
              "array([110, 210, 310])"
            ]
          },
          "execution_count": 6,
          "metadata": {},
          "output_type": "execute_result"
        }
      ],
      "source": [
        "num = np.array([100,200,300])\n",
        "num += 10 # 모든 요소에 10씩 더함\n",
        "num # 다은 연산들도 동일함"
      ]
    },
    {
      "cell_type": "markdown",
      "metadata": {
        "id": "raJE1ua-JTIY"
      },
      "source": [
        "## 다차원 배열"
      ]
    },
    {
      "cell_type": "code",
      "execution_count": 7,
      "metadata": {
        "colab": {
          "base_uri": "https://localhost:8080/"
        },
        "id": "9kU0r5U2FOZ1",
        "outputId": "9449185e-56f9-481b-e32d-ff0397e615b8"
      },
      "outputs": [
        {
          "data": {
            "text/plain": [
              "(3,)"
            ]
          },
          "execution_count": 7,
          "metadata": {},
          "output_type": "execute_result"
        }
      ],
      "source": [
        "a = np.array([1,2,3]) # 1차원 배열\n",
        "b = np.array([[1,2,3],[4,5,6]]) # 2차원 배열\n",
        "\n",
        "a.shape # 객체의 형태 "
      ]
    },
    {
      "cell_type": "code",
      "execution_count": 8,
      "metadata": {
        "colab": {
          "base_uri": "https://localhost:8080/"
        },
        "id": "8yD2vrXPUlUA",
        "outputId": "267aea25-9adb-4644-8202-649c7a3b5c2e"
      },
      "outputs": [
        {
          "data": {
            "text/plain": [
              "(2, 3)"
            ]
          },
          "execution_count": 8,
          "metadata": {},
          "output_type": "execute_result"
        }
      ],
      "source": [
        "b.shape"
      ]
    },
    {
      "cell_type": "code",
      "execution_count": 9,
      "metadata": {
        "colab": {
          "base_uri": "https://localhost:8080/"
        },
        "id": "bZaHLWxhfLNR",
        "outputId": "5c652b1d-063a-489e-abbf-4d5c1288beab"
      },
      "outputs": [
        {
          "data": {
            "text/plain": [
              "1"
            ]
          },
          "execution_count": 9,
          "metadata": {},
          "output_type": "execute_result"
        }
      ],
      "source": [
        "a.ndim # 객체의 차원"
      ]
    },
    {
      "cell_type": "code",
      "execution_count": 10,
      "metadata": {
        "colab": {
          "base_uri": "https://localhost:8080/"
        },
        "id": "0XHtTXQ8UrMj",
        "outputId": "60101f5b-182a-4bed-c84a-668be7406f7e"
      },
      "outputs": [
        {
          "data": {
            "text/plain": [
              "2"
            ]
          },
          "execution_count": 10,
          "metadata": {},
          "output_type": "execute_result"
        }
      ],
      "source": [
        "b.ndim"
      ]
    },
    {
      "cell_type": "code",
      "execution_count": 11,
      "metadata": {
        "colab": {
          "base_uri": "https://localhost:8080/"
        },
        "id": "L_72WAn2TfxW",
        "outputId": "60b617d7-5b0b-4656-8127-106d3b50311b"
      },
      "outputs": [
        {
          "data": {
            "text/plain": [
              "dtype('int32')"
            ]
          },
          "execution_count": 11,
          "metadata": {},
          "output_type": "execute_result"
        }
      ],
      "source": [
        "a.dtype # 객체 내부 자료형"
      ]
    },
    {
      "cell_type": "code",
      "execution_count": 12,
      "metadata": {
        "colab": {
          "base_uri": "https://localhost:8080/"
        },
        "id": "6ftQY6k-TmEk",
        "outputId": "a68f1fad-43a8-4e57-dda8-57383fb84fca"
      },
      "outputs": [
        {
          "data": {
            "text/plain": [
              "4"
            ]
          },
          "execution_count": 12,
          "metadata": {},
          "output_type": "execute_result"
        }
      ],
      "source": [
        "a.itemsize # 객체 내부 자료형이 차지하는 메모리 크기(byte)"
      ]
    },
    {
      "cell_type": "code",
      "execution_count": 13,
      "metadata": {
        "colab": {
          "base_uri": "https://localhost:8080/"
        },
        "id": "sWx2wQO-T7VA",
        "outputId": "8e9388b7-c72a-42ee-a45e-96966bc3b431"
      },
      "outputs": [
        {
          "data": {
            "text/plain": [
              "3"
            ]
          },
          "execution_count": 13,
          "metadata": {},
          "output_type": "execute_result"
        }
      ],
      "source": [
        "a.size # 객체의 전체 크기(항목의 수)"
      ]
    },
    {
      "cell_type": "markdown",
      "metadata": {
        "id": "nJmn2H6OU3At"
      },
      "source": [
        "## "
      ]
    },
    {
      "cell_type": "markdown",
      "metadata": {
        "id": "4RAj3xKdVWT4"
      },
      "source": [
        "## 인덱싱 슬라이싱"
      ]
    },
    {
      "cell_type": "code",
      "execution_count": 14,
      "metadata": {
        "colab": {
          "base_uri": "https://localhost:8080/"
        },
        "id": "npOQcsxsVcnT",
        "outputId": "3e025012-416b-47e1-a3b4-e1c9c5d74ce8"
      },
      "outputs": [
        {
          "data": {
            "text/plain": [
              "1"
            ]
          },
          "execution_count": 14,
          "metadata": {},
          "output_type": "execute_result"
        }
      ],
      "source": [
        "num1 = np.array([1, 2, 3, 4, 5 , 6 , 7 , 8 , 9])\n",
        "num1[0] # 0번 자리수 출력"
      ]
    },
    {
      "cell_type": "code",
      "execution_count": 15,
      "metadata": {
        "colab": {
          "base_uri": "https://localhost:8080/"
        },
        "id": "q-sFdEs3VtiD",
        "outputId": "9cda8f67-a20d-4319-ba0c-1460ba8e5711"
      },
      "outputs": [
        {
          "data": {
            "text/plain": [
              "array([1, 2, 3, 4, 5, 6, 7, 8, 9])"
            ]
          },
          "execution_count": 15,
          "metadata": {},
          "output_type": "execute_result"
        }
      ],
      "source": [
        "num1[:] #처음부터 끝까지 출력"
      ]
    },
    {
      "cell_type": "code",
      "execution_count": 16,
      "metadata": {
        "colab": {
          "base_uri": "https://localhost:8080/"
        },
        "id": "UQ-z4Fy1Vtrv",
        "outputId": "67bdc0a1-14ff-4b82-b071-038cc8273431"
      },
      "outputs": [
        {
          "data": {
            "text/plain": [
              "array([3, 4, 5])"
            ]
          },
          "execution_count": 16,
          "metadata": {},
          "output_type": "execute_result"
        }
      ],
      "source": [
        "num1[2:5] # 2번 자리에서부터 5번 자리 직전까지 출력"
      ]
    },
    {
      "cell_type": "code",
      "execution_count": 17,
      "metadata": {
        "colab": {
          "base_uri": "https://localhost:8080/"
        },
        "id": "WBGr315YVtzQ",
        "outputId": "68241200-d6c3-409f-b007-7f5f51f14d35"
      },
      "outputs": [
        {
          "data": {
            "text/plain": [
              "array([8, 7, 6, 5, 4])"
            ]
          },
          "execution_count": 17,
          "metadata": {},
          "output_type": "execute_result"
        }
      ],
      "source": [
        "num1[7:2:-1] # 7번 자리에서부터 2번자리 직전까지 거꾸로 출력"
      ]
    },
    {
      "cell_type": "code",
      "execution_count": 18,
      "metadata": {
        "colab": {
          "base_uri": "https://localhost:8080/"
        },
        "id": "G4D5xVCuVt69",
        "outputId": "31f5e844-944c-4e28-bd13-528f680f53ac"
      },
      "outputs": [
        {
          "data": {
            "text/plain": [
              "array([[1, 2, 3],\n",
              "       [4, 5, 6],\n",
              "       [7, 8, 9]])"
            ]
          },
          "execution_count": 18,
          "metadata": {},
          "output_type": "execute_result"
        }
      ],
      "source": [
        "num2 = np.array([[1, 2, 3],[4, 5, 6],[7, 8, 9]]) # 2차원 배열\n",
        "num2"
      ]
    },
    {
      "cell_type": "code",
      "execution_count": 19,
      "metadata": {
        "colab": {
          "base_uri": "https://localhost:8080/"
        },
        "id": "TUVPU1QcWtBH",
        "outputId": "1a3aeced-9c84-45ef-eafb-b491255f4edc"
      },
      "outputs": [
        {
          "data": {
            "text/plain": [
              "6"
            ]
          },
          "execution_count": 19,
          "metadata": {},
          "output_type": "execute_result"
        }
      ],
      "source": [
        "num2[1][2] # 2차원 배열에서 1행2열의 자리수 출력"
      ]
    },
    {
      "cell_type": "markdown",
      "metadata": {
        "id": "Uh6AU0U9XbQN"
      },
      "source": [
        "### numpy 스타일의 인덱싱과 슬라이싱"
      ]
    },
    {
      "cell_type": "code",
      "execution_count": 20,
      "metadata": {
        "colab": {
          "base_uri": "https://localhost:8080/"
        },
        "id": "9qMeeo6PWtD0",
        "outputId": "5b4ef40c-962d-49c2-d6c9-e8174cd2757f"
      },
      "outputs": [
        {
          "data": {
            "text/plain": [
              "3"
            ]
          },
          "execution_count": 20,
          "metadata": {},
          "output_type": "execute_result"
        }
      ],
      "source": [
        "num3 = np.array([[1,2,3], [4,5,6], [7,8,9]])\n",
        "num3[0,2]"
      ]
    },
    {
      "cell_type": "code",
      "execution_count": 21,
      "metadata": {
        "colab": {
          "base_uri": "https://localhost:8080/"
        },
        "id": "h8KI-YMAWtGv",
        "outputId": "e7f8c5f3-7e36-4b5d-b69c-306599f64cd5"
      },
      "outputs": [
        {
          "data": {
            "text/plain": [
              "9"
            ]
          },
          "execution_count": 21,
          "metadata": {},
          "output_type": "execute_result"
        }
      ],
      "source": [
        "num3[2,-1]"
      ]
    },
    {
      "cell_type": "code",
      "execution_count": 22,
      "metadata": {
        "colab": {
          "base_uri": "https://localhost:8080/"
        },
        "id": "Es3qqbpjWtI_",
        "outputId": "3b575e38-4115-4613-92cc-6f2605fcd53b"
      },
      "outputs": [
        {
          "data": {
            "text/plain": [
              "array([[1, 2, 3],\n",
              "       [4, 5, 6],\n",
              "       [7, 8, 9]])"
            ]
          },
          "execution_count": 22,
          "metadata": {},
          "output_type": "execute_result"
        }
      ],
      "source": [
        "num3"
      ]
    },
    {
      "cell_type": "markdown",
      "metadata": {
        "id": "h9B0V9jAYTBe"
      },
      "source": [
        "numpy는 리스트와 달리,numpy의 모든 항복은 동일한 자료형을 가진다.\n",
        "int type의 num3에 float인 1.23을 삽입하면 강제 형변환 되어 1로 바뀐다."
      ]
    },
    {
      "cell_type": "code",
      "execution_count": 23,
      "metadata": {
        "colab": {
          "base_uri": "https://localhost:8080/"
        },
        "id": "FiDkfVEUWtLQ",
        "outputId": "3f6149be-38c2-401e-bd36-528a91350bf6"
      },
      "outputs": [
        {
          "data": {
            "text/plain": [
              "array([[1, 2, 3],\n",
              "       [4, 5, 6],\n",
              "       [7, 8, 1]])"
            ]
          },
          "execution_count": 23,
          "metadata": {},
          "output_type": "execute_result"
        }
      ],
      "source": [
        "num3[2,2] = 1.23\n",
        "num3"
      ]
    },
    {
      "cell_type": "code",
      "execution_count": 24,
      "metadata": {
        "colab": {
          "base_uri": "https://localhost:8080/"
        },
        "id": "F1TmtlZTWtNb",
        "outputId": "f9986d3d-74a0-40dd-b3c2-0a8ff26acb01"
      },
      "outputs": [
        {
          "data": {
            "text/plain": [
              "array([[2, 3],\n",
              "       [5, 6]])"
            ]
          },
          "execution_count": 24,
          "metadata": {},
          "output_type": "execute_result"
        }
      ],
      "source": [
        "num3[0:2, 1:3] # 2차원 인덱싱"
      ]
    },
    {
      "cell_type": "code",
      "execution_count": 25,
      "metadata": {
        "colab": {
          "base_uri": "https://localhost:8080/"
        },
        "id": "j7zd--A8Zz30",
        "outputId": "04623968-f291-41bb-ad85-4026e667ba22"
      },
      "outputs": [
        {
          "data": {
            "text/plain": [
              "array([1, 2, 3])"
            ]
          },
          "execution_count": 25,
          "metadata": {},
          "output_type": "execute_result"
        }
      ],
      "source": [
        "num3[0]"
      ]
    },
    {
      "cell_type": "code",
      "execution_count": 26,
      "metadata": {
        "colab": {
          "base_uri": "https://localhost:8080/"
        },
        "id": "tipYs-DuZ0BZ",
        "outputId": "a3468120-751b-4b46-a686-13ddef93b73c"
      },
      "outputs": [
        {
          "data": {
            "text/plain": [
              "array([5, 6])"
            ]
          },
          "execution_count": 26,
          "metadata": {},
          "output_type": "execute_result"
        }
      ],
      "source": [
        "num3[1, 1:3]"
      ]
    },
    {
      "cell_type": "code",
      "execution_count": 27,
      "metadata": {
        "colab": {
          "base_uri": "https://localhost:8080/"
        },
        "id": "aTdfZjVqbnGq",
        "outputId": "20045517-8199-401e-a921-e2a11a125928"
      },
      "outputs": [
        {
          "data": {
            "text/plain": [
              "array([[ 1,  2,  3,  4],\n",
              "       [ 5,  6,  7,  8],\n",
              "       [ 9, 10, 11, 12],\n",
              "       [13, 14, 15, 16]])"
            ]
          },
          "execution_count": 27,
          "metadata": {},
          "output_type": "execute_result"
        }
      ],
      "source": [
        "num3 = np.array([[ 1,  2,  3,  4], [ 5,  6,  7,  8], [ 9, 10, 11, 12], [13, 14, 15, 16]])\n",
        "num3 # 4행 4열"
      ]
    },
    {
      "cell_type": "code",
      "execution_count": 28,
      "metadata": {
        "colab": {
          "base_uri": "https://localhost:8080/"
        },
        "id": "XSKXyxm6dnXd",
        "outputId": "b9114eb4-113d-46fd-9772-fd29d4757c22"
      },
      "outputs": [
        {
          "data": {
            "text/plain": [
              "array([[1, 2, 3, 4]])"
            ]
          },
          "execution_count": 28,
          "metadata": {},
          "output_type": "execute_result"
        }
      ],
      "source": [
        "num3[::2][::2] # 논리적 오류, 값이 제대로 안나옴"
      ]
    },
    {
      "cell_type": "code",
      "execution_count": 29,
      "metadata": {
        "colab": {
          "base_uri": "https://localhost:8080/"
        },
        "id": "HuPD1OH9cWmu",
        "outputId": "85a4633e-beaa-4ee5-bd20-8f7b5776a800"
      },
      "outputs": [
        {
          "data": {
            "text/plain": [
              "array([[ 1,  3],\n",
              "       [ 9, 11]])"
            ]
          },
          "execution_count": 29,
          "metadata": {},
          "output_type": "execute_result"
        }
      ],
      "source": [
        "num3[::2, ::2] # numpy식 슬라이싱을 적용했을 경우 오류 안나고 제대로 나옴"
      ]
    },
    {
      "cell_type": "markdown",
      "metadata": {
        "id": "8RpqU8o5fOk8"
      },
      "source": [
        "### 논리적인 인덱싱"
      ]
    },
    {
      "cell_type": "code",
      "execution_count": 30,
      "metadata": {
        "colab": {
          "base_uri": "https://localhost:8080/"
        },
        "id": "jGJOZQWTf77p",
        "outputId": "5cd561a0-aace-49bd-c429-2e2c1b3aa782"
      },
      "outputs": [
        {
          "data": {
            "text/plain": [
              "array([False,  True, False,  True,  True])"
            ]
          },
          "execution_count": 30,
          "metadata": {},
          "output_type": "execute_result"
        }
      ],
      "source": [
        "age = np.array([18, 25, 19, 30, 28])\n",
        "y = age >20 # age배열에서 20이상인 것들을 참 거짓으로 인덱싱한다.\n",
        "y"
      ]
    },
    {
      "cell_type": "code",
      "execution_count": 31,
      "metadata": {
        "colab": {
          "base_uri": "https://localhost:8080/"
        },
        "id": "rAaAV-QRhTme",
        "outputId": "606bc289-c0e0-4802-c269-f21ead288400"
      },
      "outputs": [
        {
          "data": {
            "text/plain": [
              "array([25, 30, 28])"
            ]
          },
          "execution_count": 31,
          "metadata": {},
          "output_type": "execute_result"
        }
      ],
      "source": [
        "age[ age > 20 ] # 부울형 배열을 인덱스로 하여 age에 보내면 20이상인것들만 출력된다."
      ]
    },
    {
      "cell_type": "code",
      "execution_count": 32,
      "metadata": {
        "colab": {
          "base_uri": "https://localhost:8080/"
        },
        "id": "kqMrPZ4zhTsC",
        "outputId": "2c8cfd4d-85ea-496b-b113-e66b39f067f9"
      },
      "outputs": [
        {
          "data": {
            "text/plain": [
              "array([[1, 2, 3],\n",
              "       [4, 5, 6],\n",
              "       [7, 8, 9]])"
            ]
          },
          "execution_count": 32,
          "metadata": {},
          "output_type": "execute_result"
        }
      ],
      "source": [
        "age = np.array([[1,2,3], [4,5,6], [7,8,9]]) #2차원 배열에서도 동일하게 적용됨\n",
        "age"
      ]
    },
    {
      "cell_type": "code",
      "execution_count": 33,
      "metadata": {
        "colab": {
          "base_uri": "https://localhost:8080/"
        },
        "id": "_2qic-XZjUzu",
        "outputId": "06dc15dd-0613-403d-b7a0-8f56e596def6"
      },
      "outputs": [
        {
          "data": {
            "text/plain": [
              "array([[False, False, False],\n",
              "       [False, False,  True],\n",
              "       [ True,  True,  True]])"
            ]
          },
          "execution_count": 33,
          "metadata": {},
          "output_type": "execute_result"
        }
      ],
      "source": [
        "age > 5 "
      ]
    },
    {
      "cell_type": "code",
      "execution_count": 34,
      "metadata": {
        "colab": {
          "base_uri": "https://localhost:8080/"
        },
        "id": "4-KboEgyhT4B",
        "outputId": "4f29a058-1ac7-462f-b206-41c4324c517c"
      },
      "outputs": [
        {
          "data": {
            "text/plain": [
              "array([6, 7, 8, 9])"
            ]
          },
          "execution_count": 34,
          "metadata": {},
          "output_type": "execute_result"
        }
      ],
      "source": [
        "age[ age > 5 ] # 2차원 배열에서 5 이상인것들만 인덱스 형식으로 출력"
      ]
    },
    {
      "cell_type": "code",
      "execution_count": 35,
      "metadata": {
        "colab": {
          "base_uri": "https://localhost:8080/"
        },
        "id": "kNlYd7-siYk-",
        "outputId": "bf7b6332-094b-441c-d6bc-13e6a3944cc5"
      },
      "outputs": [
        {
          "data": {
            "text/plain": [
              "array([3, 6, 9])"
            ]
          },
          "execution_count": 35,
          "metadata": {},
          "output_type": "execute_result"
        }
      ],
      "source": [
        "age[ : , 2 ] # 마지막 3번쨰 열에서만 5보다 큰 값을 뽑아내고 싶을떄"
      ]
    },
    {
      "cell_type": "code",
      "execution_count": 36,
      "metadata": {
        "colab": {
          "base_uri": "https://localhost:8080/"
        },
        "id": "WAh792-giYsa",
        "outputId": "d212622b-fb40-4fb1-ff48-066e4bd4c321"
      },
      "outputs": [
        {
          "data": {
            "text/plain": [
              "array([2, 4, 6, 8])"
            ]
          },
          "execution_count": 36,
          "metadata": {},
          "output_type": "execute_result"
        }
      ],
      "source": [
        "age[age % 2 == 0] #짝수만 뽑아내고싶을떄"
      ]
    },
    {
      "cell_type": "markdown",
      "metadata": {
        "id": "RXWIDxNsj5_j"
      },
      "source": [
        "## numpy의 다양한 함수"
      ]
    },
    {
      "cell_type": "markdown",
      "metadata": {},
      "source": [
        "arange()\n",
        "특정한 범위의 정수를 가지는 numpy 배열을 쉽게 만들수 있다.\n",
        "numpy.arange(start, stop, step) 의 형태로 사용\n",
        "start: 시작할떄 값, 생략시 0\n",
        "stop: 멈출떄, 생략 불가\n",
        "step: 생성 간격, 생략시 1"
      ]
    },
    {
      "cell_type": "code",
      "execution_count": 37,
      "metadata": {},
      "outputs": [
        {
          "data": {
            "text/plain": [
              "array([0, 1, 2, 3, 4])"
            ]
          },
          "execution_count": 37,
          "metadata": {},
          "output_type": "execute_result"
        }
      ],
      "source": [
        "np.arange(5)"
      ]
    },
    {
      "cell_type": "code",
      "execution_count": 38,
      "metadata": {},
      "outputs": [
        {
          "data": {
            "text/plain": [
              "array([1, 2, 3, 4, 5])"
            ]
          },
          "execution_count": 38,
          "metadata": {},
          "output_type": "execute_result"
        }
      ],
      "source": [
        "np.arange(1, 6)"
      ]
    },
    {
      "cell_type": "code",
      "execution_count": 39,
      "metadata": {},
      "outputs": [
        {
          "data": {
            "text/plain": [
              "array([1, 3, 5, 7, 9])"
            ]
          },
          "execution_count": 39,
          "metadata": {},
          "output_type": "execute_result"
        }
      ],
      "source": [
        "np.arange(1,10,2)"
      ]
    },
    {
      "cell_type": "markdown",
      "metadata": {},
      "source": [
        "linspace()"
      ]
    }
  ],
  "metadata": {
    "accelerator": "GPU",
    "colab": {
      "name": "pandas",
      "provenance": [],
      "toc_visible": true
    },
    "kernelspec": {
      "display_name": "Python 3",
      "name": "python3"
    },
    "language_info": {
      "codemirror_mode": {
        "name": "ipython",
        "version": 3
      },
      "file_extension": ".py",
      "mimetype": "text/x-python",
      "name": "python",
      "nbconvert_exporter": "python",
      "pygments_lexer": "ipython3",
      "version": "3.8.11"
    }
  },
  "nbformat": 4,
  "nbformat_minor": 0
}
